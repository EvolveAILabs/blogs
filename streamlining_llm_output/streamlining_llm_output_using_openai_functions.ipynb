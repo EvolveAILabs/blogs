{
 "cells": [
  {
   "cell_type": "markdown",
   "id": "38c7bc9d",
   "metadata": {},
   "source": [
    "# Streamlining Gen AI: How to structure LLM Output using OpenAI Functions\n",
    "\n",
    "LLM's are increasingly becoming part of intelligent automation pipelines called Agentic Pipelines. Automation of tasks usually involves integration between many applications of which the Large Language model is one. All applications inside the integration should follow common standards of structured communication like json. Since LLMs are text generation tools, it becomes important for Generative AI developers to impart structure to LLM output which is unstructured. \n",
    "\n",
    "In this tutorial, we will show how users can get LLM to output in json format which is the most widely accepted format for integration between applications. The usecase we will showcase in this tutorial involves extracting entities from legal documents which can be uploaded to a data lake or a management software."
   ]
  },
  {
   "cell_type": "markdown",
   "id": "64f56353",
   "metadata": {},
   "source": [
    "### Installing dependencies\n",
    "\n",
    "Installing all the libraries needed for this tutorial."
   ]
  },
  {
   "cell_type": "code",
   "execution_count": 2,
   "id": "f0797abc",
   "metadata": {},
   "outputs": [],
   "source": [
    "#!pip install openai datasets pydantic"
   ]
  },
  {
   "cell_type": "markdown",
   "id": "ef89e64d",
   "metadata": {},
   "source": [
    "### Dataset\n",
    "For this tutorial, we will be using the [Australian Open Legal corpus](https://huggingface.co/datasets/umarbutler/open-australian-legal-corpus) from Umar Butler. \n",
    "\n",
    "We will use the stream option as the dataset is quite large to download. Streaming the dataset allows us to use only the fraction of dataset that we actually need."
   ]
  },
  {
   "cell_type": "code",
   "execution_count": 18,
   "id": "5837e5d9",
   "metadata": {},
   "outputs": [
    {
     "data": {
      "text/plain": [
       "10"
      ]
     },
     "execution_count": 18,
     "metadata": {},
     "output_type": "execute_result"
    }
   ],
   "source": [
    "from datasets import load_dataset\n",
    "corpus = load_dataset('umarbutler/open-australian-legal-corpus', split='corpus', streaming=True)\n",
    "cases_filtered = list(corpus.take(10))\n",
    "len(cases_filtered)"
   ]
  },
  {
   "cell_type": "markdown",
   "id": "cfd442a3",
   "metadata": {},
   "source": [
    "Here's how the case documentation looks like."
   ]
  },
  {
   "cell_type": "code",
   "execution_count": 58,
   "id": "e6bc52d8",
   "metadata": {},
   "outputs": [
    {
     "name": "stdout",
     "output_type": "stream",
     "text": [
      "{'version_id': 'nsw_caselaw:54a640013004de94513dcb0b', 'type': 'decision', 'jurisdiction': 'new_south_wales', 'source': 'nsw_caselaw', 'citation': 'R v Dickson (No 15) [2014] NSWSC 1861', 'url': 'https://www.caselaw.nsw.gov.au/decision/54a640013004de94513dcb0b', 'when_scraped': '2024-05-16T23:59:44.965193+10:00', 'text': 'Supreme Court\\nNew South Wales\\n\\nMedium Neutral Citation:  R v Dickson (No 15) [2014] NSWSC 1861                                                                                                          \\nHearing dates:            16 December 2014                                                                                                                               \\nDecision date:            16 December 2014                                                                                                                               \\nJurisdiction:             Common Law                                                                                                                                     \\nBefore:                   Beech-Jones J                                                                                                                                  \\nDecision:                 Applications by the accused for further directions rejected.                                                                                   \\nCatchwords:               CRIMINAL LAW - question arising as to the causal element in the various counts - challenge to listing of the conduct of each of the co-accsued.\\nLegislation Cited:        - Criminal Code (Cth), s 135.4, s 135.5                                                                                                        \\nCases Cited:              --                                                                                                                                             \\nTexts Cited:              --                                                                                                                                             \\nCategory:                 Procedural and other rulings                                                                                                                   \\nParties:                  Crown (Commonwealth Prosecutor)                                                                                                                \\n                          Anthony James Dickson (Accused (12/140639))                                                                                                    \\nFile Number(s):           2012/140639                                                                                                                                    \\n\\n\\nEX TEMPORE JUDGMENT\\n\\nApplications by defendant in respect of the summing-up (ref T279)\\n1. Shortly after the jury adjourned for lunch today senior counsel for the accused Mr Gross QC made a couple of applications in respect of the course of the summing-up so far. The first concerned Count 1. His application was that the jury be directed in respect of Count 1 that to be satisfied of elements 2.3 and 2.4 as set out in the written directions given to the jury they had to be satisfied beyond reasonable doubt that all three assignment agreements were a sham. He contrasted that with the fact that a direction to that effect was being given in relation to Counts 2 to 5. The effect of the submission was that there was a causal element in Count 1 that was not relevantly different to Counts 2 to 5. I reject that application.\\n2. In my view there is a significant difference between Count 1 and Counts 2 to 5 on this issue. Counts 2 to 5 require the jury to be satisfied beyond reasonable doubt that the conduct of Mr Dickson \"caused a risk of loss to the Commonwealth\". It is apparent from those words that there is a causal nexus that has to be established. During submissions some time ago it eventually came to be accepted that to meet that causal element of Counts 2 to 5 the Crown would, at a minimum, have to demonstrate that all three assignment agreements for Counts 3 to 5, and two of them for Count 2 were, in effect, shams. However Count 1 is a charge under s 135.4(5) of the Criminal Code (Cth) and that does not contain the word \"caused\". It is a conspiracy count. It is directed to a person conspiring with another person \"to dishonestly cause a loss\". As such it is directed to what the alleged co-conspirators agreed would be the intended result of their actions and does not require as an amount of proof that their actions in fact achieved the desired result.\\n3. This is reinforced by s 135.5(10) which provides that a person may be found guilty of an offence under this section, including s 135.4(5), even though the obtaining of the gain was impossible. Accordingly I decline to give the further direction sought by Mr Gross QC.\\n4. A related complaint of Mr Gross QC was that the directions are currently apt to confuse. The current position is that because the Crown case on Count 1 is circumstantial the jury have been directed that before finding the accused guilty they have to be satisfied beyond reasonable doubt that at least one of the agreements was a sham and be unanimous about which one. That position was arrived at during debate some weeks ago and is directed to how a jury would reason in a circumstantial case to arrive at a conclusion that the accused and Mr Issakidis reached the agreement in [2.1] of the written directions. Thus this submission elides the fact that the circumstantial direction concerns the manner of proof of the element in 2.1 with what is required by 2.3 and 2.4 which concern causation.\\n5. The second point raised by Mr Gross QC was a general objection to that part of the summing-up in which I had listed the conduct that emerged from the Crown\\'s address that it said it had proved in respect of Mr Dickson and Mr Issakidis. He submitted that it was somehow unduly prejudicial to the accused. The listing of the conduct said to have been proved in respect of each of Mr Dickson and Mr Issakidis occurred at two points in the summing-up. The first was at the point of which I was giving the jury an explanation in relation to Count 1 of the manner in which the Crown seeks to prove the existence of the alleged conspiracy, and in particular the agreement that is referred to in [2.1] of written directions to the jury. By reference to an index that has also been handed out to the jury this arose in Part 3 of the summing-up. Similarly in dealing with Count 6 and explaining how the Crown sought to prove the agreement that was the subject of the conspiracy for that count I also listed certain instances of conduct relied on by the Crown in relation to both Mr Dickson and Mr Issakidis. The other part in the summing-up in which the conduct was listed was section 4.19 when the jury were given a list of the circumstances relied on by the Crown as part of a direction on circumstantial evidence.\\n6. In my view a direction to the jury on conspiracy which does not attempt to isolate the conduct of each alleged co-conspirator relied upon by the Crown to draw the inference of an agreement is a waste of time. Similarly there is little utility in giving the jury a direction on circumstantial evidence if the jury are not told what the circumstances relied on by the Crown are. The fact that the number of circumstances in respect of each accused is in double figures is simply a product of the fact that this is a long trial. The jury were repeatedly told that they were simply the matters the Crown said that they had proved and that they were denied by the accused. The listing of the conduct of each of the alleged co-conspirators at those points in the summing-up was necessitated by the very direction that was being given.\\n7. The last point raised by Mr Gross QC concerned some aspects of the summing-up had not properly put the Crown case. That is best dealt with at the conclusion of the summing-up.\\n\\n**********\\n\\nAmendments\\n13 September 2018 - coversheet - publication restriction notation removed\\nDISCLAIMER - Every effort has been made to comply with suppression orders or statutory provisions prohibiting publication that may apply to this judgment or decision. The onus remains on any person using material in the judgment or decision to ensure that the intended use of that material does not breach any such order or provision. Further enquiries may be directed to the Registry of the Court or Tribunal in which it was generated.\\nDecision last updated: 13 September 2018'}\n"
     ]
    }
   ],
   "source": [
    "print(cases_filtered[0])"
   ]
  },
  {
   "cell_type": "code",
   "execution_count": 26,
   "id": "a4bceb34",
   "metadata": {},
   "outputs": [
    {
     "name": "stdout",
     "output_type": "stream",
     "text": [
      "---------------------------------------------------------------------------------------------------- \n",
      " Supreme Court\n",
      "New South Wales\n",
      "\n",
      "Medium Neutral Citation:  R v Dickson (No 15) [2014] NSWSC 1861                                                                                                          \n",
      "Hearing dates:            16 December 2014                                                                                                                               \n",
      "Decision date:            16 December 2014                                                                                                                               \n",
      "Jurisdiction:             Common Law                                                                                                                                     \n",
      "Before:                   Beech-Jones J                                                                                                                                  \n",
      "Decision:                 Applications by the accused for further directions rejected.                                 \n",
      "---------------------------------------------------------------------------------------------------- \n",
      " Civil and Administrative Tribunal\n",
      "New South Wales\n",
      "Medium Neutral Citation:  Balachandren v Wu [2015] NSWCATAP 1                      \n",
      "Hearing dates:            Not Applicable. Appeal determined on the papers          \n",
      "Date of orders:           14 January 2015                                          \n",
      "Decision date:            14 January 2015                                          \n",
      "Jurisdiction:             Appeal Panel                                             \n",
      "Before:                   D Patten, Principal Member                               \n",
      "                          R C Titterton, Principal Member                          \n",
      "Decision:                 Extension of time in which to commence the appeal granted\n",
      "                          Leave to appeal refused                                  \n",
      "                          Appeal dismissed                                         \n",
      "                          Stay of orders lifted                                    \n",
      "Catchwords:               \n",
      "---------------------------------------------------------------------------------------------------- \n",
      " District Court\n",
      "New South Wales\n",
      "\n",
      "Medium Neutral Citation:  R v Husan Hasanovic [2020] NSWDC 40                                                                                                                                                                                                                                                                                                                                                                                     \n",
      "Hearing dates:            21 February 2020                                                                                                                                                                                                                                                                                                                                                                                                        \n",
      "Date of orders:           21 February 2020                                                        \n"
     ]
    }
   ],
   "source": [
    "for i in range(3):\n",
    "    print(''.join(['-']*100),'\\n',cases_filtered[i]['text'][0:1000])"
   ]
  },
  {
   "cell_type": "markdown",
   "id": "db2cc6dc",
   "metadata": {},
   "source": [
    "### LLM\n",
    "\n",
    "For this tutorial, we will be using [GPT 3.5](https://platform.openai.com/docs/models/gpt-3-5-turbo) from OpenAI as our large language model. We will use API token for authentication to OpenAI for which we need to create an `OPENAI_API_KEY` environment variable."
   ]
  },
  {
   "cell_type": "code",
   "execution_count": 36,
   "id": "ba9d9d8b",
   "metadata": {},
   "outputs": [],
   "source": [
    "import os\n",
    "assert os.environ.get(\"OPENAI_API_KEY\") is not None"
   ]
  },
  {
   "cell_type": "markdown",
   "id": "3f9e12c8",
   "metadata": {},
   "source": [
    "## Prompt Engineering\n",
    "In the following cells, we will show how we can use Prompt Engineering to set a structure to the output from the LLM. The advantage of this method is that it requires <font color='green'><b><u>fewer lines of code</u></b></font> but the disadvantage is the <font color='red'><b><u>stability and reproducibility of the output</u></b></font>. "
   ]
  },
  {
   "cell_type": "markdown",
   "id": "ba2361d0",
   "metadata": {},
   "source": [
    "In the below cell, we authenticate with the OpenAI API and create a function that ingests free flowing text from a legal case report and uses the GPT 3.5 model to extract entities that we will be using to integrate with downstream applications like a database or a case management software that supports json."
   ]
  },
  {
   "cell_type": "code",
   "execution_count": 57,
   "id": "c8493c1e",
   "metadata": {},
   "outputs": [
    {
     "name": "stdout",
     "output_type": "stream",
     "text": [
      "{\n",
      "    \"court\": \"Land and Environment Court of New South Wales\",\n",
      "    \"judge\": \"Hussey C\",\n",
      "    \"dates\": [\"06/04/2006\", \"22/05/2006\", \"06/09/2006\"],\n",
      "    \"defendant\": \"Fairfield City Council\",\n",
      "    \"plaintiff\": \"Poppets Child Care Centre\",\n",
      "    \"decision\": \"The appeal is dismissed. Development application (1300/2005) for the construction and operation of a 68 place childcare centre at 18 Edensor Road, Cabramatta West, is refused.\",\n",
      "    \"summary\": \"The appeal was lodged against council\\u2019s deemed refusal of a development application for a childcare centre to accommodate 68 children. The primary issue was the size, scale, and amenity impacts of the development in its residential context, relative to the provisions of DCP 39.\",\n",
      "    \"legal_representatives\": {\n",
      "        \"plaintiff\": {\n",
      "            \"name\": \"Mr S Kondilios\",\n",
      "            \"solicitor\": \"Maddocks\"\n",
      "        },\n",
      "        \"defendant\": {\n",
      "            \"name\": \"Mr J Hewitt\",\n",
      "            \"solicitor\": \"Home Wilkson Lowry\"\n",
      "        }\n",
      "    }\n",
      "}\n"
     ]
    }
   ],
   "source": [
    "from openai import OpenAI\n",
    "client = OpenAI()\n",
    "\n",
    "def extract_legal_entities(case_doc):\n",
    "    completion = client.chat.completions.create(\n",
    "      model=\"gpt-3.5-turbo\",\n",
    "      messages=[\n",
    "        {\"role\": \"system\", \"content\": \"You are an AI assistant, skilled in extracting \\\n",
    "         entities from legal documentation and returning them as a python json object.\\\n",
    "         Do not return as a code block.\"},\n",
    "        {\"role\": \"user\", \"content\": \"Extract the data from the case documentation enclosed in triple quotes. \\\n",
    "        If a value is not present, provide null. Use the following structure: \\\n",
    "        {\\\"court\\\": , \\\"judge\\\": \\ , \\\"dates\\\": [] , \\\"defendant\\\": \\, \\\"plaintiff\\\": , \\\n",
    "         \\\"decision\\\": , \\\"summary\\\": ,} \\n \\n '''\" + case_doc + \"'''\"}\n",
    "      ],\n",
    "      seed = 42\n",
    "    )\n",
    "    return completion.choices[0]\n",
    "\n",
    "entities = extract_legal_entities(cases_filtered[3]['text'])\n",
    "print(entities.message.content)"
   ]
  },
  {
   "cell_type": "markdown",
   "id": "f992727d",
   "metadata": {},
   "source": [
    "Let us see how stable the output is. It is quite evident that each output below differs the previous in structure like sometimes the \"judge\" property has a list and sometimes it doesn't. The dates list sometimes has only dates and sometimes it has labels. This instability in the output means a lot of exception handling and programming logic has to be expended to ensure that the result structure can be consumed by the downstream application."
   ]
  },
  {
   "cell_type": "code",
   "execution_count": 61,
   "id": "a8ac1f15",
   "metadata": {},
   "outputs": [
    {
     "name": "stdout",
     "output_type": "stream",
     "text": [
      "{\n",
      "    \"court\": \"Supreme Court New South Wales\",\n",
      "    \"judge\": \"Beech-Jones J\",\n",
      "    \"dates\": [\n",
      "        \"Hearing dates: 16 December 2014\",\n",
      "        \"Decision date: 16 December 2014\"\n",
      "    ],\n",
      "    \"defendant\": \"Anthony James Dickson\",\n",
      "    \"plaintiff\": \"Crown (Commonwealth Prosecutor)\",\n",
      "    \"decision\": \"Applications by the accused for further directions rejected.\",\n",
      "    \"summary\": \"CRIMINAL LAW - question arising as to the causal element in the various counts - challenge to listing of the conduct of each of the co-accused.\"\n",
      "}\n",
      "{\n",
      "    \"court\": \"Civil and Administrative Tribunal New South Wales\",\n",
      "    \"judge\": [\"D Patten, Principal Member\", \"R C Titterton, Principal Member\"],\n",
      "    \"dates\": [\"14 January 2015\"],\n",
      "    \"defendant\": \"Rajayogan Balachandren\",\n",
      "    \"plaintiff\": \"Ray Wu\",\n",
      "    \"decision\": \"Extension of time in which to commence the appeal granted; Leave to appeal refused; Appeal dismissed; Stay of orders lifted\",\n",
      "    \"summary\": \"The appellant sought to appeal from a decision terminating a residential tenancy agreement. The Tribunal's decision was to terminate the agreement due to rental arrears and other outstanding payments. The appellant's appeal, filed out of time, required an extension granted by the Appeal Panel. However, as no question of law was found, leave to appeal was refused and the appeal was dismissed.\"\n",
      "  }\n",
      "{\n",
      "    \"court\": \"District Court New South Wales\",\n",
      "    \"judge\": \"Tupman DCJ\",\n",
      "    \"dates\": [\n",
      "        \"21 February 2020\"\n",
      "    ],\n",
      "    \"defendant\": \"Mr Husan Hasanovic\",\n",
      "    \"plaintiff\": \"The Crown\",\n",
      "    \"decision\": \"Non-parole period of 18 months with parole thereafter of 12 months giving rise to an overall term of imprisonment of 2 years and 6 months\",\n",
      "    \"summary\": \"The defendant pleaded guilty to sexual intercourse with a 12-year-old victim, was found guilty, and sentenced to 2 years and 6 months of imprisonment. The court considered the offender's criminal history, lack of prior sexual offences, substance abuse issues, and the victim impact statement. The offender was warned about the application of the Crimes (High Risk Offenders) Act 2006 and given a non-parole period of 18 months with a parole period of 12 months.\"\n",
      "}\n"
     ]
    }
   ],
   "source": [
    "for i in range(3):\n",
    "    response = extract_legal_entities(cases_filtered[i]['text'])\n",
    "    print(response.message.content)"
   ]
  },
  {
   "cell_type": "markdown",
   "id": "70aa11b6",
   "metadata": {},
   "source": [
    "## OpenAI Function Calling\n",
    "\n",
    "Let us now look at how we can solve the above drawbacks using the OpenAI feature called Function Calling. [Function Calling](https://platform.openai.com/docs/guides/function-calling) allows developers to build LLM workflows to intelligently call functions with arguments. Since the output of function calling is a json object, we can use this feature to impart structure onto LLM output.\n",
    "\n",
    "The first step in using Function Calling is to define schemas of the function and its parameters. After that, we have to pass the schema to the completion object and force the LLM to choose a function so that it can pass parameters to it. But, in reality the parameter values are the outputs that we want."
   ]
  },
  {
   "cell_type": "code",
   "execution_count": 64,
   "id": "81787797",
   "metadata": {},
   "outputs": [],
   "source": [
    "from pydantic import BaseModel, Field\n",
    "from typing import Optional, List\n",
    "from datetime import date\n",
    "\n",
    "class CaseDates(BaseModel):\n",
    "    hearing_date: date = Field(description=\"Case hearing date\")\n",
    "    decision_date: date = Field(description=\"Date of final decision if available, if unavailable then Null\")\n",
    "\n",
    "class GenerateCaseSummaryParams(BaseModel):\n",
    "    court: str = Field(description=\"Name of the court for the case proceedings\")\n",
    "    judge: str = Field(description=\"Name of the judge presiding the case\")\n",
    "    dates: List[CaseDates] = Field(description=\"Details of hearing and decision dates of the case\")\n",
    "    defendant: str = Field(description=\"Name of the defendant in the case\")\n",
    "    plaintiff: str = Field(description=\"Name of the plaintiff in the case\")\n",
    "    decision: str = Field(description=\"Final decision of the case if available, else Null\")\n",
    "    summary: str = Field(description=\"100 word summary of the case with key points of the case\")\n",
    "        \n",
    "tool_definitions = [  \n",
    "    {\n",
    "        \"type\": \"function\",\n",
    "        \"function\":{\n",
    "            \"name\": \"generate_case_summary\",\n",
    "            \"description\": \"Generates a legal case summary for uploading to the case management software\",\n",
    "            \"parameters\": GenerateCaseSummaryParams.model_json_schema()\n",
    "        },\n",
    "        \"required\": [\"court\", \"judge\", \"dates\", \"defendant\", \"plaintiff\", \"decision\", \"summary\"]\n",
    "    }\n",
    "]"
   ]
  },
  {
   "cell_type": "markdown",
   "id": "53a37d4e",
   "metadata": {},
   "source": [
    "Let us update our llm completion function to include the function calling we designed."
   ]
  },
  {
   "cell_type": "code",
   "execution_count": 65,
   "id": "b0e41e79",
   "metadata": {},
   "outputs": [],
   "source": [
    "def extract_legal_entities_fc(case_doc):\n",
    "    completion = client.chat.completions.create(\n",
    "      model=\"gpt-3.5-turbo\",\n",
    "      messages=[\n",
    "        {\"role\": \"system\", \"content\": \"Generate the case summary for the following case '''\" + case_doc + \"'''\"}\n",
    "      ],\n",
    "      seed = 42,\n",
    "      tools=tool_definitions,\n",
    "      tool_choice={\"type\": \"function\", \"function\": {\"name\": \"generate_case_summary\"}}\n",
    "    )\n",
    "    return completion.choices[0]"
   ]
  },
  {
   "cell_type": "markdown",
   "id": "144c190f",
   "metadata": {},
   "source": [
    "As you can see below, each output is a well defined and expected json structure which can be used to integrate with downstream applications without many errors or exceptions"
   ]
  },
  {
   "cell_type": "code",
   "execution_count": 76,
   "id": "e66d4240",
   "metadata": {},
   "outputs": [
    {
     "name": "stdout",
     "output_type": "stream",
     "text": [
      "{\n",
      "    \"court\": \"Supreme Court New South Wales\",\n",
      "    \"judge\": \"Beech-Jones J\",\n",
      "    \"dates\": [\n",
      "        {\n",
      "            \"hearing_date\": \"16 December 2014\",\n",
      "            \"decision_date\": \"16 December 2014\"\n",
      "        }\n",
      "    ],\n",
      "    \"defendant\": \"Anthony James Dickson\",\n",
      "    \"plaintiff\": \"Crown (Commonwealth Prosecutor)\",\n",
      "    \"decision\": \"Applications by the accused for further directions rejected.\",\n",
      "    \"summary\": \"In the case of R v Dickson (No 15) [2014] NSWSC 1861, the defendant, Anthony James Dickson, sought further directions in relation to the summing-up of the case. The court rejected the defendant's applications, stating that the causal element in Count 1 differed from Counts 2 to 5, and listing the conduct of each co-accused was necessary for the jury to understand the conspiracy charges.\"\n",
      "}\n",
      "{\n",
      "    \"court\": \"Civil and Administrative Tribunal of New South Wales\",\n",
      "    \"judge\": \"D Patten, R C Titterton\",\n",
      "    \"dates\": [\n",
      "        {\n",
      "            \"hearing_date\": \"Not Applicable\",\n",
      "            \"decision_date\": \"14 January 2015\"\n",
      "        }\n",
      "    ],\n",
      "    \"defendant\": \"Ray Wu\",\n",
      "    \"plaintiff\": \"Rajayogan Balachandren\",\n",
      "    \"decision\": \"Extension of time in which to commence the appeal granted, Leave to appeal refused, Appeal dismissed, Stay of orders lifted\",\n",
      "    \"summary\": \"The case involves an appeal from a decision of the Consumer and Commercial Division of the Tribunal regarding a residential tenancy agreement termination. The appellant sought to appeal out of time, claiming issues with rent arrears, water bills, lease termination, and bond lodging. The respondent denied appellant's claims. The Appeal Panel refused leave to appeal, citing lack of substantial miscarriage of justice, and dismissed the appeal. Orders of the Tribunal were lifted on 14 January 2015.\"\n",
      "}\n",
      "{\n",
      "    \"court\": \"District Court New South Wales\",\n",
      "    \"judge\": \"Tupman DCJ\",\n",
      "    \"dates\": [\n",
      "        {\n",
      "            \"hearing_date\": \"21 February 2020\",\n",
      "            \"decision_date\": \"21 February 2020\"\n",
      "        }\n",
      "    ],\n",
      "    \"defendant\": \"Mr Husan Hasanovic\",\n",
      "    \"plaintiff\": \"The Crown\",\n",
      "    \"decision\": \"Non-parole period of 18 months with parole thereafter of 12 months giving rise to an overall term of imprisonment of 2 years and 6 months. Form 1 taken into account.\",\n",
      "    \"summary\": \"Mr. Husan Hasanovic pleaded guilty to sexual intercourse with a 12-year-old victim. The offender, 27, assaulted the victim after meeting her at a train station, where he took her to his house and committed the offences. The victim reported the assault to her boyfriend and mother. The offender had a lengthy criminal history but no prior sexual offences. The court acknowledged the traumatic impact on the victim and sentenced the offender to 2 years and 6 months in prison with conditions for rehabilitation.\"\n",
      "}\n"
     ]
    }
   ],
   "source": [
    "for i in range(3):\n",
    "    response = extract_legal_entities_fc(cases_filtered[i]['text'])\n",
    "    print(json.dumps(json.loads(response.message.tool_calls[0].function.arguments), indent=4))"
   ]
  },
  {
   "cell_type": "markdown",
   "id": "adedf8fa",
   "metadata": {},
   "source": [
    "### Conclusion\n",
    "\n",
    "With the above examples, we have shown different ways of imparting structure to LLM outputs and the advantages of each method. Langchain also provides function/tool calling if you are interested in using this for other LLMs."
   ]
  },
  {
   "cell_type": "code",
   "execution_count": null,
   "id": "b3724a60",
   "metadata": {},
   "outputs": [],
   "source": []
  }
 ],
 "metadata": {
  "kernelspec": {
   "display_name": "Python 3 (ipykernel)",
   "language": "python",
   "name": "python3"
  },
  "language_info": {
   "codemirror_mode": {
    "name": "ipython",
    "version": 3
   },
   "file_extension": ".py",
   "mimetype": "text/x-python",
   "name": "python",
   "nbconvert_exporter": "python",
   "pygments_lexer": "ipython3",
   "version": "3.8.15"
  }
 },
 "nbformat": 4,
 "nbformat_minor": 5
}
