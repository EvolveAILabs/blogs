{
  "nbformat": 4,
  "nbformat_minor": 0,
  "metadata": {
    "colab": {
      "provenance": []
    },
    "kernelspec": {
      "name": "python3",
      "display_name": "Python 3"
    },
    "language_info": {
      "name": "python"
    },
    "gpuClass": "standard"
  },
  "cells": [
    {
      "cell_type": "code",
      "execution_count": 1,
      "metadata": {
        "colab": {
          "base_uri": "https://localhost:8080/"
        },
        "id": "7yJT_akgYSK8",
        "outputId": "9b0e12f4-4e3f-4352-8293-92685ecafebe"
      },
      "outputs": [
        {
          "output_type": "stream",
          "name": "stdout",
          "text": [
            "Drive already mounted at /content/drive; to attempt to forcibly remount, call drive.mount(\"/content/drive\", force_remount=True).\n"
          ]
        }
      ],
      "source": [
        "from google.colab import drive\n",
        "drive.mount('/content/drive')"
      ]
    },
    {
      "cell_type": "code",
      "source": [
        "!pip install transformers\n",
        "!pip install permetrics\n",
        "!pip install -U sentence-transformers"
      ],
      "metadata": {
        "colab": {
          "base_uri": "https://localhost:8080/"
        },
        "id": "E5o7G-Rjbx5u",
        "outputId": "87077f6a-e551-4e55-f542-2ca4d728edae"
      },
      "execution_count": 2,
      "outputs": [
        {
          "output_type": "stream",
          "name": "stdout",
          "text": [
            "Looking in indexes: https://pypi.org/simple, https://us-python.pkg.dev/colab-wheels/public/simple/\n",
            "Requirement already satisfied: transformers in /usr/local/lib/python3.9/dist-packages (4.28.1)\n",
            "Requirement already satisfied: numpy>=1.17 in /usr/local/lib/python3.9/dist-packages (from transformers) (1.22.4)\n",
            "Requirement already satisfied: huggingface-hub<1.0,>=0.11.0 in /usr/local/lib/python3.9/dist-packages (from transformers) (0.13.4)\n",
            "Requirement already satisfied: requests in /usr/local/lib/python3.9/dist-packages (from transformers) (2.27.1)\n",
            "Requirement already satisfied: filelock in /usr/local/lib/python3.9/dist-packages (from transformers) (3.11.0)\n",
            "Requirement already satisfied: packaging>=20.0 in /usr/local/lib/python3.9/dist-packages (from transformers) (23.1)\n",
            "Requirement already satisfied: tokenizers!=0.11.3,<0.14,>=0.11.1 in /usr/local/lib/python3.9/dist-packages (from transformers) (0.13.3)\n",
            "Requirement already satisfied: regex!=2019.12.17 in /usr/local/lib/python3.9/dist-packages (from transformers) (2022.10.31)\n",
            "Requirement already satisfied: tqdm>=4.27 in /usr/local/lib/python3.9/dist-packages (from transformers) (4.65.0)\n",
            "Requirement already satisfied: pyyaml>=5.1 in /usr/local/lib/python3.9/dist-packages (from transformers) (6.0)\n",
            "Requirement already satisfied: typing-extensions>=3.7.4.3 in /usr/local/lib/python3.9/dist-packages (from huggingface-hub<1.0,>=0.11.0->transformers) (4.5.0)\n",
            "Requirement already satisfied: certifi>=2017.4.17 in /usr/local/lib/python3.9/dist-packages (from requests->transformers) (2022.12.7)\n",
            "Requirement already satisfied: urllib3<1.27,>=1.21.1 in /usr/local/lib/python3.9/dist-packages (from requests->transformers) (1.26.15)\n",
            "Requirement already satisfied: charset-normalizer~=2.0.0 in /usr/local/lib/python3.9/dist-packages (from requests->transformers) (2.0.12)\n",
            "Requirement already satisfied: idna<4,>=2.5 in /usr/local/lib/python3.9/dist-packages (from requests->transformers) (3.4)\n",
            "Looking in indexes: https://pypi.org/simple, https://us-python.pkg.dev/colab-wheels/public/simple/\n",
            "Requirement already satisfied: permetrics in /usr/local/lib/python3.9/dist-packages (1.3.3)\n",
            "Requirement already satisfied: numpy>=1.15.1 in /usr/local/lib/python3.9/dist-packages (from permetrics) (1.22.4)\n",
            "Looking in indexes: https://pypi.org/simple, https://us-python.pkg.dev/colab-wheels/public/simple/\n",
            "Requirement already satisfied: sentence-transformers in /usr/local/lib/python3.9/dist-packages (2.2.2)\n",
            "Requirement already satisfied: huggingface-hub>=0.4.0 in /usr/local/lib/python3.9/dist-packages (from sentence-transformers) (0.13.4)\n",
            "Requirement already satisfied: sentencepiece in /usr/local/lib/python3.9/dist-packages (from sentence-transformers) (0.1.98)\n",
            "Requirement already satisfied: torch>=1.6.0 in /usr/local/lib/python3.9/dist-packages (from sentence-transformers) (2.0.0+cu118)\n",
            "Requirement already satisfied: torchvision in /usr/local/lib/python3.9/dist-packages (from sentence-transformers) (0.15.1+cu118)\n",
            "Requirement already satisfied: transformers<5.0.0,>=4.6.0 in /usr/local/lib/python3.9/dist-packages (from sentence-transformers) (4.28.1)\n",
            "Requirement already satisfied: scikit-learn in /usr/local/lib/python3.9/dist-packages (from sentence-transformers) (1.2.2)\n",
            "Requirement already satisfied: scipy in /usr/local/lib/python3.9/dist-packages (from sentence-transformers) (1.10.1)\n",
            "Requirement already satisfied: tqdm in /usr/local/lib/python3.9/dist-packages (from sentence-transformers) (4.65.0)\n",
            "Requirement already satisfied: nltk in /usr/local/lib/python3.9/dist-packages (from sentence-transformers) (3.8.1)\n",
            "Requirement already satisfied: numpy in /usr/local/lib/python3.9/dist-packages (from sentence-transformers) (1.22.4)\n",
            "Requirement already satisfied: pyyaml>=5.1 in /usr/local/lib/python3.9/dist-packages (from huggingface-hub>=0.4.0->sentence-transformers) (6.0)\n",
            "Requirement already satisfied: filelock in /usr/local/lib/python3.9/dist-packages (from huggingface-hub>=0.4.0->sentence-transformers) (3.11.0)\n",
            "Requirement already satisfied: requests in /usr/local/lib/python3.9/dist-packages (from huggingface-hub>=0.4.0->sentence-transformers) (2.27.1)\n",
            "Requirement already satisfied: packaging>=20.9 in /usr/local/lib/python3.9/dist-packages (from huggingface-hub>=0.4.0->sentence-transformers) (23.1)\n",
            "Requirement already satisfied: typing-extensions>=3.7.4.3 in /usr/local/lib/python3.9/dist-packages (from huggingface-hub>=0.4.0->sentence-transformers) (4.5.0)\n",
            "Requirement already satisfied: sympy in /usr/local/lib/python3.9/dist-packages (from torch>=1.6.0->sentence-transformers) (1.11.1)\n",
            "Requirement already satisfied: triton==2.0.0 in /usr/local/lib/python3.9/dist-packages (from torch>=1.6.0->sentence-transformers) (2.0.0)\n",
            "Requirement already satisfied: networkx in /usr/local/lib/python3.9/dist-packages (from torch>=1.6.0->sentence-transformers) (3.1)\n",
            "Requirement already satisfied: jinja2 in /usr/local/lib/python3.9/dist-packages (from torch>=1.6.0->sentence-transformers) (3.1.2)\n",
            "Requirement already satisfied: lit in /usr/local/lib/python3.9/dist-packages (from triton==2.0.0->torch>=1.6.0->sentence-transformers) (16.0.1)\n",
            "Requirement already satisfied: cmake in /usr/local/lib/python3.9/dist-packages (from triton==2.0.0->torch>=1.6.0->sentence-transformers) (3.25.2)\n",
            "Requirement already satisfied: tokenizers!=0.11.3,<0.14,>=0.11.1 in /usr/local/lib/python3.9/dist-packages (from transformers<5.0.0,>=4.6.0->sentence-transformers) (0.13.3)\n",
            "Requirement already satisfied: regex!=2019.12.17 in /usr/local/lib/python3.9/dist-packages (from transformers<5.0.0,>=4.6.0->sentence-transformers) (2022.10.31)\n",
            "Requirement already satisfied: joblib in /usr/local/lib/python3.9/dist-packages (from nltk->sentence-transformers) (1.2.0)\n",
            "Requirement already satisfied: click in /usr/local/lib/python3.9/dist-packages (from nltk->sentence-transformers) (8.1.3)\n",
            "Requirement already satisfied: threadpoolctl>=2.0.0 in /usr/local/lib/python3.9/dist-packages (from scikit-learn->sentence-transformers) (3.1.0)\n",
            "Requirement already satisfied: pillow!=8.3.*,>=5.3.0 in /usr/local/lib/python3.9/dist-packages (from torchvision->sentence-transformers) (8.4.0)\n",
            "Requirement already satisfied: MarkupSafe>=2.0 in /usr/local/lib/python3.9/dist-packages (from jinja2->torch>=1.6.0->sentence-transformers) (2.1.2)\n",
            "Requirement already satisfied: urllib3<1.27,>=1.21.1 in /usr/local/lib/python3.9/dist-packages (from requests->huggingface-hub>=0.4.0->sentence-transformers) (1.26.15)\n",
            "Requirement already satisfied: idna<4,>=2.5 in /usr/local/lib/python3.9/dist-packages (from requests->huggingface-hub>=0.4.0->sentence-transformers) (3.4)\n",
            "Requirement already satisfied: certifi>=2017.4.17 in /usr/local/lib/python3.9/dist-packages (from requests->huggingface-hub>=0.4.0->sentence-transformers) (2022.12.7)\n",
            "Requirement already satisfied: charset-normalizer~=2.0.0 in /usr/local/lib/python3.9/dist-packages (from requests->huggingface-hub>=0.4.0->sentence-transformers) (2.0.12)\n",
            "Requirement already satisfied: mpmath>=0.19 in /usr/local/lib/python3.9/dist-packages (from sympy->torch>=1.6.0->sentence-transformers) (1.3.0)\n"
          ]
        }
      ]
    },
    {
      "cell_type": "code",
      "source": [
        "import os\n",
        "import pandas as pd\n",
        "import numpy as np\n",
        "import shutil\n",
        "from PIL import Image"
      ],
      "metadata": {
        "id": "aQiWAOSkapcO"
      },
      "execution_count": 3,
      "outputs": []
    },
    {
      "cell_type": "code",
      "source": [
        "filename = 'petfinder_multimodal_10000.zip'"
      ],
      "metadata": {
        "id": "Bfe-jWEjMVCi"
      },
      "execution_count": 4,
      "outputs": []
    },
    {
      "cell_type": "code",
      "source": [
        "shutil.copy('./drive/MyDrive/aj_blogs/multimodal/'+filename, \n",
        "            './'+filename)"
      ],
      "metadata": {
        "colab": {
          "base_uri": "https://localhost:8080/",
          "height": 35
        },
        "id": "7RgWlDxJa5Bd",
        "outputId": "b572a890-98f3-4daf-9444-bacf5fe3bfd1"
      },
      "execution_count": 5,
      "outputs": [
        {
          "output_type": "execute_result",
          "data": {
            "text/plain": [
              "'./petfinder_multimodal_10000.zip'"
            ],
            "application/vnd.google.colaboratory.intrinsic+json": {
              "type": "string"
            }
          },
          "metadata": {},
          "execution_count": 5
        }
      ]
    },
    {
      "cell_type": "code",
      "source": [
        "shutil.unpack_archive(filename)"
      ],
      "metadata": {
        "id": "In-1oykmbKgr"
      },
      "execution_count": 6,
      "outputs": []
    },
    {
      "cell_type": "code",
      "source": [
        "df = pd.read_csv('./df_train_10000.csv')\n",
        "# df['Description'] = df.Description.apply(lambda x:' '.join(str(x).split(' ')[0:80]))\n",
        "df.fillna(0, inplace=True)\n",
        "df.info()"
      ],
      "metadata": {
        "colab": {
          "base_uri": "https://localhost:8080/"
        },
        "id": "4Wh55KoHbY-R",
        "outputId": "9b890c0a-cfbe-4723-f768-58ab79c32311"
      },
      "execution_count": 7,
      "outputs": [
        {
          "output_type": "stream",
          "name": "stdout",
          "text": [
            "<class 'pandas.core.frame.DataFrame'>\n",
            "RangeIndex: 5000 entries, 0 to 4999\n",
            "Data columns (total 26 columns):\n",
            " #   Column         Non-Null Count  Dtype  \n",
            "---  ------         --------------  -----  \n",
            " 0   Type           5000 non-null   int64  \n",
            " 1   Name           5000 non-null   object \n",
            " 2   Age            5000 non-null   int64  \n",
            " 3   Breed1         5000 non-null   int64  \n",
            " 4   Breed2         5000 non-null   int64  \n",
            " 5   Gender         5000 non-null   int64  \n",
            " 6   Color1         5000 non-null   int64  \n",
            " 7   Color2         5000 non-null   int64  \n",
            " 8   Color3         5000 non-null   int64  \n",
            " 9   MaturitySize   5000 non-null   int64  \n",
            " 10  FurLength      5000 non-null   int64  \n",
            " 11  Vaccinated     5000 non-null   int64  \n",
            " 12  Dewormed       5000 non-null   int64  \n",
            " 13  Sterilized     5000 non-null   int64  \n",
            " 14  Health         5000 non-null   int64  \n",
            " 15  Quantity       5000 non-null   int64  \n",
            " 16  Fee            5000 non-null   int64  \n",
            " 17  State          5000 non-null   int64  \n",
            " 18  RescuerID      5000 non-null   object \n",
            " 19  VideoAmt       5000 non-null   int64  \n",
            " 20  Description    5000 non-null   object \n",
            " 21  PetID          5000 non-null   object \n",
            " 22  PhotoAmt       5000 non-null   float64\n",
            " 23  AdoptionSpeed  5000 non-null   int64  \n",
            " 24  Desc_len       5000 non-null   int64  \n",
            " 25  image          5000 non-null   object \n",
            "dtypes: float64(1), int64(20), object(5)\n",
            "memory usage: 1015.8+ KB\n"
          ]
        }
      ]
    },
    {
      "cell_type": "code",
      "source": [
        "from sklearn.preprocessing import LabelEncoder\n",
        "le = LabelEncoder()\n",
        "df['RescuerID'] = le.fit_transform(df['RescuerID'])"
      ],
      "metadata": {
        "id": "vIak8UyYKPAz"
      },
      "execution_count": 8,
      "outputs": []
    },
    {
      "cell_type": "code",
      "source": [
        "import torch\n",
        "from transformers import DistilBertTokenizer, DistilBertForSequenceClassification, pipeline, AutoImageProcessor, SwinModel, ResNetForImageClassification\n",
        "from sentence_transformers import SentenceTransformer\n",
        "\n",
        "\n",
        "def get_text_features_archive(texts):\n",
        "  model = \"bert-base-uncased\" #\"prajjwal1/bert-tiny\" ##\n",
        "  feature_extractor = pipeline(\"feature-extraction\", framework=\"pt\", model=model, max_length=500)\n",
        "\n",
        "  feats = feature_extractor(texts, return_tensors = \"pt\", max_length=500)\n",
        "  hf_feats = [feat.numpy().mean(axis=1) for feat in feats]\n",
        "  X_text = np.concatenate(hf_feats,axis=0)\n",
        "  X_text = pd.DataFrame(X_text, columns = ['text_feats_'+str(i) for i in range(X_text.shape[1])])\n",
        "  \n",
        "  return X_text\n",
        "\n",
        "\n",
        "def get_text_features(texts):\n",
        "  model = SentenceTransformer('all-MiniLM-L6-v2')\n",
        "  X_text = model.encode(texts)\n",
        "  X_text = pd.DataFrame(X_text, columns = ['text_feats_'+str(i) for i in range(X_text.shape[1])])\n",
        "  return X_text\n",
        "\n",
        "def get_image_features(files):\n",
        "  result = []\n",
        "  image_processor = AutoImageProcessor.from_pretrained(\"microsoft/swin-tiny-patch4-window7-224\")\n",
        "  model = SwinModel.from_pretrained(\"microsoft/swin-tiny-patch4-window7-224\")\n",
        "\n",
        "  for file in files:\n",
        "      image = Image.open('./images/'+file)\n",
        "      ## fix for grayscale images\n",
        "      if(len(np.array(image).shape)<=2):\n",
        "        image = image.convert('RGB')\n",
        "\n",
        "      inputs = image_processor(image, return_tensors=\"pt\")\n",
        "      with torch.no_grad():\n",
        "          outputs = model(**inputs)\n",
        "          result.append(outputs.last_hidden_state.numpy().mean(axis=1))\n",
        "  X_image = np.concatenate(result,axis=0)\n",
        "  X_image = pd.DataFrame(X_image, columns = ['image_feats_'+str(i) for i in range(X_image.shape[1])])\n",
        "\n",
        "  return X_image\n",
        "\n",
        "def get_image_features_archive(files):\n",
        "  result = []\n",
        "  image_processor = AutoImageProcessor.from_pretrained(\"microsoft/resnet-50\")\n",
        "  model = ResNetForImageClassification.from_pretrained(\"microsoft/resnet-50\")\n",
        "\n",
        "  for file in files:\n",
        "      image = Image.open('./images/'+file)\n",
        "      ## fix for grayscale images\n",
        "      if(len(np.array(image).shape)<=2):\n",
        "        image = image.convert('RGB')\n",
        "\n",
        "      inputs = image_processor(image, return_tensors=\"pt\")\n",
        "      with torch.no_grad():\n",
        "          outputs = model(**inputs)\n",
        "          result.append(outputs.logits)\n",
        "  X_image = np.concatenate(result,axis=0)\n",
        "  X_image = pd.DataFrame(X_image, columns = ['image_feats_'+str(i) for i in range(X_image.shape[1])])\n",
        "\n",
        "  return X_image"
      ],
      "metadata": {
        "id": "9ymG7doVbfiR"
      },
      "execution_count": 9,
      "outputs": []
    },
    {
      "cell_type": "code",
      "source": [
        "X_text = get_text_features(df['Description'].apply(str).tolist())\n",
        "X_text.info()"
      ],
      "metadata": {
        "colab": {
          "base_uri": "https://localhost:8080/"
        },
        "id": "paKip0cnbu7X",
        "outputId": "20c7b3c7-9a11-4a07-e799-c9de7cdf85e7"
      },
      "execution_count": 10,
      "outputs": [
        {
          "output_type": "stream",
          "name": "stdout",
          "text": [
            "<class 'pandas.core.frame.DataFrame'>\n",
            "RangeIndex: 5000 entries, 0 to 4999\n",
            "Columns: 384 entries, text_feats_0 to text_feats_383\n",
            "dtypes: float32(384)\n",
            "memory usage: 7.3 MB\n"
          ]
        }
      ]
    },
    {
      "cell_type": "code",
      "source": [
        "X_text.head()"
      ],
      "metadata": {
        "colab": {
          "base_uri": "https://localhost:8080/",
          "height": 300
        },
        "id": "u72R-mzfcNRu",
        "outputId": "ff721aef-1b7e-423e-e1b2-c94b62687aa7"
      },
      "execution_count": 11,
      "outputs": [
        {
          "output_type": "execute_result",
          "data": {
            "text/plain": [
              "   text_feats_0  text_feats_1  text_feats_2  text_feats_3  text_feats_4  \\\n",
              "0     -0.055864      0.036113     -0.042333      0.040533     -0.002074   \n",
              "1      0.131873     -0.027114      0.072861     -0.013741     -0.078700   \n",
              "2      0.009019      0.001301      0.054341      0.060835     -0.075739   \n",
              "3      0.026912     -0.000056      0.098001      0.017524     -0.018072   \n",
              "4      0.004821      0.042974      0.077345      0.063499     -0.032919   \n",
              "\n",
              "   text_feats_5  text_feats_6  text_feats_7  text_feats_8  text_feats_9  ...  \\\n",
              "0     -0.032626      0.028647     -0.054291     -0.067406      0.018985  ...   \n",
              "1      0.048676      0.016105     -0.070175     -0.046369     -0.024615  ...   \n",
              "2     -0.016929     -0.007254     -0.058762     -0.027672      0.039672  ...   \n",
              "3      0.006380      0.022057      0.018562     -0.109360      0.059209  ...   \n",
              "4      0.017724     -0.040053     -0.020195     -0.082335      0.081807  ...   \n",
              "\n",
              "   text_feats_374  text_feats_375  text_feats_376  text_feats_377  \\\n",
              "0       -0.006435        0.014930        0.018306       -0.016367   \n",
              "1        0.022209        0.035246       -0.020841       -0.075633   \n",
              "2       -0.005494       -0.008231       -0.087117       -0.027242   \n",
              "3       -0.042486       -0.010978        0.059167       -0.060073   \n",
              "4        0.047900       -0.009566        0.019203       -0.012007   \n",
              "\n",
              "   text_feats_378  text_feats_379  text_feats_380  text_feats_381  \\\n",
              "0       -0.015084        0.032759       -0.020093       -0.016441   \n",
              "1        0.062586        0.064207       -0.009180        0.024257   \n",
              "2        0.056372        0.072889        0.022801        0.001415   \n",
              "3        0.023529        0.050049        0.029518       -0.029244   \n",
              "4        0.100258        0.104059        0.033488       -0.006173   \n",
              "\n",
              "   text_feats_382  text_feats_383  \n",
              "0       -0.055311        0.068471  \n",
              "1       -0.050916        0.081012  \n",
              "2       -0.001804        0.063265  \n",
              "3       -0.053950        0.075529  \n",
              "4       -0.009940        0.085693  \n",
              "\n",
              "[5 rows x 384 columns]"
            ],
            "text/html": [
              "\n",
              "  <div id=\"df-0ab19afd-f6e1-4548-8ea1-0d3d6105cdb3\">\n",
              "    <div class=\"colab-df-container\">\n",
              "      <div>\n",
              "<style scoped>\n",
              "    .dataframe tbody tr th:only-of-type {\n",
              "        vertical-align: middle;\n",
              "    }\n",
              "\n",
              "    .dataframe tbody tr th {\n",
              "        vertical-align: top;\n",
              "    }\n",
              "\n",
              "    .dataframe thead th {\n",
              "        text-align: right;\n",
              "    }\n",
              "</style>\n",
              "<table border=\"1\" class=\"dataframe\">\n",
              "  <thead>\n",
              "    <tr style=\"text-align: right;\">\n",
              "      <th></th>\n",
              "      <th>text_feats_0</th>\n",
              "      <th>text_feats_1</th>\n",
              "      <th>text_feats_2</th>\n",
              "      <th>text_feats_3</th>\n",
              "      <th>text_feats_4</th>\n",
              "      <th>text_feats_5</th>\n",
              "      <th>text_feats_6</th>\n",
              "      <th>text_feats_7</th>\n",
              "      <th>text_feats_8</th>\n",
              "      <th>text_feats_9</th>\n",
              "      <th>...</th>\n",
              "      <th>text_feats_374</th>\n",
              "      <th>text_feats_375</th>\n",
              "      <th>text_feats_376</th>\n",
              "      <th>text_feats_377</th>\n",
              "      <th>text_feats_378</th>\n",
              "      <th>text_feats_379</th>\n",
              "      <th>text_feats_380</th>\n",
              "      <th>text_feats_381</th>\n",
              "      <th>text_feats_382</th>\n",
              "      <th>text_feats_383</th>\n",
              "    </tr>\n",
              "  </thead>\n",
              "  <tbody>\n",
              "    <tr>\n",
              "      <th>0</th>\n",
              "      <td>-0.055864</td>\n",
              "      <td>0.036113</td>\n",
              "      <td>-0.042333</td>\n",
              "      <td>0.040533</td>\n",
              "      <td>-0.002074</td>\n",
              "      <td>-0.032626</td>\n",
              "      <td>0.028647</td>\n",
              "      <td>-0.054291</td>\n",
              "      <td>-0.067406</td>\n",
              "      <td>0.018985</td>\n",
              "      <td>...</td>\n",
              "      <td>-0.006435</td>\n",
              "      <td>0.014930</td>\n",
              "      <td>0.018306</td>\n",
              "      <td>-0.016367</td>\n",
              "      <td>-0.015084</td>\n",
              "      <td>0.032759</td>\n",
              "      <td>-0.020093</td>\n",
              "      <td>-0.016441</td>\n",
              "      <td>-0.055311</td>\n",
              "      <td>0.068471</td>\n",
              "    </tr>\n",
              "    <tr>\n",
              "      <th>1</th>\n",
              "      <td>0.131873</td>\n",
              "      <td>-0.027114</td>\n",
              "      <td>0.072861</td>\n",
              "      <td>-0.013741</td>\n",
              "      <td>-0.078700</td>\n",
              "      <td>0.048676</td>\n",
              "      <td>0.016105</td>\n",
              "      <td>-0.070175</td>\n",
              "      <td>-0.046369</td>\n",
              "      <td>-0.024615</td>\n",
              "      <td>...</td>\n",
              "      <td>0.022209</td>\n",
              "      <td>0.035246</td>\n",
              "      <td>-0.020841</td>\n",
              "      <td>-0.075633</td>\n",
              "      <td>0.062586</td>\n",
              "      <td>0.064207</td>\n",
              "      <td>-0.009180</td>\n",
              "      <td>0.024257</td>\n",
              "      <td>-0.050916</td>\n",
              "      <td>0.081012</td>\n",
              "    </tr>\n",
              "    <tr>\n",
              "      <th>2</th>\n",
              "      <td>0.009019</td>\n",
              "      <td>0.001301</td>\n",
              "      <td>0.054341</td>\n",
              "      <td>0.060835</td>\n",
              "      <td>-0.075739</td>\n",
              "      <td>-0.016929</td>\n",
              "      <td>-0.007254</td>\n",
              "      <td>-0.058762</td>\n",
              "      <td>-0.027672</td>\n",
              "      <td>0.039672</td>\n",
              "      <td>...</td>\n",
              "      <td>-0.005494</td>\n",
              "      <td>-0.008231</td>\n",
              "      <td>-0.087117</td>\n",
              "      <td>-0.027242</td>\n",
              "      <td>0.056372</td>\n",
              "      <td>0.072889</td>\n",
              "      <td>0.022801</td>\n",
              "      <td>0.001415</td>\n",
              "      <td>-0.001804</td>\n",
              "      <td>0.063265</td>\n",
              "    </tr>\n",
              "    <tr>\n",
              "      <th>3</th>\n",
              "      <td>0.026912</td>\n",
              "      <td>-0.000056</td>\n",
              "      <td>0.098001</td>\n",
              "      <td>0.017524</td>\n",
              "      <td>-0.018072</td>\n",
              "      <td>0.006380</td>\n",
              "      <td>0.022057</td>\n",
              "      <td>0.018562</td>\n",
              "      <td>-0.109360</td>\n",
              "      <td>0.059209</td>\n",
              "      <td>...</td>\n",
              "      <td>-0.042486</td>\n",
              "      <td>-0.010978</td>\n",
              "      <td>0.059167</td>\n",
              "      <td>-0.060073</td>\n",
              "      <td>0.023529</td>\n",
              "      <td>0.050049</td>\n",
              "      <td>0.029518</td>\n",
              "      <td>-0.029244</td>\n",
              "      <td>-0.053950</td>\n",
              "      <td>0.075529</td>\n",
              "    </tr>\n",
              "    <tr>\n",
              "      <th>4</th>\n",
              "      <td>0.004821</td>\n",
              "      <td>0.042974</td>\n",
              "      <td>0.077345</td>\n",
              "      <td>0.063499</td>\n",
              "      <td>-0.032919</td>\n",
              "      <td>0.017724</td>\n",
              "      <td>-0.040053</td>\n",
              "      <td>-0.020195</td>\n",
              "      <td>-0.082335</td>\n",
              "      <td>0.081807</td>\n",
              "      <td>...</td>\n",
              "      <td>0.047900</td>\n",
              "      <td>-0.009566</td>\n",
              "      <td>0.019203</td>\n",
              "      <td>-0.012007</td>\n",
              "      <td>0.100258</td>\n",
              "      <td>0.104059</td>\n",
              "      <td>0.033488</td>\n",
              "      <td>-0.006173</td>\n",
              "      <td>-0.009940</td>\n",
              "      <td>0.085693</td>\n",
              "    </tr>\n",
              "  </tbody>\n",
              "</table>\n",
              "<p>5 rows × 384 columns</p>\n",
              "</div>\n",
              "      <button class=\"colab-df-convert\" onclick=\"convertToInteractive('df-0ab19afd-f6e1-4548-8ea1-0d3d6105cdb3')\"\n",
              "              title=\"Convert this dataframe to an interactive table.\"\n",
              "              style=\"display:none;\">\n",
              "        \n",
              "  <svg xmlns=\"http://www.w3.org/2000/svg\" height=\"24px\"viewBox=\"0 0 24 24\"\n",
              "       width=\"24px\">\n",
              "    <path d=\"M0 0h24v24H0V0z\" fill=\"none\"/>\n",
              "    <path d=\"M18.56 5.44l.94 2.06.94-2.06 2.06-.94-2.06-.94-.94-2.06-.94 2.06-2.06.94zm-11 1L8.5 8.5l.94-2.06 2.06-.94-2.06-.94L8.5 2.5l-.94 2.06-2.06.94zm10 10l.94 2.06.94-2.06 2.06-.94-2.06-.94-.94-2.06-.94 2.06-2.06.94z\"/><path d=\"M17.41 7.96l-1.37-1.37c-.4-.4-.92-.59-1.43-.59-.52 0-1.04.2-1.43.59L10.3 9.45l-7.72 7.72c-.78.78-.78 2.05 0 2.83L4 21.41c.39.39.9.59 1.41.59.51 0 1.02-.2 1.41-.59l7.78-7.78 2.81-2.81c.8-.78.8-2.07 0-2.86zM5.41 20L4 18.59l7.72-7.72 1.47 1.35L5.41 20z\"/>\n",
              "  </svg>\n",
              "      </button>\n",
              "      \n",
              "  <style>\n",
              "    .colab-df-container {\n",
              "      display:flex;\n",
              "      flex-wrap:wrap;\n",
              "      gap: 12px;\n",
              "    }\n",
              "\n",
              "    .colab-df-convert {\n",
              "      background-color: #E8F0FE;\n",
              "      border: none;\n",
              "      border-radius: 50%;\n",
              "      cursor: pointer;\n",
              "      display: none;\n",
              "      fill: #1967D2;\n",
              "      height: 32px;\n",
              "      padding: 0 0 0 0;\n",
              "      width: 32px;\n",
              "    }\n",
              "\n",
              "    .colab-df-convert:hover {\n",
              "      background-color: #E2EBFA;\n",
              "      box-shadow: 0px 1px 2px rgba(60, 64, 67, 0.3), 0px 1px 3px 1px rgba(60, 64, 67, 0.15);\n",
              "      fill: #174EA6;\n",
              "    }\n",
              "\n",
              "    [theme=dark] .colab-df-convert {\n",
              "      background-color: #3B4455;\n",
              "      fill: #D2E3FC;\n",
              "    }\n",
              "\n",
              "    [theme=dark] .colab-df-convert:hover {\n",
              "      background-color: #434B5C;\n",
              "      box-shadow: 0px 1px 3px 1px rgba(0, 0, 0, 0.15);\n",
              "      filter: drop-shadow(0px 1px 2px rgba(0, 0, 0, 0.3));\n",
              "      fill: #FFFFFF;\n",
              "    }\n",
              "  </style>\n",
              "\n",
              "      <script>\n",
              "        const buttonEl =\n",
              "          document.querySelector('#df-0ab19afd-f6e1-4548-8ea1-0d3d6105cdb3 button.colab-df-convert');\n",
              "        buttonEl.style.display =\n",
              "          google.colab.kernel.accessAllowed ? 'block' : 'none';\n",
              "\n",
              "        async function convertToInteractive(key) {\n",
              "          const element = document.querySelector('#df-0ab19afd-f6e1-4548-8ea1-0d3d6105cdb3');\n",
              "          const dataTable =\n",
              "            await google.colab.kernel.invokeFunction('convertToInteractive',\n",
              "                                                     [key], {});\n",
              "          if (!dataTable) return;\n",
              "\n",
              "          const docLinkHtml = 'Like what you see? Visit the ' +\n",
              "            '<a target=\"_blank\" href=https://colab.research.google.com/notebooks/data_table.ipynb>data table notebook</a>'\n",
              "            + ' to learn more about interactive tables.';\n",
              "          element.innerHTML = '';\n",
              "          dataTable['output_type'] = 'display_data';\n",
              "          await google.colab.output.renderOutput(dataTable, element);\n",
              "          const docLink = document.createElement('div');\n",
              "          docLink.innerHTML = docLinkHtml;\n",
              "          element.appendChild(docLink);\n",
              "        }\n",
              "      </script>\n",
              "    </div>\n",
              "  </div>\n",
              "  "
            ]
          },
          "metadata": {},
          "execution_count": 11
        }
      ]
    },
    {
      "cell_type": "code",
      "source": [
        "X_image = get_image_features_archive(df.image.tolist())\n",
        "X_image.info()"
      ],
      "metadata": {
        "colab": {
          "base_uri": "https://localhost:8080/"
        },
        "id": "nFGkCgykc968",
        "outputId": "19c5b6b4-dcec-4a0d-f3ad-3b173af67617"
      },
      "execution_count": 12,
      "outputs": [
        {
          "output_type": "stream",
          "name": "stderr",
          "text": [
            "Could not find image processor class in the image processor config or the model config. Loading based on pattern matching with the model's feature extractor configuration.\n"
          ]
        },
        {
          "output_type": "stream",
          "name": "stdout",
          "text": [
            "<class 'pandas.core.frame.DataFrame'>\n",
            "RangeIndex: 5000 entries, 0 to 4999\n",
            "Columns: 1000 entries, image_feats_0 to image_feats_999\n",
            "dtypes: float32(1000)\n",
            "memory usage: 19.1 MB\n"
          ]
        }
      ]
    },
    {
      "cell_type": "code",
      "source": [
        "X_image.head()"
      ],
      "metadata": {
        "colab": {
          "base_uri": "https://localhost:8080/",
          "height": 300
        },
        "id": "IH2quAIzeSe5",
        "outputId": "478b8abd-03df-4d16-8cbe-a3e18594b6bc"
      },
      "execution_count": 13,
      "outputs": [
        {
          "output_type": "execute_result",
          "data": {
            "text/plain": [
              "   image_feats_0  image_feats_1  image_feats_2  image_feats_3  image_feats_4  \\\n",
              "0     -10.499865      -9.520895     -10.757131      -9.699095      -9.028884   \n",
              "1     -10.622572      -8.168238     -10.377387      -9.689456     -10.481196   \n",
              "2     -10.297453     -10.135164      -9.294044      -8.123441     -10.017184   \n",
              "3     -10.877998     -12.164392     -10.898578     -10.897161     -12.012531   \n",
              "4     -10.935650     -10.228550     -10.379015     -10.572523     -10.185298   \n",
              "\n",
              "   image_feats_5  image_feats_6  image_feats_7  image_feats_8  image_feats_9  \\\n",
              "0     -10.106402      -8.991809      -8.697716      -7.185675     -11.444414   \n",
              "1      -9.909303      -7.874952     -10.960871     -10.367256     -11.200552   \n",
              "2      -7.407616      -9.190135      -8.128235     -10.749225     -10.825787   \n",
              "3      -9.979495     -11.546069      -9.748964      -9.766516     -10.405624   \n",
              "4     -10.051803      -9.995068      -8.863029      -8.379204     -10.323561   \n",
              "\n",
              "   ...  image_feats_990  image_feats_991  image_feats_992  image_feats_993  \\\n",
              "0  ...        -8.668247       -10.538580       -10.937279       -11.859535   \n",
              "1  ...        -6.771517        -9.789744        -9.654822        -9.866491   \n",
              "2  ...       -10.714853        -9.258550       -10.169351       -12.359625   \n",
              "3  ...        -9.675813       -10.422476       -12.287981       -10.509497   \n",
              "4  ...        -7.792486       -11.019537       -11.394686       -12.695930   \n",
              "\n",
              "   image_feats_994  image_feats_995  image_feats_996  image_feats_997  \\\n",
              "0        -9.846773        -9.661818       -10.278477       -11.559929   \n",
              "1        -9.942434        -9.383680       -10.089779        -9.125890   \n",
              "2       -10.064281        -9.956339       -10.373635       -11.407882   \n",
              "3       -10.177658       -11.042650        -9.191194       -10.008609   \n",
              "4       -11.154307       -10.135380        -9.946896       -10.006126   \n",
              "\n",
              "   image_feats_998  image_feats_999  \n",
              "0        -9.149862        -8.739675  \n",
              "1        -7.917606        -5.553684  \n",
              "2        -9.214044        -6.789722  \n",
              "3        -8.518277        -6.168948  \n",
              "4        -9.492619        -6.583462  \n",
              "\n",
              "[5 rows x 1000 columns]"
            ],
            "text/html": [
              "\n",
              "  <div id=\"df-4529d74c-b1f9-4c08-87cb-50367332ae41\">\n",
              "    <div class=\"colab-df-container\">\n",
              "      <div>\n",
              "<style scoped>\n",
              "    .dataframe tbody tr th:only-of-type {\n",
              "        vertical-align: middle;\n",
              "    }\n",
              "\n",
              "    .dataframe tbody tr th {\n",
              "        vertical-align: top;\n",
              "    }\n",
              "\n",
              "    .dataframe thead th {\n",
              "        text-align: right;\n",
              "    }\n",
              "</style>\n",
              "<table border=\"1\" class=\"dataframe\">\n",
              "  <thead>\n",
              "    <tr style=\"text-align: right;\">\n",
              "      <th></th>\n",
              "      <th>image_feats_0</th>\n",
              "      <th>image_feats_1</th>\n",
              "      <th>image_feats_2</th>\n",
              "      <th>image_feats_3</th>\n",
              "      <th>image_feats_4</th>\n",
              "      <th>image_feats_5</th>\n",
              "      <th>image_feats_6</th>\n",
              "      <th>image_feats_7</th>\n",
              "      <th>image_feats_8</th>\n",
              "      <th>image_feats_9</th>\n",
              "      <th>...</th>\n",
              "      <th>image_feats_990</th>\n",
              "      <th>image_feats_991</th>\n",
              "      <th>image_feats_992</th>\n",
              "      <th>image_feats_993</th>\n",
              "      <th>image_feats_994</th>\n",
              "      <th>image_feats_995</th>\n",
              "      <th>image_feats_996</th>\n",
              "      <th>image_feats_997</th>\n",
              "      <th>image_feats_998</th>\n",
              "      <th>image_feats_999</th>\n",
              "    </tr>\n",
              "  </thead>\n",
              "  <tbody>\n",
              "    <tr>\n",
              "      <th>0</th>\n",
              "      <td>-10.499865</td>\n",
              "      <td>-9.520895</td>\n",
              "      <td>-10.757131</td>\n",
              "      <td>-9.699095</td>\n",
              "      <td>-9.028884</td>\n",
              "      <td>-10.106402</td>\n",
              "      <td>-8.991809</td>\n",
              "      <td>-8.697716</td>\n",
              "      <td>-7.185675</td>\n",
              "      <td>-11.444414</td>\n",
              "      <td>...</td>\n",
              "      <td>-8.668247</td>\n",
              "      <td>-10.538580</td>\n",
              "      <td>-10.937279</td>\n",
              "      <td>-11.859535</td>\n",
              "      <td>-9.846773</td>\n",
              "      <td>-9.661818</td>\n",
              "      <td>-10.278477</td>\n",
              "      <td>-11.559929</td>\n",
              "      <td>-9.149862</td>\n",
              "      <td>-8.739675</td>\n",
              "    </tr>\n",
              "    <tr>\n",
              "      <th>1</th>\n",
              "      <td>-10.622572</td>\n",
              "      <td>-8.168238</td>\n",
              "      <td>-10.377387</td>\n",
              "      <td>-9.689456</td>\n",
              "      <td>-10.481196</td>\n",
              "      <td>-9.909303</td>\n",
              "      <td>-7.874952</td>\n",
              "      <td>-10.960871</td>\n",
              "      <td>-10.367256</td>\n",
              "      <td>-11.200552</td>\n",
              "      <td>...</td>\n",
              "      <td>-6.771517</td>\n",
              "      <td>-9.789744</td>\n",
              "      <td>-9.654822</td>\n",
              "      <td>-9.866491</td>\n",
              "      <td>-9.942434</td>\n",
              "      <td>-9.383680</td>\n",
              "      <td>-10.089779</td>\n",
              "      <td>-9.125890</td>\n",
              "      <td>-7.917606</td>\n",
              "      <td>-5.553684</td>\n",
              "    </tr>\n",
              "    <tr>\n",
              "      <th>2</th>\n",
              "      <td>-10.297453</td>\n",
              "      <td>-10.135164</td>\n",
              "      <td>-9.294044</td>\n",
              "      <td>-8.123441</td>\n",
              "      <td>-10.017184</td>\n",
              "      <td>-7.407616</td>\n",
              "      <td>-9.190135</td>\n",
              "      <td>-8.128235</td>\n",
              "      <td>-10.749225</td>\n",
              "      <td>-10.825787</td>\n",
              "      <td>...</td>\n",
              "      <td>-10.714853</td>\n",
              "      <td>-9.258550</td>\n",
              "      <td>-10.169351</td>\n",
              "      <td>-12.359625</td>\n",
              "      <td>-10.064281</td>\n",
              "      <td>-9.956339</td>\n",
              "      <td>-10.373635</td>\n",
              "      <td>-11.407882</td>\n",
              "      <td>-9.214044</td>\n",
              "      <td>-6.789722</td>\n",
              "    </tr>\n",
              "    <tr>\n",
              "      <th>3</th>\n",
              "      <td>-10.877998</td>\n",
              "      <td>-12.164392</td>\n",
              "      <td>-10.898578</td>\n",
              "      <td>-10.897161</td>\n",
              "      <td>-12.012531</td>\n",
              "      <td>-9.979495</td>\n",
              "      <td>-11.546069</td>\n",
              "      <td>-9.748964</td>\n",
              "      <td>-9.766516</td>\n",
              "      <td>-10.405624</td>\n",
              "      <td>...</td>\n",
              "      <td>-9.675813</td>\n",
              "      <td>-10.422476</td>\n",
              "      <td>-12.287981</td>\n",
              "      <td>-10.509497</td>\n",
              "      <td>-10.177658</td>\n",
              "      <td>-11.042650</td>\n",
              "      <td>-9.191194</td>\n",
              "      <td>-10.008609</td>\n",
              "      <td>-8.518277</td>\n",
              "      <td>-6.168948</td>\n",
              "    </tr>\n",
              "    <tr>\n",
              "      <th>4</th>\n",
              "      <td>-10.935650</td>\n",
              "      <td>-10.228550</td>\n",
              "      <td>-10.379015</td>\n",
              "      <td>-10.572523</td>\n",
              "      <td>-10.185298</td>\n",
              "      <td>-10.051803</td>\n",
              "      <td>-9.995068</td>\n",
              "      <td>-8.863029</td>\n",
              "      <td>-8.379204</td>\n",
              "      <td>-10.323561</td>\n",
              "      <td>...</td>\n",
              "      <td>-7.792486</td>\n",
              "      <td>-11.019537</td>\n",
              "      <td>-11.394686</td>\n",
              "      <td>-12.695930</td>\n",
              "      <td>-11.154307</td>\n",
              "      <td>-10.135380</td>\n",
              "      <td>-9.946896</td>\n",
              "      <td>-10.006126</td>\n",
              "      <td>-9.492619</td>\n",
              "      <td>-6.583462</td>\n",
              "    </tr>\n",
              "  </tbody>\n",
              "</table>\n",
              "<p>5 rows × 1000 columns</p>\n",
              "</div>\n",
              "      <button class=\"colab-df-convert\" onclick=\"convertToInteractive('df-4529d74c-b1f9-4c08-87cb-50367332ae41')\"\n",
              "              title=\"Convert this dataframe to an interactive table.\"\n",
              "              style=\"display:none;\">\n",
              "        \n",
              "  <svg xmlns=\"http://www.w3.org/2000/svg\" height=\"24px\"viewBox=\"0 0 24 24\"\n",
              "       width=\"24px\">\n",
              "    <path d=\"M0 0h24v24H0V0z\" fill=\"none\"/>\n",
              "    <path d=\"M18.56 5.44l.94 2.06.94-2.06 2.06-.94-2.06-.94-.94-2.06-.94 2.06-2.06.94zm-11 1L8.5 8.5l.94-2.06 2.06-.94-2.06-.94L8.5 2.5l-.94 2.06-2.06.94zm10 10l.94 2.06.94-2.06 2.06-.94-2.06-.94-.94-2.06-.94 2.06-2.06.94z\"/><path d=\"M17.41 7.96l-1.37-1.37c-.4-.4-.92-.59-1.43-.59-.52 0-1.04.2-1.43.59L10.3 9.45l-7.72 7.72c-.78.78-.78 2.05 0 2.83L4 21.41c.39.39.9.59 1.41.59.51 0 1.02-.2 1.41-.59l7.78-7.78 2.81-2.81c.8-.78.8-2.07 0-2.86zM5.41 20L4 18.59l7.72-7.72 1.47 1.35L5.41 20z\"/>\n",
              "  </svg>\n",
              "      </button>\n",
              "      \n",
              "  <style>\n",
              "    .colab-df-container {\n",
              "      display:flex;\n",
              "      flex-wrap:wrap;\n",
              "      gap: 12px;\n",
              "    }\n",
              "\n",
              "    .colab-df-convert {\n",
              "      background-color: #E8F0FE;\n",
              "      border: none;\n",
              "      border-radius: 50%;\n",
              "      cursor: pointer;\n",
              "      display: none;\n",
              "      fill: #1967D2;\n",
              "      height: 32px;\n",
              "      padding: 0 0 0 0;\n",
              "      width: 32px;\n",
              "    }\n",
              "\n",
              "    .colab-df-convert:hover {\n",
              "      background-color: #E2EBFA;\n",
              "      box-shadow: 0px 1px 2px rgba(60, 64, 67, 0.3), 0px 1px 3px 1px rgba(60, 64, 67, 0.15);\n",
              "      fill: #174EA6;\n",
              "    }\n",
              "\n",
              "    [theme=dark] .colab-df-convert {\n",
              "      background-color: #3B4455;\n",
              "      fill: #D2E3FC;\n",
              "    }\n",
              "\n",
              "    [theme=dark] .colab-df-convert:hover {\n",
              "      background-color: #434B5C;\n",
              "      box-shadow: 0px 1px 3px 1px rgba(0, 0, 0, 0.15);\n",
              "      filter: drop-shadow(0px 1px 2px rgba(0, 0, 0, 0.3));\n",
              "      fill: #FFFFFF;\n",
              "    }\n",
              "  </style>\n",
              "\n",
              "      <script>\n",
              "        const buttonEl =\n",
              "          document.querySelector('#df-4529d74c-b1f9-4c08-87cb-50367332ae41 button.colab-df-convert');\n",
              "        buttonEl.style.display =\n",
              "          google.colab.kernel.accessAllowed ? 'block' : 'none';\n",
              "\n",
              "        async function convertToInteractive(key) {\n",
              "          const element = document.querySelector('#df-4529d74c-b1f9-4c08-87cb-50367332ae41');\n",
              "          const dataTable =\n",
              "            await google.colab.kernel.invokeFunction('convertToInteractive',\n",
              "                                                     [key], {});\n",
              "          if (!dataTable) return;\n",
              "\n",
              "          const docLinkHtml = 'Like what you see? Visit the ' +\n",
              "            '<a target=\"_blank\" href=https://colab.research.google.com/notebooks/data_table.ipynb>data table notebook</a>'\n",
              "            + ' to learn more about interactive tables.';\n",
              "          element.innerHTML = '';\n",
              "          dataTable['output_type'] = 'display_data';\n",
              "          await google.colab.output.renderOutput(dataTable, element);\n",
              "          const docLink = document.createElement('div');\n",
              "          docLink.innerHTML = docLinkHtml;\n",
              "          element.appendChild(docLink);\n",
              "        }\n",
              "      </script>\n",
              "    </div>\n",
              "  </div>\n",
              "  "
            ]
          },
          "metadata": {},
          "execution_count": 13
        }
      ]
    },
    {
      "cell_type": "code",
      "source": [
        "from sklearn.model_selection import train_test_split"
      ],
      "metadata": {
        "id": "LjCAU8fEff6d"
      },
      "execution_count": 14,
      "outputs": []
    },
    {
      "cell_type": "code",
      "source": [
        "structured_cols = ['Type', 'Age', 'Breed1', 'Breed2', 'Gender', 'Color1', 'Color2',\n",
        "                   'Color3', 'MaturitySize', 'FurLength', 'Vaccinated', 'Dewormed',\n",
        "                   'Sterilized', 'Health', 'Quantity', 'Fee', 'State', 'VideoAmt',\n",
        "                   'PhotoAmt', 'Desc_len']"
      ],
      "metadata": {
        "id": "ztGBFsOIruvx"
      },
      "execution_count": 15,
      "outputs": []
    },
    {
      "cell_type": "code",
      "source": [
        "X_full = pd.concat([df, X_text, X_image], axis=1)\n",
        "X_full.shape"
      ],
      "metadata": {
        "colab": {
          "base_uri": "https://localhost:8080/"
        },
        "id": "8dqqAn0Yr7TH",
        "outputId": "cffd21f3-eeaf-4f33-ee03-e7050064fd64"
      },
      "execution_count": 16,
      "outputs": [
        {
          "output_type": "execute_result",
          "data": {
            "text/plain": [
              "(5000, 1410)"
            ]
          },
          "metadata": {},
          "execution_count": 16
        }
      ]
    },
    {
      "cell_type": "code",
      "source": [
        "X_train, X_test = train_test_split(X_full, test_size=0.2)\n",
        "X_train.shape, X_test.shape"
      ],
      "metadata": {
        "colab": {
          "base_uri": "https://localhost:8080/"
        },
        "id": "-DwvsfNPwjGp",
        "outputId": "70df602f-45ae-49ec-92bd-64a086354d78"
      },
      "execution_count": 17,
      "outputs": [
        {
          "output_type": "execute_result",
          "data": {
            "text/plain": [
              "((4000, 1410), (1000, 1410))"
            ]
          },
          "metadata": {},
          "execution_count": 17
        }
      ]
    },
    {
      "cell_type": "code",
      "source": [
        "from xgboost import XGBClassifier\n",
        "clf = XGBClassifier(n_estimators=100, max_depth=10, learning_rate=0.1, objective='binary:logistic')\n",
        "clf.fit(X_train[structured_cols], X_train['AdoptionSpeed'])"
      ],
      "metadata": {
        "colab": {
          "base_uri": "https://localhost:8080/",
          "height": 248
        },
        "id": "B3J8vQsMws0F",
        "outputId": "dec3bf81-5e8b-4208-865b-242231f920e4"
      },
      "execution_count": 18,
      "outputs": [
        {
          "output_type": "execute_result",
          "data": {
            "text/plain": [
              "XGBClassifier(base_score=None, booster=None, callbacks=None,\n",
              "              colsample_bylevel=None, colsample_bynode=None,\n",
              "              colsample_bytree=None, early_stopping_rounds=None,\n",
              "              enable_categorical=False, eval_metric=None, feature_types=None,\n",
              "              gamma=None, gpu_id=None, grow_policy=None, importance_type=None,\n",
              "              interaction_constraints=None, learning_rate=0.1, max_bin=None,\n",
              "              max_cat_threshold=None, max_cat_to_onehot=None,\n",
              "              max_delta_step=None, max_depth=10, max_leaves=None,\n",
              "              min_child_weight=None, missing=nan, monotone_constraints=None,\n",
              "              n_estimators=100, n_jobs=None, num_parallel_tree=None,\n",
              "              predictor=None, random_state=None, ...)"
            ],
            "text/html": [
              "<style>#sk-container-id-1 {color: black;background-color: white;}#sk-container-id-1 pre{padding: 0;}#sk-container-id-1 div.sk-toggleable {background-color: white;}#sk-container-id-1 label.sk-toggleable__label {cursor: pointer;display: block;width: 100%;margin-bottom: 0;padding: 0.3em;box-sizing: border-box;text-align: center;}#sk-container-id-1 label.sk-toggleable__label-arrow:before {content: \"▸\";float: left;margin-right: 0.25em;color: #696969;}#sk-container-id-1 label.sk-toggleable__label-arrow:hover:before {color: black;}#sk-container-id-1 div.sk-estimator:hover label.sk-toggleable__label-arrow:before {color: black;}#sk-container-id-1 div.sk-toggleable__content {max-height: 0;max-width: 0;overflow: hidden;text-align: left;background-color: #f0f8ff;}#sk-container-id-1 div.sk-toggleable__content pre {margin: 0.2em;color: black;border-radius: 0.25em;background-color: #f0f8ff;}#sk-container-id-1 input.sk-toggleable__control:checked~div.sk-toggleable__content {max-height: 200px;max-width: 100%;overflow: auto;}#sk-container-id-1 input.sk-toggleable__control:checked~label.sk-toggleable__label-arrow:before {content: \"▾\";}#sk-container-id-1 div.sk-estimator input.sk-toggleable__control:checked~label.sk-toggleable__label {background-color: #d4ebff;}#sk-container-id-1 div.sk-label input.sk-toggleable__control:checked~label.sk-toggleable__label {background-color: #d4ebff;}#sk-container-id-1 input.sk-hidden--visually {border: 0;clip: rect(1px 1px 1px 1px);clip: rect(1px, 1px, 1px, 1px);height: 1px;margin: -1px;overflow: hidden;padding: 0;position: absolute;width: 1px;}#sk-container-id-1 div.sk-estimator {font-family: monospace;background-color: #f0f8ff;border: 1px dotted black;border-radius: 0.25em;box-sizing: border-box;margin-bottom: 0.5em;}#sk-container-id-1 div.sk-estimator:hover {background-color: #d4ebff;}#sk-container-id-1 div.sk-parallel-item::after {content: \"\";width: 100%;border-bottom: 1px solid gray;flex-grow: 1;}#sk-container-id-1 div.sk-label:hover label.sk-toggleable__label {background-color: #d4ebff;}#sk-container-id-1 div.sk-serial::before {content: \"\";position: absolute;border-left: 1px solid gray;box-sizing: border-box;top: 0;bottom: 0;left: 50%;z-index: 0;}#sk-container-id-1 div.sk-serial {display: flex;flex-direction: column;align-items: center;background-color: white;padding-right: 0.2em;padding-left: 0.2em;position: relative;}#sk-container-id-1 div.sk-item {position: relative;z-index: 1;}#sk-container-id-1 div.sk-parallel {display: flex;align-items: stretch;justify-content: center;background-color: white;position: relative;}#sk-container-id-1 div.sk-item::before, #sk-container-id-1 div.sk-parallel-item::before {content: \"\";position: absolute;border-left: 1px solid gray;box-sizing: border-box;top: 0;bottom: 0;left: 50%;z-index: -1;}#sk-container-id-1 div.sk-parallel-item {display: flex;flex-direction: column;z-index: 1;position: relative;background-color: white;}#sk-container-id-1 div.sk-parallel-item:first-child::after {align-self: flex-end;width: 50%;}#sk-container-id-1 div.sk-parallel-item:last-child::after {align-self: flex-start;width: 50%;}#sk-container-id-1 div.sk-parallel-item:only-child::after {width: 0;}#sk-container-id-1 div.sk-dashed-wrapped {border: 1px dashed gray;margin: 0 0.4em 0.5em 0.4em;box-sizing: border-box;padding-bottom: 0.4em;background-color: white;}#sk-container-id-1 div.sk-label label {font-family: monospace;font-weight: bold;display: inline-block;line-height: 1.2em;}#sk-container-id-1 div.sk-label-container {text-align: center;}#sk-container-id-1 div.sk-container {/* jupyter's `normalize.less` sets `[hidden] { display: none; }` but bootstrap.min.css set `[hidden] { display: none !important; }` so we also need the `!important` here to be able to override the default hidden behavior on the sphinx rendered scikit-learn.org. See: https://github.com/scikit-learn/scikit-learn/issues/21755 */display: inline-block !important;position: relative;}#sk-container-id-1 div.sk-text-repr-fallback {display: none;}</style><div id=\"sk-container-id-1\" class=\"sk-top-container\"><div class=\"sk-text-repr-fallback\"><pre>XGBClassifier(base_score=None, booster=None, callbacks=None,\n",
              "              colsample_bylevel=None, colsample_bynode=None,\n",
              "              colsample_bytree=None, early_stopping_rounds=None,\n",
              "              enable_categorical=False, eval_metric=None, feature_types=None,\n",
              "              gamma=None, gpu_id=None, grow_policy=None, importance_type=None,\n",
              "              interaction_constraints=None, learning_rate=0.1, max_bin=None,\n",
              "              max_cat_threshold=None, max_cat_to_onehot=None,\n",
              "              max_delta_step=None, max_depth=10, max_leaves=None,\n",
              "              min_child_weight=None, missing=nan, monotone_constraints=None,\n",
              "              n_estimators=100, n_jobs=None, num_parallel_tree=None,\n",
              "              predictor=None, random_state=None, ...)</pre><b>In a Jupyter environment, please rerun this cell to show the HTML representation or trust the notebook. <br />On GitHub, the HTML representation is unable to render, please try loading this page with nbviewer.org.</b></div><div class=\"sk-container\" hidden><div class=\"sk-item\"><div class=\"sk-estimator sk-toggleable\"><input class=\"sk-toggleable__control sk-hidden--visually\" id=\"sk-estimator-id-1\" type=\"checkbox\" checked><label for=\"sk-estimator-id-1\" class=\"sk-toggleable__label sk-toggleable__label-arrow\">XGBClassifier</label><div class=\"sk-toggleable__content\"><pre>XGBClassifier(base_score=None, booster=None, callbacks=None,\n",
              "              colsample_bylevel=None, colsample_bynode=None,\n",
              "              colsample_bytree=None, early_stopping_rounds=None,\n",
              "              enable_categorical=False, eval_metric=None, feature_types=None,\n",
              "              gamma=None, gpu_id=None, grow_policy=None, importance_type=None,\n",
              "              interaction_constraints=None, learning_rate=0.1, max_bin=None,\n",
              "              max_cat_threshold=None, max_cat_to_onehot=None,\n",
              "              max_delta_step=None, max_depth=10, max_leaves=None,\n",
              "              min_child_weight=None, missing=nan, monotone_constraints=None,\n",
              "              n_estimators=100, n_jobs=None, num_parallel_tree=None,\n",
              "              predictor=None, random_state=None, ...)</pre></div></div></div></div></div>"
            ]
          },
          "metadata": {},
          "execution_count": 18
        }
      ]
    },
    {
      "cell_type": "code",
      "source": [
        "preds = clf.predict(X_test[structured_cols])"
      ],
      "metadata": {
        "id": "Ic5CJzy-w7Dc"
      },
      "execution_count": 19,
      "outputs": []
    },
    {
      "cell_type": "code",
      "source": [
        "from permetrics.classification import ClassificationMetric\n",
        "eval = ClassificationMetric(X_test['AdoptionSpeed'].values, preds)"
      ],
      "metadata": {
        "id": "QcEJDv4zxHE0"
      },
      "execution_count": 20,
      "outputs": []
    },
    {
      "cell_type": "code",
      "source": [
        "eval.f1_score(), eval.accuracy_score()*100"
      ],
      "metadata": {
        "colab": {
          "base_uri": "https://localhost:8080/"
        },
        "id": "SzXWjHEOxK_c",
        "outputId": "228b0a80-e2a7-493a-cc95-594752d2c3bb"
      },
      "execution_count": 21,
      "outputs": [
        {
          "output_type": "execute_result",
          "data": {
            "text/plain": [
              "(0.63114, 63.4)"
            ]
          },
          "metadata": {},
          "execution_count": 21
        }
      ]
    },
    {
      "cell_type": "code",
      "source": [
        "text_cols = [col for col in X_train.columns if col.find('text')!=-1]\n",
        "image_cols = [col for col in X_train.columns if col.find('image_feats')!=-1]"
      ],
      "metadata": {
        "id": "tskKl3TzyFE3"
      },
      "execution_count": 22,
      "outputs": []
    },
    {
      "cell_type": "code",
      "source": [
        "clf_full = XGBClassifier(n_estimators=500, max_depth=10, learning_rate=0.1, objective='binary:logistic')\n",
        "clf_full.fit(X_train[structured_cols+text_cols\n",
        "                     +image_cols\n",
        "                     ], X_train['AdoptionSpeed'])"
      ],
      "metadata": {
        "colab": {
          "base_uri": "https://localhost:8080/",
          "height": 248
        },
        "id": "ZxLVHC6rxSBE",
        "outputId": "0d317df7-0a53-444b-e988-20109330651b"
      },
      "execution_count": 28,
      "outputs": [
        {
          "output_type": "execute_result",
          "data": {
            "text/plain": [
              "XGBClassifier(base_score=None, booster=None, callbacks=None,\n",
              "              colsample_bylevel=None, colsample_bynode=None,\n",
              "              colsample_bytree=None, early_stopping_rounds=None,\n",
              "              enable_categorical=False, eval_metric=None, feature_types=None,\n",
              "              gamma=None, gpu_id=None, grow_policy=None, importance_type=None,\n",
              "              interaction_constraints=None, learning_rate=0.1, max_bin=None,\n",
              "              max_cat_threshold=None, max_cat_to_onehot=None,\n",
              "              max_delta_step=None, max_depth=10, max_leaves=None,\n",
              "              min_child_weight=None, missing=nan, monotone_constraints=None,\n",
              "              n_estimators=500, n_jobs=None, num_parallel_tree=None,\n",
              "              predictor=None, random_state=None, ...)"
            ],
            "text/html": [
              "<style>#sk-container-id-3 {color: black;background-color: white;}#sk-container-id-3 pre{padding: 0;}#sk-container-id-3 div.sk-toggleable {background-color: white;}#sk-container-id-3 label.sk-toggleable__label {cursor: pointer;display: block;width: 100%;margin-bottom: 0;padding: 0.3em;box-sizing: border-box;text-align: center;}#sk-container-id-3 label.sk-toggleable__label-arrow:before {content: \"▸\";float: left;margin-right: 0.25em;color: #696969;}#sk-container-id-3 label.sk-toggleable__label-arrow:hover:before {color: black;}#sk-container-id-3 div.sk-estimator:hover label.sk-toggleable__label-arrow:before {color: black;}#sk-container-id-3 div.sk-toggleable__content {max-height: 0;max-width: 0;overflow: hidden;text-align: left;background-color: #f0f8ff;}#sk-container-id-3 div.sk-toggleable__content pre {margin: 0.2em;color: black;border-radius: 0.25em;background-color: #f0f8ff;}#sk-container-id-3 input.sk-toggleable__control:checked~div.sk-toggleable__content {max-height: 200px;max-width: 100%;overflow: auto;}#sk-container-id-3 input.sk-toggleable__control:checked~label.sk-toggleable__label-arrow:before {content: \"▾\";}#sk-container-id-3 div.sk-estimator input.sk-toggleable__control:checked~label.sk-toggleable__label {background-color: #d4ebff;}#sk-container-id-3 div.sk-label input.sk-toggleable__control:checked~label.sk-toggleable__label {background-color: #d4ebff;}#sk-container-id-3 input.sk-hidden--visually {border: 0;clip: rect(1px 1px 1px 1px);clip: rect(1px, 1px, 1px, 1px);height: 1px;margin: -1px;overflow: hidden;padding: 0;position: absolute;width: 1px;}#sk-container-id-3 div.sk-estimator {font-family: monospace;background-color: #f0f8ff;border: 1px dotted black;border-radius: 0.25em;box-sizing: border-box;margin-bottom: 0.5em;}#sk-container-id-3 div.sk-estimator:hover {background-color: #d4ebff;}#sk-container-id-3 div.sk-parallel-item::after {content: \"\";width: 100%;border-bottom: 1px solid gray;flex-grow: 1;}#sk-container-id-3 div.sk-label:hover label.sk-toggleable__label {background-color: #d4ebff;}#sk-container-id-3 div.sk-serial::before {content: \"\";position: absolute;border-left: 1px solid gray;box-sizing: border-box;top: 0;bottom: 0;left: 50%;z-index: 0;}#sk-container-id-3 div.sk-serial {display: flex;flex-direction: column;align-items: center;background-color: white;padding-right: 0.2em;padding-left: 0.2em;position: relative;}#sk-container-id-3 div.sk-item {position: relative;z-index: 1;}#sk-container-id-3 div.sk-parallel {display: flex;align-items: stretch;justify-content: center;background-color: white;position: relative;}#sk-container-id-3 div.sk-item::before, #sk-container-id-3 div.sk-parallel-item::before {content: \"\";position: absolute;border-left: 1px solid gray;box-sizing: border-box;top: 0;bottom: 0;left: 50%;z-index: -1;}#sk-container-id-3 div.sk-parallel-item {display: flex;flex-direction: column;z-index: 1;position: relative;background-color: white;}#sk-container-id-3 div.sk-parallel-item:first-child::after {align-self: flex-end;width: 50%;}#sk-container-id-3 div.sk-parallel-item:last-child::after {align-self: flex-start;width: 50%;}#sk-container-id-3 div.sk-parallel-item:only-child::after {width: 0;}#sk-container-id-3 div.sk-dashed-wrapped {border: 1px dashed gray;margin: 0 0.4em 0.5em 0.4em;box-sizing: border-box;padding-bottom: 0.4em;background-color: white;}#sk-container-id-3 div.sk-label label {font-family: monospace;font-weight: bold;display: inline-block;line-height: 1.2em;}#sk-container-id-3 div.sk-label-container {text-align: center;}#sk-container-id-3 div.sk-container {/* jupyter's `normalize.less` sets `[hidden] { display: none; }` but bootstrap.min.css set `[hidden] { display: none !important; }` so we also need the `!important` here to be able to override the default hidden behavior on the sphinx rendered scikit-learn.org. See: https://github.com/scikit-learn/scikit-learn/issues/21755 */display: inline-block !important;position: relative;}#sk-container-id-3 div.sk-text-repr-fallback {display: none;}</style><div id=\"sk-container-id-3\" class=\"sk-top-container\"><div class=\"sk-text-repr-fallback\"><pre>XGBClassifier(base_score=None, booster=None, callbacks=None,\n",
              "              colsample_bylevel=None, colsample_bynode=None,\n",
              "              colsample_bytree=None, early_stopping_rounds=None,\n",
              "              enable_categorical=False, eval_metric=None, feature_types=None,\n",
              "              gamma=None, gpu_id=None, grow_policy=None, importance_type=None,\n",
              "              interaction_constraints=None, learning_rate=0.1, max_bin=None,\n",
              "              max_cat_threshold=None, max_cat_to_onehot=None,\n",
              "              max_delta_step=None, max_depth=10, max_leaves=None,\n",
              "              min_child_weight=None, missing=nan, monotone_constraints=None,\n",
              "              n_estimators=500, n_jobs=None, num_parallel_tree=None,\n",
              "              predictor=None, random_state=None, ...)</pre><b>In a Jupyter environment, please rerun this cell to show the HTML representation or trust the notebook. <br />On GitHub, the HTML representation is unable to render, please try loading this page with nbviewer.org.</b></div><div class=\"sk-container\" hidden><div class=\"sk-item\"><div class=\"sk-estimator sk-toggleable\"><input class=\"sk-toggleable__control sk-hidden--visually\" id=\"sk-estimator-id-3\" type=\"checkbox\" checked><label for=\"sk-estimator-id-3\" class=\"sk-toggleable__label sk-toggleable__label-arrow\">XGBClassifier</label><div class=\"sk-toggleable__content\"><pre>XGBClassifier(base_score=None, booster=None, callbacks=None,\n",
              "              colsample_bylevel=None, colsample_bynode=None,\n",
              "              colsample_bytree=None, early_stopping_rounds=None,\n",
              "              enable_categorical=False, eval_metric=None, feature_types=None,\n",
              "              gamma=None, gpu_id=None, grow_policy=None, importance_type=None,\n",
              "              interaction_constraints=None, learning_rate=0.1, max_bin=None,\n",
              "              max_cat_threshold=None, max_cat_to_onehot=None,\n",
              "              max_delta_step=None, max_depth=10, max_leaves=None,\n",
              "              min_child_weight=None, missing=nan, monotone_constraints=None,\n",
              "              n_estimators=500, n_jobs=None, num_parallel_tree=None,\n",
              "              predictor=None, random_state=None, ...)</pre></div></div></div></div></div>"
            ]
          },
          "metadata": {},
          "execution_count": 28
        }
      ]
    },
    {
      "cell_type": "code",
      "source": [
        "preds_full = clf_full.predict(X_test[structured_cols+text_cols\n",
        "                                     +image_cols\n",
        "                                     ])"
      ],
      "metadata": {
        "id": "TD6JaVPfx6Xf"
      },
      "execution_count": 29,
      "outputs": []
    },
    {
      "cell_type": "code",
      "source": [
        "eval_full = ClassificationMetric(X_test['AdoptionSpeed'].values, preds_full)\n",
        "eval_full.f1_score(), eval_full.accuracy_score()*100, eval.f1_score(), eval.accuracy_score()*100"
      ],
      "metadata": {
        "colab": {
          "base_uri": "https://localhost:8080/"
        },
        "id": "28SFW3gVyqeS",
        "outputId": "876f1682-c149-447a-ac18-e417e7e4c767"
      },
      "execution_count": 30,
      "outputs": [
        {
          "output_type": "execute_result",
          "data": {
            "text/plain": [
              "(0.6432, 64.5, 0.63114, 63.4)"
            ]
          },
          "metadata": {},
          "execution_count": 30
        }
      ]
    },
    {
      "cell_type": "code",
      "source": [
        "(eval_full.f1_score()-eval.f1_score())*100/eval.f1_score()"
      ],
      "metadata": {
        "colab": {
          "base_uri": "https://localhost:8080/"
        },
        "id": "C5vcpLT3y2QI",
        "outputId": "9a4120be-e225-4d92-b4de-eef28641d514"
      },
      "execution_count": 31,
      "outputs": [
        {
          "output_type": "execute_result",
          "data": {
            "text/plain": [
              "1.9108280254777006"
            ]
          },
          "metadata": {},
          "execution_count": 31
        }
      ]
    },
    {
      "cell_type": "code",
      "source": [
        "feature_importance  = pd.DataFrame({'Feature':clf_full.feature_names_in_,\n",
        "                                    'Importance':clf_full.feature_importances_})\n",
        "feature_importance.sort_values(['Importance'], ascending=False, inplace=True)\n",
        "feature_importance"
      ],
      "metadata": {
        "colab": {
          "base_uri": "https://localhost:8080/",
          "height": 424
        },
        "id": "c5IoFpz2JuVw",
        "outputId": "e44f1251-7ea4-4973-d16f-dcec48bba591"
      },
      "execution_count": 32,
      "outputs": [
        {
          "output_type": "execute_result",
          "data": {
            "text/plain": [
              "              Feature  Importance\n",
              "631   image_feats_227    0.005149\n",
              "1117  image_feats_713    0.004096\n",
              "1203  image_feats_799    0.003915\n",
              "572   image_feats_168    0.003190\n",
              "2              Breed1    0.003103\n",
              "...               ...         ...\n",
              "1158  image_feats_754    0.000000\n",
              "11           Dewormed    0.000000\n",
              "13             Health    0.000000\n",
              "940   image_feats_536    0.000000\n",
              "17           VideoAmt    0.000000\n",
              "\n",
              "[1404 rows x 2 columns]"
            ],
            "text/html": [
              "\n",
              "  <div id=\"df-cc06b38c-ff7e-4fbe-aaaa-efef19fd65e1\">\n",
              "    <div class=\"colab-df-container\">\n",
              "      <div>\n",
              "<style scoped>\n",
              "    .dataframe tbody tr th:only-of-type {\n",
              "        vertical-align: middle;\n",
              "    }\n",
              "\n",
              "    .dataframe tbody tr th {\n",
              "        vertical-align: top;\n",
              "    }\n",
              "\n",
              "    .dataframe thead th {\n",
              "        text-align: right;\n",
              "    }\n",
              "</style>\n",
              "<table border=\"1\" class=\"dataframe\">\n",
              "  <thead>\n",
              "    <tr style=\"text-align: right;\">\n",
              "      <th></th>\n",
              "      <th>Feature</th>\n",
              "      <th>Importance</th>\n",
              "    </tr>\n",
              "  </thead>\n",
              "  <tbody>\n",
              "    <tr>\n",
              "      <th>631</th>\n",
              "      <td>image_feats_227</td>\n",
              "      <td>0.005149</td>\n",
              "    </tr>\n",
              "    <tr>\n",
              "      <th>1117</th>\n",
              "      <td>image_feats_713</td>\n",
              "      <td>0.004096</td>\n",
              "    </tr>\n",
              "    <tr>\n",
              "      <th>1203</th>\n",
              "      <td>image_feats_799</td>\n",
              "      <td>0.003915</td>\n",
              "    </tr>\n",
              "    <tr>\n",
              "      <th>572</th>\n",
              "      <td>image_feats_168</td>\n",
              "      <td>0.003190</td>\n",
              "    </tr>\n",
              "    <tr>\n",
              "      <th>2</th>\n",
              "      <td>Breed1</td>\n",
              "      <td>0.003103</td>\n",
              "    </tr>\n",
              "    <tr>\n",
              "      <th>...</th>\n",
              "      <td>...</td>\n",
              "      <td>...</td>\n",
              "    </tr>\n",
              "    <tr>\n",
              "      <th>1158</th>\n",
              "      <td>image_feats_754</td>\n",
              "      <td>0.000000</td>\n",
              "    </tr>\n",
              "    <tr>\n",
              "      <th>11</th>\n",
              "      <td>Dewormed</td>\n",
              "      <td>0.000000</td>\n",
              "    </tr>\n",
              "    <tr>\n",
              "      <th>13</th>\n",
              "      <td>Health</td>\n",
              "      <td>0.000000</td>\n",
              "    </tr>\n",
              "    <tr>\n",
              "      <th>940</th>\n",
              "      <td>image_feats_536</td>\n",
              "      <td>0.000000</td>\n",
              "    </tr>\n",
              "    <tr>\n",
              "      <th>17</th>\n",
              "      <td>VideoAmt</td>\n",
              "      <td>0.000000</td>\n",
              "    </tr>\n",
              "  </tbody>\n",
              "</table>\n",
              "<p>1404 rows × 2 columns</p>\n",
              "</div>\n",
              "      <button class=\"colab-df-convert\" onclick=\"convertToInteractive('df-cc06b38c-ff7e-4fbe-aaaa-efef19fd65e1')\"\n",
              "              title=\"Convert this dataframe to an interactive table.\"\n",
              "              style=\"display:none;\">\n",
              "        \n",
              "  <svg xmlns=\"http://www.w3.org/2000/svg\" height=\"24px\"viewBox=\"0 0 24 24\"\n",
              "       width=\"24px\">\n",
              "    <path d=\"M0 0h24v24H0V0z\" fill=\"none\"/>\n",
              "    <path d=\"M18.56 5.44l.94 2.06.94-2.06 2.06-.94-2.06-.94-.94-2.06-.94 2.06-2.06.94zm-11 1L8.5 8.5l.94-2.06 2.06-.94-2.06-.94L8.5 2.5l-.94 2.06-2.06.94zm10 10l.94 2.06.94-2.06 2.06-.94-2.06-.94-.94-2.06-.94 2.06-2.06.94z\"/><path d=\"M17.41 7.96l-1.37-1.37c-.4-.4-.92-.59-1.43-.59-.52 0-1.04.2-1.43.59L10.3 9.45l-7.72 7.72c-.78.78-.78 2.05 0 2.83L4 21.41c.39.39.9.59 1.41.59.51 0 1.02-.2 1.41-.59l7.78-7.78 2.81-2.81c.8-.78.8-2.07 0-2.86zM5.41 20L4 18.59l7.72-7.72 1.47 1.35L5.41 20z\"/>\n",
              "  </svg>\n",
              "      </button>\n",
              "      \n",
              "  <style>\n",
              "    .colab-df-container {\n",
              "      display:flex;\n",
              "      flex-wrap:wrap;\n",
              "      gap: 12px;\n",
              "    }\n",
              "\n",
              "    .colab-df-convert {\n",
              "      background-color: #E8F0FE;\n",
              "      border: none;\n",
              "      border-radius: 50%;\n",
              "      cursor: pointer;\n",
              "      display: none;\n",
              "      fill: #1967D2;\n",
              "      height: 32px;\n",
              "      padding: 0 0 0 0;\n",
              "      width: 32px;\n",
              "    }\n",
              "\n",
              "    .colab-df-convert:hover {\n",
              "      background-color: #E2EBFA;\n",
              "      box-shadow: 0px 1px 2px rgba(60, 64, 67, 0.3), 0px 1px 3px 1px rgba(60, 64, 67, 0.15);\n",
              "      fill: #174EA6;\n",
              "    }\n",
              "\n",
              "    [theme=dark] .colab-df-convert {\n",
              "      background-color: #3B4455;\n",
              "      fill: #D2E3FC;\n",
              "    }\n",
              "\n",
              "    [theme=dark] .colab-df-convert:hover {\n",
              "      background-color: #434B5C;\n",
              "      box-shadow: 0px 1px 3px 1px rgba(0, 0, 0, 0.15);\n",
              "      filter: drop-shadow(0px 1px 2px rgba(0, 0, 0, 0.3));\n",
              "      fill: #FFFFFF;\n",
              "    }\n",
              "  </style>\n",
              "\n",
              "      <script>\n",
              "        const buttonEl =\n",
              "          document.querySelector('#df-cc06b38c-ff7e-4fbe-aaaa-efef19fd65e1 button.colab-df-convert');\n",
              "        buttonEl.style.display =\n",
              "          google.colab.kernel.accessAllowed ? 'block' : 'none';\n",
              "\n",
              "        async function convertToInteractive(key) {\n",
              "          const element = document.querySelector('#df-cc06b38c-ff7e-4fbe-aaaa-efef19fd65e1');\n",
              "          const dataTable =\n",
              "            await google.colab.kernel.invokeFunction('convertToInteractive',\n",
              "                                                     [key], {});\n",
              "          if (!dataTable) return;\n",
              "\n",
              "          const docLinkHtml = 'Like what you see? Visit the ' +\n",
              "            '<a target=\"_blank\" href=https://colab.research.google.com/notebooks/data_table.ipynb>data table notebook</a>'\n",
              "            + ' to learn more about interactive tables.';\n",
              "          element.innerHTML = '';\n",
              "          dataTable['output_type'] = 'display_data';\n",
              "          await google.colab.output.renderOutput(dataTable, element);\n",
              "          const docLink = document.createElement('div');\n",
              "          docLink.innerHTML = docLinkHtml;\n",
              "          element.appendChild(docLink);\n",
              "        }\n",
              "      </script>\n",
              "    </div>\n",
              "  </div>\n",
              "  "
            ]
          },
          "metadata": {},
          "execution_count": 32
        }
      ]
    },
    {
      "cell_type": "code",
      "source": [],
      "metadata": {
        "id": "fAzXYvzyKDTF"
      },
      "execution_count": 32,
      "outputs": []
    }
  ]
}