{
  "nbformat": 4,
  "nbformat_minor": 0,
  "metadata": {
    "colab": {
      "provenance": []
    },
    "kernelspec": {
      "name": "python3",
      "display_name": "Python 3"
    },
    "language_info": {
      "name": "python"
    }
  },
  "cells": [
    {
      "cell_type": "code",
      "execution_count": 1,
      "metadata": {
        "colab": {
          "base_uri": "https://localhost:8080/"
        },
        "id": "fQih8zZDRofq",
        "outputId": "d4b4b8e8-25c6-4e8c-c262-fb5fd0249ec1"
      },
      "outputs": [
        {
          "output_type": "stream",
          "name": "stdout",
          "text": [
            "Mounted at /content/drive\n"
          ]
        }
      ],
      "source": [
        "from google.colab import drive\n",
        "drive.mount('/content/drive')"
      ]
    },
    {
      "cell_type": "code",
      "source": [
        "import os\n",
        "import pandas as pd\n",
        "import numpy as np\n",
        "import plotly.express as px\n",
        "import matplotlib.pyplot as plt\n",
        "import gc"
      ],
      "metadata": {
        "id": "OiASU0gjRy8R"
      },
      "execution_count": 2,
      "outputs": []
    },
    {
      "cell_type": "code",
      "source": [
        "DATA_DIR = './drive/MyDrive/aj_blogs/stockouts/'\n",
        "os.listdir(DATA_DIR)"
      ],
      "metadata": {
        "colab": {
          "base_uri": "https://localhost:8080/"
        },
        "id": "CaERMXMUSbHE",
        "outputId": "f671fa3e-f979-4c3f-dbc8-3a9131dd59af"
      },
      "execution_count": 3,
      "outputs": [
        {
          "output_type": "execute_result",
          "data": {
            "text/plain": [
              "['sales_train_evaluation.csv', 'calendar.csv']"
            ]
          },
          "metadata": {},
          "execution_count": 3
        }
      ]
    },
    {
      "cell_type": "code",
      "source": [
        "df_calendar = pd.read_csv(DATA_DIR+'calendar.csv', parse_dates=['date'])\n",
        "df_calendar.info()"
      ],
      "metadata": {
        "colab": {
          "base_uri": "https://localhost:8080/"
        },
        "id": "KtXqM5wgTcdP",
        "outputId": "97e213a4-8979-4982-9173-0ab05f3f9a45"
      },
      "execution_count": 4,
      "outputs": [
        {
          "output_type": "stream",
          "name": "stdout",
          "text": [
            "<class 'pandas.core.frame.DataFrame'>\n",
            "RangeIndex: 1969 entries, 0 to 1968\n",
            "Data columns (total 14 columns):\n",
            " #   Column        Non-Null Count  Dtype         \n",
            "---  ------        --------------  -----         \n",
            " 0   date          1969 non-null   datetime64[ns]\n",
            " 1   wm_yr_wk      1969 non-null   int64         \n",
            " 2   weekday       1969 non-null   object        \n",
            " 3   wday          1969 non-null   int64         \n",
            " 4   month         1969 non-null   int64         \n",
            " 5   year          1969 non-null   int64         \n",
            " 6   d             1969 non-null   object        \n",
            " 7   event_name_1  162 non-null    object        \n",
            " 8   event_type_1  162 non-null    object        \n",
            " 9   event_name_2  5 non-null      object        \n",
            " 10  event_type_2  5 non-null      object        \n",
            " 11  snap_CA       1969 non-null   int64         \n",
            " 12  snap_TX       1969 non-null   int64         \n",
            " 13  snap_WI       1969 non-null   int64         \n",
            "dtypes: datetime64[ns](1), int64(7), object(6)\n",
            "memory usage: 215.5+ KB\n"
          ]
        }
      ]
    },
    {
      "cell_type": "code",
      "source": [
        "df_stock = pd.read_csv(DATA_DIR+'sales_train_evaluation.csv')\n",
        "df_stock.info()"
      ],
      "metadata": {
        "colab": {
          "base_uri": "https://localhost:8080/"
        },
        "id": "rQU3QkVgR8Iq",
        "outputId": "55c6d97d-6517-466a-e78c-23d170e8e9a6"
      },
      "execution_count": 5,
      "outputs": [
        {
          "output_type": "stream",
          "name": "stdout",
          "text": [
            "<class 'pandas.core.frame.DataFrame'>\n",
            "RangeIndex: 30490 entries, 0 to 30489\n",
            "Columns: 1947 entries, id to d_1941\n",
            "dtypes: int64(1941), object(6)\n",
            "memory usage: 452.9+ MB\n"
          ]
        }
      ]
    },
    {
      "cell_type": "code",
      "source": [
        "df_stock.dept_id.unique()"
      ],
      "metadata": {
        "colab": {
          "base_uri": "https://localhost:8080/"
        },
        "id": "ZONYmkFMme6n",
        "outputId": "ce43c4d2-3ffb-4d52-bec1-9854ed7fbbbe"
      },
      "execution_count": 6,
      "outputs": [
        {
          "output_type": "execute_result",
          "data": {
            "text/plain": [
              "array(['HOBBIES_1', 'HOBBIES_2', 'HOUSEHOLD_1', 'HOUSEHOLD_2', 'FOODS_1',\n",
              "       'FOODS_2', 'FOODS_3'], dtype=object)"
            ]
          },
          "metadata": {},
          "execution_count": 6
        }
      ]
    },
    {
      "cell_type": "code",
      "source": [
        "df_stock.item_id.unique()"
      ],
      "metadata": {
        "colab": {
          "base_uri": "https://localhost:8080/"
        },
        "id": "bV5GiIJgmkCZ",
        "outputId": "9cbbd0e2-a720-42cb-acdb-532ecbee3c4f"
      },
      "execution_count": 7,
      "outputs": [
        {
          "output_type": "execute_result",
          "data": {
            "text/plain": [
              "array(['HOBBIES_1_001', 'HOBBIES_1_002', 'HOBBIES_1_003', ...,\n",
              "       'FOODS_3_825', 'FOODS_3_826', 'FOODS_3_827'], dtype=object)"
            ]
          },
          "metadata": {},
          "execution_count": 7
        }
      ]
    },
    {
      "cell_type": "code",
      "source": [
        "df_stock_filtered = df_stock[(df_stock.dept_id=='HOBBIES_2') \n",
        "& (df_stock.item_id.isin(['HOBBIES_2_001', 'HOBBIES_2_002']))\n",
        "]"
      ],
      "metadata": {
        "id": "O9IxjkhKSsdW"
      },
      "execution_count": 8,
      "outputs": []
    },
    {
      "cell_type": "code",
      "source": [
        "df_stock_filtered.info()"
      ],
      "metadata": {
        "colab": {
          "base_uri": "https://localhost:8080/"
        },
        "id": "4toaKWwocV7Y",
        "outputId": "c71bccba-6d8f-4328-e0af-91e16536ea9e"
      },
      "execution_count": 9,
      "outputs": [
        {
          "output_type": "stream",
          "name": "stdout",
          "text": [
            "<class 'pandas.core.frame.DataFrame'>\n",
            "Int64Index: 20 entries, 416 to 27858\n",
            "Columns: 1947 entries, id to d_1941\n",
            "dtypes: int64(1941), object(6)\n",
            "memory usage: 304.4+ KB\n"
          ]
        }
      ]
    },
    {
      "cell_type": "code",
      "source": [
        "df_stock_melt = df_stock_filtered.melt(id_vars = ['id','item_id',\n",
        "                                         'dept_id','cat_id',\n",
        "                                         'store_id','state_id'])\n",
        "df_stock_melt.info()"
      ],
      "metadata": {
        "colab": {
          "base_uri": "https://localhost:8080/"
        },
        "id": "8b-ns1NgSSZO",
        "outputId": "d1e5a635-39bb-49a6-c276-f21ec2a0421f"
      },
      "execution_count": 10,
      "outputs": [
        {
          "output_type": "stream",
          "name": "stdout",
          "text": [
            "<class 'pandas.core.frame.DataFrame'>\n",
            "RangeIndex: 38820 entries, 0 to 38819\n",
            "Data columns (total 8 columns):\n",
            " #   Column    Non-Null Count  Dtype \n",
            "---  ------    --------------  ----- \n",
            " 0   id        38820 non-null  object\n",
            " 1   item_id   38820 non-null  object\n",
            " 2   dept_id   38820 non-null  object\n",
            " 3   cat_id    38820 non-null  object\n",
            " 4   store_id  38820 non-null  object\n",
            " 5   state_id  38820 non-null  object\n",
            " 6   variable  38820 non-null  object\n",
            " 7   value     38820 non-null  int64 \n",
            "dtypes: int64(1), object(7)\n",
            "memory usage: 2.4+ MB\n"
          ]
        }
      ]
    },
    {
      "cell_type": "code",
      "source": [
        "df_stock_melt.rename(columns={'variable':'date','value':'quantity'}).info()"
      ],
      "metadata": {
        "colab": {
          "base_uri": "https://localhost:8080/"
        },
        "id": "DfkuxJn6q_bY",
        "outputId": "a30b0b64-3762-4d29-9292-5193e921b3aa"
      },
      "execution_count": 11,
      "outputs": [
        {
          "output_type": "stream",
          "name": "stdout",
          "text": [
            "<class 'pandas.core.frame.DataFrame'>\n",
            "RangeIndex: 38820 entries, 0 to 38819\n",
            "Data columns (total 8 columns):\n",
            " #   Column    Non-Null Count  Dtype \n",
            "---  ------    --------------  ----- \n",
            " 0   id        38820 non-null  object\n",
            " 1   item_id   38820 non-null  object\n",
            " 2   dept_id   38820 non-null  object\n",
            " 3   cat_id    38820 non-null  object\n",
            " 4   store_id  38820 non-null  object\n",
            " 5   state_id  38820 non-null  object\n",
            " 6   date      38820 non-null  object\n",
            " 7   quantity  38820 non-null  int64 \n",
            "dtypes: int64(1), object(7)\n",
            "memory usage: 2.4+ MB\n"
          ]
        }
      ]
    },
    {
      "cell_type": "code",
      "source": [
        "df_stock_melt.rename(columns={'variable':'date','value':'quantity'}).head()"
      ],
      "metadata": {
        "colab": {
          "base_uri": "https://localhost:8080/",
          "height": 206
        },
        "id": "ROk3oizId9Zq",
        "outputId": "f2ce55b4-ebc5-41a5-da40-e020e0f7d6a2"
      },
      "execution_count": 24,
      "outputs": [
        {
          "output_type": "execute_result",
          "data": {
            "text/plain": [
              "                              id        item_id    dept_id   cat_id store_id  \\\n",
              "0  HOBBIES_2_001_CA_1_evaluation  HOBBIES_2_001  HOBBIES_2  HOBBIES     CA_1   \n",
              "1  HOBBIES_2_002_CA_1_evaluation  HOBBIES_2_002  HOBBIES_2  HOBBIES     CA_1   \n",
              "2  HOBBIES_2_001_CA_2_evaluation  HOBBIES_2_001  HOBBIES_2  HOBBIES     CA_2   \n",
              "3  HOBBIES_2_002_CA_2_evaluation  HOBBIES_2_002  HOBBIES_2  HOBBIES     CA_2   \n",
              "4  HOBBIES_2_001_CA_3_evaluation  HOBBIES_2_001  HOBBIES_2  HOBBIES     CA_3   \n",
              "\n",
              "  state_id date  quantity                                          series_id  \n",
              "0       CA  d_1         1  HOBBIES_2_001_CA_1_evaluationHOBBIES_2_001HOBB...  \n",
              "1       CA  d_1         4  HOBBIES_2_002_CA_1_evaluationHOBBIES_2_002HOBB...  \n",
              "2       CA  d_1         0  HOBBIES_2_001_CA_2_evaluationHOBBIES_2_001HOBB...  \n",
              "3       CA  d_1         1  HOBBIES_2_002_CA_2_evaluationHOBBIES_2_002HOBB...  \n",
              "4       CA  d_1         0  HOBBIES_2_001_CA_3_evaluationHOBBIES_2_001HOBB...  "
            ],
            "text/html": [
              "\n",
              "  <div id=\"df-44566cb9-1430-4af7-9be9-842789ad54d1\">\n",
              "    <div class=\"colab-df-container\">\n",
              "      <div>\n",
              "<style scoped>\n",
              "    .dataframe tbody tr th:only-of-type {\n",
              "        vertical-align: middle;\n",
              "    }\n",
              "\n",
              "    .dataframe tbody tr th {\n",
              "        vertical-align: top;\n",
              "    }\n",
              "\n",
              "    .dataframe thead th {\n",
              "        text-align: right;\n",
              "    }\n",
              "</style>\n",
              "<table border=\"1\" class=\"dataframe\">\n",
              "  <thead>\n",
              "    <tr style=\"text-align: right;\">\n",
              "      <th></th>\n",
              "      <th>id</th>\n",
              "      <th>item_id</th>\n",
              "      <th>dept_id</th>\n",
              "      <th>cat_id</th>\n",
              "      <th>store_id</th>\n",
              "      <th>state_id</th>\n",
              "      <th>date</th>\n",
              "      <th>quantity</th>\n",
              "      <th>series_id</th>\n",
              "    </tr>\n",
              "  </thead>\n",
              "  <tbody>\n",
              "    <tr>\n",
              "      <th>0</th>\n",
              "      <td>HOBBIES_2_001_CA_1_evaluation</td>\n",
              "      <td>HOBBIES_2_001</td>\n",
              "      <td>HOBBIES_2</td>\n",
              "      <td>HOBBIES</td>\n",
              "      <td>CA_1</td>\n",
              "      <td>CA</td>\n",
              "      <td>d_1</td>\n",
              "      <td>1</td>\n",
              "      <td>HOBBIES_2_001_CA_1_evaluationHOBBIES_2_001HOBB...</td>\n",
              "    </tr>\n",
              "    <tr>\n",
              "      <th>1</th>\n",
              "      <td>HOBBIES_2_002_CA_1_evaluation</td>\n",
              "      <td>HOBBIES_2_002</td>\n",
              "      <td>HOBBIES_2</td>\n",
              "      <td>HOBBIES</td>\n",
              "      <td>CA_1</td>\n",
              "      <td>CA</td>\n",
              "      <td>d_1</td>\n",
              "      <td>4</td>\n",
              "      <td>HOBBIES_2_002_CA_1_evaluationHOBBIES_2_002HOBB...</td>\n",
              "    </tr>\n",
              "    <tr>\n",
              "      <th>2</th>\n",
              "      <td>HOBBIES_2_001_CA_2_evaluation</td>\n",
              "      <td>HOBBIES_2_001</td>\n",
              "      <td>HOBBIES_2</td>\n",
              "      <td>HOBBIES</td>\n",
              "      <td>CA_2</td>\n",
              "      <td>CA</td>\n",
              "      <td>d_1</td>\n",
              "      <td>0</td>\n",
              "      <td>HOBBIES_2_001_CA_2_evaluationHOBBIES_2_001HOBB...</td>\n",
              "    </tr>\n",
              "    <tr>\n",
              "      <th>3</th>\n",
              "      <td>HOBBIES_2_002_CA_2_evaluation</td>\n",
              "      <td>HOBBIES_2_002</td>\n",
              "      <td>HOBBIES_2</td>\n",
              "      <td>HOBBIES</td>\n",
              "      <td>CA_2</td>\n",
              "      <td>CA</td>\n",
              "      <td>d_1</td>\n",
              "      <td>1</td>\n",
              "      <td>HOBBIES_2_002_CA_2_evaluationHOBBIES_2_002HOBB...</td>\n",
              "    </tr>\n",
              "    <tr>\n",
              "      <th>4</th>\n",
              "      <td>HOBBIES_2_001_CA_3_evaluation</td>\n",
              "      <td>HOBBIES_2_001</td>\n",
              "      <td>HOBBIES_2</td>\n",
              "      <td>HOBBIES</td>\n",
              "      <td>CA_3</td>\n",
              "      <td>CA</td>\n",
              "      <td>d_1</td>\n",
              "      <td>0</td>\n",
              "      <td>HOBBIES_2_001_CA_3_evaluationHOBBIES_2_001HOBB...</td>\n",
              "    </tr>\n",
              "  </tbody>\n",
              "</table>\n",
              "</div>\n",
              "      <button class=\"colab-df-convert\" onclick=\"convertToInteractive('df-44566cb9-1430-4af7-9be9-842789ad54d1')\"\n",
              "              title=\"Convert this dataframe to an interactive table.\"\n",
              "              style=\"display:none;\">\n",
              "        \n",
              "  <svg xmlns=\"http://www.w3.org/2000/svg\" height=\"24px\"viewBox=\"0 0 24 24\"\n",
              "       width=\"24px\">\n",
              "    <path d=\"M0 0h24v24H0V0z\" fill=\"none\"/>\n",
              "    <path d=\"M18.56 5.44l.94 2.06.94-2.06 2.06-.94-2.06-.94-.94-2.06-.94 2.06-2.06.94zm-11 1L8.5 8.5l.94-2.06 2.06-.94-2.06-.94L8.5 2.5l-.94 2.06-2.06.94zm10 10l.94 2.06.94-2.06 2.06-.94-2.06-.94-.94-2.06-.94 2.06-2.06.94z\"/><path d=\"M17.41 7.96l-1.37-1.37c-.4-.4-.92-.59-1.43-.59-.52 0-1.04.2-1.43.59L10.3 9.45l-7.72 7.72c-.78.78-.78 2.05 0 2.83L4 21.41c.39.39.9.59 1.41.59.51 0 1.02-.2 1.41-.59l7.78-7.78 2.81-2.81c.8-.78.8-2.07 0-2.86zM5.41 20L4 18.59l7.72-7.72 1.47 1.35L5.41 20z\"/>\n",
              "  </svg>\n",
              "      </button>\n",
              "      \n",
              "  <style>\n",
              "    .colab-df-container {\n",
              "      display:flex;\n",
              "      flex-wrap:wrap;\n",
              "      gap: 12px;\n",
              "    }\n",
              "\n",
              "    .colab-df-convert {\n",
              "      background-color: #E8F0FE;\n",
              "      border: none;\n",
              "      border-radius: 50%;\n",
              "      cursor: pointer;\n",
              "      display: none;\n",
              "      fill: #1967D2;\n",
              "      height: 32px;\n",
              "      padding: 0 0 0 0;\n",
              "      width: 32px;\n",
              "    }\n",
              "\n",
              "    .colab-df-convert:hover {\n",
              "      background-color: #E2EBFA;\n",
              "      box-shadow: 0px 1px 2px rgba(60, 64, 67, 0.3), 0px 1px 3px 1px rgba(60, 64, 67, 0.15);\n",
              "      fill: #174EA6;\n",
              "    }\n",
              "\n",
              "    [theme=dark] .colab-df-convert {\n",
              "      background-color: #3B4455;\n",
              "      fill: #D2E3FC;\n",
              "    }\n",
              "\n",
              "    [theme=dark] .colab-df-convert:hover {\n",
              "      background-color: #434B5C;\n",
              "      box-shadow: 0px 1px 3px 1px rgba(0, 0, 0, 0.15);\n",
              "      filter: drop-shadow(0px 1px 2px rgba(0, 0, 0, 0.3));\n",
              "      fill: #FFFFFF;\n",
              "    }\n",
              "  </style>\n",
              "\n",
              "      <script>\n",
              "        const buttonEl =\n",
              "          document.querySelector('#df-44566cb9-1430-4af7-9be9-842789ad54d1 button.colab-df-convert');\n",
              "        buttonEl.style.display =\n",
              "          google.colab.kernel.accessAllowed ? 'block' : 'none';\n",
              "\n",
              "        async function convertToInteractive(key) {\n",
              "          const element = document.querySelector('#df-44566cb9-1430-4af7-9be9-842789ad54d1');\n",
              "          const dataTable =\n",
              "            await google.colab.kernel.invokeFunction('convertToInteractive',\n",
              "                                                     [key], {});\n",
              "          if (!dataTable) return;\n",
              "\n",
              "          const docLinkHtml = 'Like what you see? Visit the ' +\n",
              "            '<a target=\"_blank\" href=https://colab.research.google.com/notebooks/data_table.ipynb>data table notebook</a>'\n",
              "            + ' to learn more about interactive tables.';\n",
              "          element.innerHTML = '';\n",
              "          dataTable['output_type'] = 'display_data';\n",
              "          await google.colab.output.renderOutput(dataTable, element);\n",
              "          const docLink = document.createElement('div');\n",
              "          docLink.innerHTML = docLinkHtml;\n",
              "          element.appendChild(docLink);\n",
              "        }\n",
              "      </script>\n",
              "    </div>\n",
              "  </div>\n",
              "  "
            ]
          },
          "metadata": {},
          "execution_count": 24
        }
      ]
    },
    {
      "cell_type": "code",
      "source": [
        "gc.collect()"
      ],
      "metadata": {
        "colab": {
          "base_uri": "https://localhost:8080/"
        },
        "id": "X_xB7wWzSl7e",
        "outputId": "9ebbef94-d938-4b8d-a2b9-6cd564c1e603"
      },
      "execution_count": 12,
      "outputs": [
        {
          "output_type": "execute_result",
          "data": {
            "text/plain": [
              "0"
            ]
          },
          "metadata": {},
          "execution_count": 12
        }
      ]
    },
    {
      "cell_type": "code",
      "source": [
        "df_stock_melt['series_id'] =  df_stock_melt['id']+df_stock_melt['item_id']+\\\n",
        "df_stock_melt['dept_id']+df_stock_melt['cat_id']+\\\n",
        "df_stock_melt['store_id']+df_stock_melt['state_id']"
      ],
      "metadata": {
        "id": "tZx4k1IlS2Wu"
      },
      "execution_count": 13,
      "outputs": []
    },
    {
      "cell_type": "code",
      "source": [
        "df_stock_melt.head()"
      ],
      "metadata": {
        "colab": {
          "base_uri": "https://localhost:8080/",
          "height": 206
        },
        "id": "YW4JuhjxTRGL",
        "outputId": "99246542-2d77-49a9-fcf5-5716874db022"
      },
      "execution_count": 14,
      "outputs": [
        {
          "output_type": "execute_result",
          "data": {
            "text/plain": [
              "                              id        item_id    dept_id   cat_id store_id  \\\n",
              "0  HOBBIES_2_001_CA_1_evaluation  HOBBIES_2_001  HOBBIES_2  HOBBIES     CA_1   \n",
              "1  HOBBIES_2_002_CA_1_evaluation  HOBBIES_2_002  HOBBIES_2  HOBBIES     CA_1   \n",
              "2  HOBBIES_2_001_CA_2_evaluation  HOBBIES_2_001  HOBBIES_2  HOBBIES     CA_2   \n",
              "3  HOBBIES_2_002_CA_2_evaluation  HOBBIES_2_002  HOBBIES_2  HOBBIES     CA_2   \n",
              "4  HOBBIES_2_001_CA_3_evaluation  HOBBIES_2_001  HOBBIES_2  HOBBIES     CA_3   \n",
              "\n",
              "  state_id variable  value                                          series_id  \n",
              "0       CA      d_1      1  HOBBIES_2_001_CA_1_evaluationHOBBIES_2_001HOBB...  \n",
              "1       CA      d_1      4  HOBBIES_2_002_CA_1_evaluationHOBBIES_2_002HOBB...  \n",
              "2       CA      d_1      0  HOBBIES_2_001_CA_2_evaluationHOBBIES_2_001HOBB...  \n",
              "3       CA      d_1      1  HOBBIES_2_002_CA_2_evaluationHOBBIES_2_002HOBB...  \n",
              "4       CA      d_1      0  HOBBIES_2_001_CA_3_evaluationHOBBIES_2_001HOBB...  "
            ],
            "text/html": [
              "\n",
              "  <div id=\"df-6d27097b-55ab-42c0-af1b-a32a9591acdf\">\n",
              "    <div class=\"colab-df-container\">\n",
              "      <div>\n",
              "<style scoped>\n",
              "    .dataframe tbody tr th:only-of-type {\n",
              "        vertical-align: middle;\n",
              "    }\n",
              "\n",
              "    .dataframe tbody tr th {\n",
              "        vertical-align: top;\n",
              "    }\n",
              "\n",
              "    .dataframe thead th {\n",
              "        text-align: right;\n",
              "    }\n",
              "</style>\n",
              "<table border=\"1\" class=\"dataframe\">\n",
              "  <thead>\n",
              "    <tr style=\"text-align: right;\">\n",
              "      <th></th>\n",
              "      <th>id</th>\n",
              "      <th>item_id</th>\n",
              "      <th>dept_id</th>\n",
              "      <th>cat_id</th>\n",
              "      <th>store_id</th>\n",
              "      <th>state_id</th>\n",
              "      <th>variable</th>\n",
              "      <th>value</th>\n",
              "      <th>series_id</th>\n",
              "    </tr>\n",
              "  </thead>\n",
              "  <tbody>\n",
              "    <tr>\n",
              "      <th>0</th>\n",
              "      <td>HOBBIES_2_001_CA_1_evaluation</td>\n",
              "      <td>HOBBIES_2_001</td>\n",
              "      <td>HOBBIES_2</td>\n",
              "      <td>HOBBIES</td>\n",
              "      <td>CA_1</td>\n",
              "      <td>CA</td>\n",
              "      <td>d_1</td>\n",
              "      <td>1</td>\n",
              "      <td>HOBBIES_2_001_CA_1_evaluationHOBBIES_2_001HOBB...</td>\n",
              "    </tr>\n",
              "    <tr>\n",
              "      <th>1</th>\n",
              "      <td>HOBBIES_2_002_CA_1_evaluation</td>\n",
              "      <td>HOBBIES_2_002</td>\n",
              "      <td>HOBBIES_2</td>\n",
              "      <td>HOBBIES</td>\n",
              "      <td>CA_1</td>\n",
              "      <td>CA</td>\n",
              "      <td>d_1</td>\n",
              "      <td>4</td>\n",
              "      <td>HOBBIES_2_002_CA_1_evaluationHOBBIES_2_002HOBB...</td>\n",
              "    </tr>\n",
              "    <tr>\n",
              "      <th>2</th>\n",
              "      <td>HOBBIES_2_001_CA_2_evaluation</td>\n",
              "      <td>HOBBIES_2_001</td>\n",
              "      <td>HOBBIES_2</td>\n",
              "      <td>HOBBIES</td>\n",
              "      <td>CA_2</td>\n",
              "      <td>CA</td>\n",
              "      <td>d_1</td>\n",
              "      <td>0</td>\n",
              "      <td>HOBBIES_2_001_CA_2_evaluationHOBBIES_2_001HOBB...</td>\n",
              "    </tr>\n",
              "    <tr>\n",
              "      <th>3</th>\n",
              "      <td>HOBBIES_2_002_CA_2_evaluation</td>\n",
              "      <td>HOBBIES_2_002</td>\n",
              "      <td>HOBBIES_2</td>\n",
              "      <td>HOBBIES</td>\n",
              "      <td>CA_2</td>\n",
              "      <td>CA</td>\n",
              "      <td>d_1</td>\n",
              "      <td>1</td>\n",
              "      <td>HOBBIES_2_002_CA_2_evaluationHOBBIES_2_002HOBB...</td>\n",
              "    </tr>\n",
              "    <tr>\n",
              "      <th>4</th>\n",
              "      <td>HOBBIES_2_001_CA_3_evaluation</td>\n",
              "      <td>HOBBIES_2_001</td>\n",
              "      <td>HOBBIES_2</td>\n",
              "      <td>HOBBIES</td>\n",
              "      <td>CA_3</td>\n",
              "      <td>CA</td>\n",
              "      <td>d_1</td>\n",
              "      <td>0</td>\n",
              "      <td>HOBBIES_2_001_CA_3_evaluationHOBBIES_2_001HOBB...</td>\n",
              "    </tr>\n",
              "  </tbody>\n",
              "</table>\n",
              "</div>\n",
              "      <button class=\"colab-df-convert\" onclick=\"convertToInteractive('df-6d27097b-55ab-42c0-af1b-a32a9591acdf')\"\n",
              "              title=\"Convert this dataframe to an interactive table.\"\n",
              "              style=\"display:none;\">\n",
              "        \n",
              "  <svg xmlns=\"http://www.w3.org/2000/svg\" height=\"24px\"viewBox=\"0 0 24 24\"\n",
              "       width=\"24px\">\n",
              "    <path d=\"M0 0h24v24H0V0z\" fill=\"none\"/>\n",
              "    <path d=\"M18.56 5.44l.94 2.06.94-2.06 2.06-.94-2.06-.94-.94-2.06-.94 2.06-2.06.94zm-11 1L8.5 8.5l.94-2.06 2.06-.94-2.06-.94L8.5 2.5l-.94 2.06-2.06.94zm10 10l.94 2.06.94-2.06 2.06-.94-2.06-.94-.94-2.06-.94 2.06-2.06.94z\"/><path d=\"M17.41 7.96l-1.37-1.37c-.4-.4-.92-.59-1.43-.59-.52 0-1.04.2-1.43.59L10.3 9.45l-7.72 7.72c-.78.78-.78 2.05 0 2.83L4 21.41c.39.39.9.59 1.41.59.51 0 1.02-.2 1.41-.59l7.78-7.78 2.81-2.81c.8-.78.8-2.07 0-2.86zM5.41 20L4 18.59l7.72-7.72 1.47 1.35L5.41 20z\"/>\n",
              "  </svg>\n",
              "      </button>\n",
              "      \n",
              "  <style>\n",
              "    .colab-df-container {\n",
              "      display:flex;\n",
              "      flex-wrap:wrap;\n",
              "      gap: 12px;\n",
              "    }\n",
              "\n",
              "    .colab-df-convert {\n",
              "      background-color: #E8F0FE;\n",
              "      border: none;\n",
              "      border-radius: 50%;\n",
              "      cursor: pointer;\n",
              "      display: none;\n",
              "      fill: #1967D2;\n",
              "      height: 32px;\n",
              "      padding: 0 0 0 0;\n",
              "      width: 32px;\n",
              "    }\n",
              "\n",
              "    .colab-df-convert:hover {\n",
              "      background-color: #E2EBFA;\n",
              "      box-shadow: 0px 1px 2px rgba(60, 64, 67, 0.3), 0px 1px 3px 1px rgba(60, 64, 67, 0.15);\n",
              "      fill: #174EA6;\n",
              "    }\n",
              "\n",
              "    [theme=dark] .colab-df-convert {\n",
              "      background-color: #3B4455;\n",
              "      fill: #D2E3FC;\n",
              "    }\n",
              "\n",
              "    [theme=dark] .colab-df-convert:hover {\n",
              "      background-color: #434B5C;\n",
              "      box-shadow: 0px 1px 3px 1px rgba(0, 0, 0, 0.15);\n",
              "      filter: drop-shadow(0px 1px 2px rgba(0, 0, 0, 0.3));\n",
              "      fill: #FFFFFF;\n",
              "    }\n",
              "  </style>\n",
              "\n",
              "      <script>\n",
              "        const buttonEl =\n",
              "          document.querySelector('#df-6d27097b-55ab-42c0-af1b-a32a9591acdf button.colab-df-convert');\n",
              "        buttonEl.style.display =\n",
              "          google.colab.kernel.accessAllowed ? 'block' : 'none';\n",
              "\n",
              "        async function convertToInteractive(key) {\n",
              "          const element = document.querySelector('#df-6d27097b-55ab-42c0-af1b-a32a9591acdf');\n",
              "          const dataTable =\n",
              "            await google.colab.kernel.invokeFunction('convertToInteractive',\n",
              "                                                     [key], {});\n",
              "          if (!dataTable) return;\n",
              "\n",
              "          const docLinkHtml = 'Like what you see? Visit the ' +\n",
              "            '<a target=\"_blank\" href=https://colab.research.google.com/notebooks/data_table.ipynb>data table notebook</a>'\n",
              "            + ' to learn more about interactive tables.';\n",
              "          element.innerHTML = '';\n",
              "          dataTable['output_type'] = 'display_data';\n",
              "          await google.colab.output.renderOutput(dataTable, element);\n",
              "          const docLink = document.createElement('div');\n",
              "          docLink.innerHTML = docLinkHtml;\n",
              "          element.appendChild(docLink);\n",
              "        }\n",
              "      </script>\n",
              "    </div>\n",
              "  </div>\n",
              "  "
            ]
          },
          "metadata": {},
          "execution_count": 14
        }
      ]
    },
    {
      "cell_type": "code",
      "source": [
        "df_full = df_stock_melt.merge(df_calendar, left_on=['variable'], right_on=['d'])\n",
        "df_full.info()\n",
        "assert df_full.shape[0]==df_stock_melt.shape[0]"
      ],
      "metadata": {
        "colab": {
          "base_uri": "https://localhost:8080/"
        },
        "id": "jO-hZMDhTR7P",
        "outputId": "dd0d17c4-1246-4c61-db12-98fd427380f7"
      },
      "execution_count": 15,
      "outputs": [
        {
          "output_type": "stream",
          "name": "stdout",
          "text": [
            "<class 'pandas.core.frame.DataFrame'>\n",
            "Int64Index: 38820 entries, 0 to 38819\n",
            "Data columns (total 23 columns):\n",
            " #   Column        Non-Null Count  Dtype         \n",
            "---  ------        --------------  -----         \n",
            " 0   id            38820 non-null  object        \n",
            " 1   item_id       38820 non-null  object        \n",
            " 2   dept_id       38820 non-null  object        \n",
            " 3   cat_id        38820 non-null  object        \n",
            " 4   store_id      38820 non-null  object        \n",
            " 5   state_id      38820 non-null  object        \n",
            " 6   variable      38820 non-null  object        \n",
            " 7   value         38820 non-null  int64         \n",
            " 8   series_id     38820 non-null  object        \n",
            " 9   date          38820 non-null  datetime64[ns]\n",
            " 10  wm_yr_wk      38820 non-null  int64         \n",
            " 11  weekday       38820 non-null  object        \n",
            " 12  wday          38820 non-null  int64         \n",
            " 13  month         38820 non-null  int64         \n",
            " 14  year          38820 non-null  int64         \n",
            " 15  d             38820 non-null  object        \n",
            " 16  event_name_1  3160 non-null   object        \n",
            " 17  event_type_1  3160 non-null   object        \n",
            " 18  event_name_2  80 non-null     object        \n",
            " 19  event_type_2  80 non-null     object        \n",
            " 20  snap_CA       38820 non-null  int64         \n",
            " 21  snap_TX       38820 non-null  int64         \n",
            " 22  snap_WI       38820 non-null  int64         \n",
            "dtypes: datetime64[ns](1), int64(8), object(14)\n",
            "memory usage: 7.1+ MB\n"
          ]
        }
      ]
    },
    {
      "cell_type": "code",
      "source": [
        "df_full['time'] = pd.to_datetime(df_full.year.apply(str)+'-'+df_full.month.apply(str)+'-1',format='%Y-%m-%d')\n",
        "df_full.head()"
      ],
      "metadata": {
        "colab": {
          "base_uri": "https://localhost:8080/",
          "height": 300
        },
        "id": "8Gi9in2NTZ-a",
        "outputId": "e8df76ab-d2a6-4b92-9440-40bc0f6f2b76"
      },
      "execution_count": 16,
      "outputs": [
        {
          "output_type": "execute_result",
          "data": {
            "text/plain": [
              "                              id        item_id    dept_id   cat_id store_id  \\\n",
              "0  HOBBIES_2_001_CA_1_evaluation  HOBBIES_2_001  HOBBIES_2  HOBBIES     CA_1   \n",
              "1  HOBBIES_2_002_CA_1_evaluation  HOBBIES_2_002  HOBBIES_2  HOBBIES     CA_1   \n",
              "2  HOBBIES_2_001_CA_2_evaluation  HOBBIES_2_001  HOBBIES_2  HOBBIES     CA_2   \n",
              "3  HOBBIES_2_002_CA_2_evaluation  HOBBIES_2_002  HOBBIES_2  HOBBIES     CA_2   \n",
              "4  HOBBIES_2_001_CA_3_evaluation  HOBBIES_2_001  HOBBIES_2  HOBBIES     CA_3   \n",
              "\n",
              "  state_id variable  value                                          series_id  \\\n",
              "0       CA      d_1      1  HOBBIES_2_001_CA_1_evaluationHOBBIES_2_001HOBB...   \n",
              "1       CA      d_1      4  HOBBIES_2_002_CA_1_evaluationHOBBIES_2_002HOBB...   \n",
              "2       CA      d_1      0  HOBBIES_2_001_CA_2_evaluationHOBBIES_2_001HOBB...   \n",
              "3       CA      d_1      1  HOBBIES_2_002_CA_2_evaluationHOBBIES_2_002HOBB...   \n",
              "4       CA      d_1      0  HOBBIES_2_001_CA_3_evaluationHOBBIES_2_001HOBB...   \n",
              "\n",
              "        date  ...  year    d  event_name_1  event_type_1  event_name_2  \\\n",
              "0 2011-01-29  ...  2011  d_1           NaN           NaN           NaN   \n",
              "1 2011-01-29  ...  2011  d_1           NaN           NaN           NaN   \n",
              "2 2011-01-29  ...  2011  d_1           NaN           NaN           NaN   \n",
              "3 2011-01-29  ...  2011  d_1           NaN           NaN           NaN   \n",
              "4 2011-01-29  ...  2011  d_1           NaN           NaN           NaN   \n",
              "\n",
              "  event_type_2 snap_CA snap_TX snap_WI       time  \n",
              "0          NaN       0       0       0 2011-01-01  \n",
              "1          NaN       0       0       0 2011-01-01  \n",
              "2          NaN       0       0       0 2011-01-01  \n",
              "3          NaN       0       0       0 2011-01-01  \n",
              "4          NaN       0       0       0 2011-01-01  \n",
              "\n",
              "[5 rows x 24 columns]"
            ],
            "text/html": [
              "\n",
              "  <div id=\"df-99d66082-9e17-42eb-b81f-96958e4fbbae\">\n",
              "    <div class=\"colab-df-container\">\n",
              "      <div>\n",
              "<style scoped>\n",
              "    .dataframe tbody tr th:only-of-type {\n",
              "        vertical-align: middle;\n",
              "    }\n",
              "\n",
              "    .dataframe tbody tr th {\n",
              "        vertical-align: top;\n",
              "    }\n",
              "\n",
              "    .dataframe thead th {\n",
              "        text-align: right;\n",
              "    }\n",
              "</style>\n",
              "<table border=\"1\" class=\"dataframe\">\n",
              "  <thead>\n",
              "    <tr style=\"text-align: right;\">\n",
              "      <th></th>\n",
              "      <th>id</th>\n",
              "      <th>item_id</th>\n",
              "      <th>dept_id</th>\n",
              "      <th>cat_id</th>\n",
              "      <th>store_id</th>\n",
              "      <th>state_id</th>\n",
              "      <th>variable</th>\n",
              "      <th>value</th>\n",
              "      <th>series_id</th>\n",
              "      <th>date</th>\n",
              "      <th>...</th>\n",
              "      <th>year</th>\n",
              "      <th>d</th>\n",
              "      <th>event_name_1</th>\n",
              "      <th>event_type_1</th>\n",
              "      <th>event_name_2</th>\n",
              "      <th>event_type_2</th>\n",
              "      <th>snap_CA</th>\n",
              "      <th>snap_TX</th>\n",
              "      <th>snap_WI</th>\n",
              "      <th>time</th>\n",
              "    </tr>\n",
              "  </thead>\n",
              "  <tbody>\n",
              "    <tr>\n",
              "      <th>0</th>\n",
              "      <td>HOBBIES_2_001_CA_1_evaluation</td>\n",
              "      <td>HOBBIES_2_001</td>\n",
              "      <td>HOBBIES_2</td>\n",
              "      <td>HOBBIES</td>\n",
              "      <td>CA_1</td>\n",
              "      <td>CA</td>\n",
              "      <td>d_1</td>\n",
              "      <td>1</td>\n",
              "      <td>HOBBIES_2_001_CA_1_evaluationHOBBIES_2_001HOBB...</td>\n",
              "      <td>2011-01-29</td>\n",
              "      <td>...</td>\n",
              "      <td>2011</td>\n",
              "      <td>d_1</td>\n",
              "      <td>NaN</td>\n",
              "      <td>NaN</td>\n",
              "      <td>NaN</td>\n",
              "      <td>NaN</td>\n",
              "      <td>0</td>\n",
              "      <td>0</td>\n",
              "      <td>0</td>\n",
              "      <td>2011-01-01</td>\n",
              "    </tr>\n",
              "    <tr>\n",
              "      <th>1</th>\n",
              "      <td>HOBBIES_2_002_CA_1_evaluation</td>\n",
              "      <td>HOBBIES_2_002</td>\n",
              "      <td>HOBBIES_2</td>\n",
              "      <td>HOBBIES</td>\n",
              "      <td>CA_1</td>\n",
              "      <td>CA</td>\n",
              "      <td>d_1</td>\n",
              "      <td>4</td>\n",
              "      <td>HOBBIES_2_002_CA_1_evaluationHOBBIES_2_002HOBB...</td>\n",
              "      <td>2011-01-29</td>\n",
              "      <td>...</td>\n",
              "      <td>2011</td>\n",
              "      <td>d_1</td>\n",
              "      <td>NaN</td>\n",
              "      <td>NaN</td>\n",
              "      <td>NaN</td>\n",
              "      <td>NaN</td>\n",
              "      <td>0</td>\n",
              "      <td>0</td>\n",
              "      <td>0</td>\n",
              "      <td>2011-01-01</td>\n",
              "    </tr>\n",
              "    <tr>\n",
              "      <th>2</th>\n",
              "      <td>HOBBIES_2_001_CA_2_evaluation</td>\n",
              "      <td>HOBBIES_2_001</td>\n",
              "      <td>HOBBIES_2</td>\n",
              "      <td>HOBBIES</td>\n",
              "      <td>CA_2</td>\n",
              "      <td>CA</td>\n",
              "      <td>d_1</td>\n",
              "      <td>0</td>\n",
              "      <td>HOBBIES_2_001_CA_2_evaluationHOBBIES_2_001HOBB...</td>\n",
              "      <td>2011-01-29</td>\n",
              "      <td>...</td>\n",
              "      <td>2011</td>\n",
              "      <td>d_1</td>\n",
              "      <td>NaN</td>\n",
              "      <td>NaN</td>\n",
              "      <td>NaN</td>\n",
              "      <td>NaN</td>\n",
              "      <td>0</td>\n",
              "      <td>0</td>\n",
              "      <td>0</td>\n",
              "      <td>2011-01-01</td>\n",
              "    </tr>\n",
              "    <tr>\n",
              "      <th>3</th>\n",
              "      <td>HOBBIES_2_002_CA_2_evaluation</td>\n",
              "      <td>HOBBIES_2_002</td>\n",
              "      <td>HOBBIES_2</td>\n",
              "      <td>HOBBIES</td>\n",
              "      <td>CA_2</td>\n",
              "      <td>CA</td>\n",
              "      <td>d_1</td>\n",
              "      <td>1</td>\n",
              "      <td>HOBBIES_2_002_CA_2_evaluationHOBBIES_2_002HOBB...</td>\n",
              "      <td>2011-01-29</td>\n",
              "      <td>...</td>\n",
              "      <td>2011</td>\n",
              "      <td>d_1</td>\n",
              "      <td>NaN</td>\n",
              "      <td>NaN</td>\n",
              "      <td>NaN</td>\n",
              "      <td>NaN</td>\n",
              "      <td>0</td>\n",
              "      <td>0</td>\n",
              "      <td>0</td>\n",
              "      <td>2011-01-01</td>\n",
              "    </tr>\n",
              "    <tr>\n",
              "      <th>4</th>\n",
              "      <td>HOBBIES_2_001_CA_3_evaluation</td>\n",
              "      <td>HOBBIES_2_001</td>\n",
              "      <td>HOBBIES_2</td>\n",
              "      <td>HOBBIES</td>\n",
              "      <td>CA_3</td>\n",
              "      <td>CA</td>\n",
              "      <td>d_1</td>\n",
              "      <td>0</td>\n",
              "      <td>HOBBIES_2_001_CA_3_evaluationHOBBIES_2_001HOBB...</td>\n",
              "      <td>2011-01-29</td>\n",
              "      <td>...</td>\n",
              "      <td>2011</td>\n",
              "      <td>d_1</td>\n",
              "      <td>NaN</td>\n",
              "      <td>NaN</td>\n",
              "      <td>NaN</td>\n",
              "      <td>NaN</td>\n",
              "      <td>0</td>\n",
              "      <td>0</td>\n",
              "      <td>0</td>\n",
              "      <td>2011-01-01</td>\n",
              "    </tr>\n",
              "  </tbody>\n",
              "</table>\n",
              "<p>5 rows × 24 columns</p>\n",
              "</div>\n",
              "      <button class=\"colab-df-convert\" onclick=\"convertToInteractive('df-99d66082-9e17-42eb-b81f-96958e4fbbae')\"\n",
              "              title=\"Convert this dataframe to an interactive table.\"\n",
              "              style=\"display:none;\">\n",
              "        \n",
              "  <svg xmlns=\"http://www.w3.org/2000/svg\" height=\"24px\"viewBox=\"0 0 24 24\"\n",
              "       width=\"24px\">\n",
              "    <path d=\"M0 0h24v24H0V0z\" fill=\"none\"/>\n",
              "    <path d=\"M18.56 5.44l.94 2.06.94-2.06 2.06-.94-2.06-.94-.94-2.06-.94 2.06-2.06.94zm-11 1L8.5 8.5l.94-2.06 2.06-.94-2.06-.94L8.5 2.5l-.94 2.06-2.06.94zm10 10l.94 2.06.94-2.06 2.06-.94-2.06-.94-.94-2.06-.94 2.06-2.06.94z\"/><path d=\"M17.41 7.96l-1.37-1.37c-.4-.4-.92-.59-1.43-.59-.52 0-1.04.2-1.43.59L10.3 9.45l-7.72 7.72c-.78.78-.78 2.05 0 2.83L4 21.41c.39.39.9.59 1.41.59.51 0 1.02-.2 1.41-.59l7.78-7.78 2.81-2.81c.8-.78.8-2.07 0-2.86zM5.41 20L4 18.59l7.72-7.72 1.47 1.35L5.41 20z\"/>\n",
              "  </svg>\n",
              "      </button>\n",
              "      \n",
              "  <style>\n",
              "    .colab-df-container {\n",
              "      display:flex;\n",
              "      flex-wrap:wrap;\n",
              "      gap: 12px;\n",
              "    }\n",
              "\n",
              "    .colab-df-convert {\n",
              "      background-color: #E8F0FE;\n",
              "      border: none;\n",
              "      border-radius: 50%;\n",
              "      cursor: pointer;\n",
              "      display: none;\n",
              "      fill: #1967D2;\n",
              "      height: 32px;\n",
              "      padding: 0 0 0 0;\n",
              "      width: 32px;\n",
              "    }\n",
              "\n",
              "    .colab-df-convert:hover {\n",
              "      background-color: #E2EBFA;\n",
              "      box-shadow: 0px 1px 2px rgba(60, 64, 67, 0.3), 0px 1px 3px 1px rgba(60, 64, 67, 0.15);\n",
              "      fill: #174EA6;\n",
              "    }\n",
              "\n",
              "    [theme=dark] .colab-df-convert {\n",
              "      background-color: #3B4455;\n",
              "      fill: #D2E3FC;\n",
              "    }\n",
              "\n",
              "    [theme=dark] .colab-df-convert:hover {\n",
              "      background-color: #434B5C;\n",
              "      box-shadow: 0px 1px 3px 1px rgba(0, 0, 0, 0.15);\n",
              "      filter: drop-shadow(0px 1px 2px rgba(0, 0, 0, 0.3));\n",
              "      fill: #FFFFFF;\n",
              "    }\n",
              "  </style>\n",
              "\n",
              "      <script>\n",
              "        const buttonEl =\n",
              "          document.querySelector('#df-99d66082-9e17-42eb-b81f-96958e4fbbae button.colab-df-convert');\n",
              "        buttonEl.style.display =\n",
              "          google.colab.kernel.accessAllowed ? 'block' : 'none';\n",
              "\n",
              "        async function convertToInteractive(key) {\n",
              "          const element = document.querySelector('#df-99d66082-9e17-42eb-b81f-96958e4fbbae');\n",
              "          const dataTable =\n",
              "            await google.colab.kernel.invokeFunction('convertToInteractive',\n",
              "                                                     [key], {});\n",
              "          if (!dataTable) return;\n",
              "\n",
              "          const docLinkHtml = 'Like what you see? Visit the ' +\n",
              "            '<a target=\"_blank\" href=https://colab.research.google.com/notebooks/data_table.ipynb>data table notebook</a>'\n",
              "            + ' to learn more about interactive tables.';\n",
              "          element.innerHTML = '';\n",
              "          dataTable['output_type'] = 'display_data';\n",
              "          await google.colab.output.renderOutput(dataTable, element);\n",
              "          const docLink = document.createElement('div');\n",
              "          docLink.innerHTML = docLinkHtml;\n",
              "          element.appendChild(docLink);\n",
              "        }\n",
              "      </script>\n",
              "    </div>\n",
              "  </div>\n",
              "  "
            ]
          },
          "metadata": {},
          "execution_count": 16
        }
      ]
    },
    {
      "cell_type": "code",
      "source": [
        "df_full.columns"
      ],
      "metadata": {
        "colab": {
          "base_uri": "https://localhost:8080/"
        },
        "id": "rvflm5zMXx2_",
        "outputId": "dd22a216-9298-476f-9d92-c28efd1c5e79"
      },
      "execution_count": 17,
      "outputs": [
        {
          "output_type": "execute_result",
          "data": {
            "text/plain": [
              "Index(['id', 'item_id', 'dept_id', 'cat_id', 'store_id', 'state_id',\n",
              "       'variable', 'value', 'series_id', 'date', 'wm_yr_wk', 'weekday', 'wday',\n",
              "       'month', 'year', 'd', 'event_name_1', 'event_type_1', 'event_name_2',\n",
              "       'event_type_2', 'snap_CA', 'snap_TX', 'snap_WI', 'time'],\n",
              "      dtype='object')"
            ]
          },
          "metadata": {},
          "execution_count": 17
        }
      ]
    },
    {
      "cell_type": "code",
      "source": [
        "df_full_monthly = df_full[['series_id','time','value']].groupby(['series_id','time'])['value']\\\n",
        ".sum().reset_index()\n",
        "df_full_monthly.info()"
      ],
      "metadata": {
        "colab": {
          "base_uri": "https://localhost:8080/"
        },
        "id": "cizoj61IXjh4",
        "outputId": "3e27f283-c51c-4615-c511-c321ec162786"
      },
      "execution_count": 18,
      "outputs": [
        {
          "output_type": "stream",
          "name": "stdout",
          "text": [
            "<class 'pandas.core.frame.DataFrame'>\n",
            "RangeIndex: 1300 entries, 0 to 1299\n",
            "Data columns (total 3 columns):\n",
            " #   Column     Non-Null Count  Dtype         \n",
            "---  ------     --------------  -----         \n",
            " 0   series_id  1300 non-null   object        \n",
            " 1   time       1300 non-null   datetime64[ns]\n",
            " 2   value      1300 non-null   int64         \n",
            "dtypes: datetime64[ns](1), int64(1), object(1)\n",
            "memory usage: 30.6+ KB\n"
          ]
        }
      ]
    },
    {
      "cell_type": "code",
      "source": [
        "df_full_monthly.head()"
      ],
      "metadata": {
        "colab": {
          "base_uri": "https://localhost:8080/",
          "height": 206
        },
        "id": "X9e-pEEBfkIG",
        "outputId": "62614c78-a95d-4336-f8d9-e436c131fd1f"
      },
      "execution_count": 48,
      "outputs": [
        {
          "output_type": "execute_result",
          "data": {
            "text/plain": [
              "                                           series_id       time  value  Target\n",
              "0  HOBBIES_2_001_CA_1_evaluationHOBBIES_2_001HOBB... 2011-01-01      1       0\n",
              "1  HOBBIES_2_001_CA_1_evaluationHOBBIES_2_001HOBB... 2011-02-01      5       0\n",
              "2  HOBBIES_2_001_CA_1_evaluationHOBBIES_2_001HOBB... 2011-03-01      2       0\n",
              "3  HOBBIES_2_001_CA_1_evaluationHOBBIES_2_001HOBB... 2011-04-01      3       0\n",
              "4  HOBBIES_2_001_CA_1_evaluationHOBBIES_2_001HOBB... 2011-05-01      4       0"
            ],
            "text/html": [
              "\n",
              "  <div id=\"df-855c80b4-ac61-4fd7-bce0-ce16c97ce36d\">\n",
              "    <div class=\"colab-df-container\">\n",
              "      <div>\n",
              "<style scoped>\n",
              "    .dataframe tbody tr th:only-of-type {\n",
              "        vertical-align: middle;\n",
              "    }\n",
              "\n",
              "    .dataframe tbody tr th {\n",
              "        vertical-align: top;\n",
              "    }\n",
              "\n",
              "    .dataframe thead th {\n",
              "        text-align: right;\n",
              "    }\n",
              "</style>\n",
              "<table border=\"1\" class=\"dataframe\">\n",
              "  <thead>\n",
              "    <tr style=\"text-align: right;\">\n",
              "      <th></th>\n",
              "      <th>series_id</th>\n",
              "      <th>time</th>\n",
              "      <th>value</th>\n",
              "      <th>Target</th>\n",
              "    </tr>\n",
              "  </thead>\n",
              "  <tbody>\n",
              "    <tr>\n",
              "      <th>0</th>\n",
              "      <td>HOBBIES_2_001_CA_1_evaluationHOBBIES_2_001HOBB...</td>\n",
              "      <td>2011-01-01</td>\n",
              "      <td>1</td>\n",
              "      <td>0</td>\n",
              "    </tr>\n",
              "    <tr>\n",
              "      <th>1</th>\n",
              "      <td>HOBBIES_2_001_CA_1_evaluationHOBBIES_2_001HOBB...</td>\n",
              "      <td>2011-02-01</td>\n",
              "      <td>5</td>\n",
              "      <td>0</td>\n",
              "    </tr>\n",
              "    <tr>\n",
              "      <th>2</th>\n",
              "      <td>HOBBIES_2_001_CA_1_evaluationHOBBIES_2_001HOBB...</td>\n",
              "      <td>2011-03-01</td>\n",
              "      <td>2</td>\n",
              "      <td>0</td>\n",
              "    </tr>\n",
              "    <tr>\n",
              "      <th>3</th>\n",
              "      <td>HOBBIES_2_001_CA_1_evaluationHOBBIES_2_001HOBB...</td>\n",
              "      <td>2011-04-01</td>\n",
              "      <td>3</td>\n",
              "      <td>0</td>\n",
              "    </tr>\n",
              "    <tr>\n",
              "      <th>4</th>\n",
              "      <td>HOBBIES_2_001_CA_1_evaluationHOBBIES_2_001HOBB...</td>\n",
              "      <td>2011-05-01</td>\n",
              "      <td>4</td>\n",
              "      <td>0</td>\n",
              "    </tr>\n",
              "  </tbody>\n",
              "</table>\n",
              "</div>\n",
              "      <button class=\"colab-df-convert\" onclick=\"convertToInteractive('df-855c80b4-ac61-4fd7-bce0-ce16c97ce36d')\"\n",
              "              title=\"Convert this dataframe to an interactive table.\"\n",
              "              style=\"display:none;\">\n",
              "        \n",
              "  <svg xmlns=\"http://www.w3.org/2000/svg\" height=\"24px\"viewBox=\"0 0 24 24\"\n",
              "       width=\"24px\">\n",
              "    <path d=\"M0 0h24v24H0V0z\" fill=\"none\"/>\n",
              "    <path d=\"M18.56 5.44l.94 2.06.94-2.06 2.06-.94-2.06-.94-.94-2.06-.94 2.06-2.06.94zm-11 1L8.5 8.5l.94-2.06 2.06-.94-2.06-.94L8.5 2.5l-.94 2.06-2.06.94zm10 10l.94 2.06.94-2.06 2.06-.94-2.06-.94-.94-2.06-.94 2.06-2.06.94z\"/><path d=\"M17.41 7.96l-1.37-1.37c-.4-.4-.92-.59-1.43-.59-.52 0-1.04.2-1.43.59L10.3 9.45l-7.72 7.72c-.78.78-.78 2.05 0 2.83L4 21.41c.39.39.9.59 1.41.59.51 0 1.02-.2 1.41-.59l7.78-7.78 2.81-2.81c.8-.78.8-2.07 0-2.86zM5.41 20L4 18.59l7.72-7.72 1.47 1.35L5.41 20z\"/>\n",
              "  </svg>\n",
              "      </button>\n",
              "      \n",
              "  <style>\n",
              "    .colab-df-container {\n",
              "      display:flex;\n",
              "      flex-wrap:wrap;\n",
              "      gap: 12px;\n",
              "    }\n",
              "\n",
              "    .colab-df-convert {\n",
              "      background-color: #E8F0FE;\n",
              "      border: none;\n",
              "      border-radius: 50%;\n",
              "      cursor: pointer;\n",
              "      display: none;\n",
              "      fill: #1967D2;\n",
              "      height: 32px;\n",
              "      padding: 0 0 0 0;\n",
              "      width: 32px;\n",
              "    }\n",
              "\n",
              "    .colab-df-convert:hover {\n",
              "      background-color: #E2EBFA;\n",
              "      box-shadow: 0px 1px 2px rgba(60, 64, 67, 0.3), 0px 1px 3px 1px rgba(60, 64, 67, 0.15);\n",
              "      fill: #174EA6;\n",
              "    }\n",
              "\n",
              "    [theme=dark] .colab-df-convert {\n",
              "      background-color: #3B4455;\n",
              "      fill: #D2E3FC;\n",
              "    }\n",
              "\n",
              "    [theme=dark] .colab-df-convert:hover {\n",
              "      background-color: #434B5C;\n",
              "      box-shadow: 0px 1px 3px 1px rgba(0, 0, 0, 0.15);\n",
              "      filter: drop-shadow(0px 1px 2px rgba(0, 0, 0, 0.3));\n",
              "      fill: #FFFFFF;\n",
              "    }\n",
              "  </style>\n",
              "\n",
              "      <script>\n",
              "        const buttonEl =\n",
              "          document.querySelector('#df-855c80b4-ac61-4fd7-bce0-ce16c97ce36d button.colab-df-convert');\n",
              "        buttonEl.style.display =\n",
              "          google.colab.kernel.accessAllowed ? 'block' : 'none';\n",
              "\n",
              "        async function convertToInteractive(key) {\n",
              "          const element = document.querySelector('#df-855c80b4-ac61-4fd7-bce0-ce16c97ce36d');\n",
              "          const dataTable =\n",
              "            await google.colab.kernel.invokeFunction('convertToInteractive',\n",
              "                                                     [key], {});\n",
              "          if (!dataTable) return;\n",
              "\n",
              "          const docLinkHtml = 'Like what you see? Visit the ' +\n",
              "            '<a target=\"_blank\" href=https://colab.research.google.com/notebooks/data_table.ipynb>data table notebook</a>'\n",
              "            + ' to learn more about interactive tables.';\n",
              "          element.innerHTML = '';\n",
              "          dataTable['output_type'] = 'display_data';\n",
              "          await google.colab.output.renderOutput(dataTable, element);\n",
              "          const docLink = document.createElement('div');\n",
              "          docLink.innerHTML = docLinkHtml;\n",
              "          element.appendChild(docLink);\n",
              "        }\n",
              "      </script>\n",
              "    </div>\n",
              "  </div>\n",
              "  "
            ]
          },
          "metadata": {},
          "execution_count": 48
        }
      ]
    },
    {
      "cell_type": "code",
      "source": [
        "\n",
        "#!pip install tsfresh"
      ],
      "metadata": {
        "id": "FwaXOMmOYQOd",
        "colab": {
          "base_uri": "https://localhost:8080/"
        },
        "outputId": "08cffb96-9741-450e-bd04-3777a0befc4e"
      },
      "execution_count": 25,
      "outputs": [
        {
          "output_type": "stream",
          "name": "stdout",
          "text": [
            "Looking in indexes: https://pypi.org/simple, https://us-python.pkg.dev/colab-wheels/public/simple/\n",
            "Collecting tsfresh\n",
            "  Downloading tsfresh-0.20.0-py2.py3-none-any.whl (98 kB)\n",
            "\u001b[2K     \u001b[90m━━━━━━━━━━━━━━━━━━━━━━━━━━━━━━━━━━━━━━━━\u001b[0m \u001b[32m98.2/98.2 kB\u001b[0m \u001b[31m3.9 MB/s\u001b[0m eta \u001b[36m0:00:00\u001b[0m\n",
            "\u001b[?25hRequirement already satisfied: scipy>=1.2.0 in /usr/local/lib/python3.9/dist-packages (from tsfresh) (1.10.1)\n",
            "Requirement already satisfied: dask[dataframe]>=2.9.0 in /usr/local/lib/python3.9/dist-packages (from tsfresh) (2022.12.1)\n",
            "Requirement already satisfied: numpy>=1.15.1 in /usr/local/lib/python3.9/dist-packages (from tsfresh) (1.22.4)\n",
            "Requirement already satisfied: requests>=2.9.1 in /usr/local/lib/python3.9/dist-packages (from tsfresh) (2.27.1)\n",
            "Collecting stumpy>=1.7.2\n",
            "  Downloading stumpy-1.11.1-py3-none-any.whl (136 kB)\n",
            "\u001b[2K     \u001b[90m━━━━━━━━━━━━━━━━━━━━━━━━━━━━━━━━━━━━━━━\u001b[0m \u001b[32m136.2/136.2 kB\u001b[0m \u001b[31m7.7 MB/s\u001b[0m eta \u001b[36m0:00:00\u001b[0m\n",
            "\u001b[?25hRequirement already satisfied: tqdm>=4.10.0 in /usr/local/lib/python3.9/dist-packages (from tsfresh) (4.65.0)\n",
            "Requirement already satisfied: cloudpickle in /usr/local/lib/python3.9/dist-packages (from tsfresh) (2.2.1)\n",
            "Requirement already satisfied: patsy>=0.4.1 in /usr/local/lib/python3.9/dist-packages (from tsfresh) (0.5.3)\n",
            "Requirement already satisfied: pandas>=0.25.0 in /usr/local/lib/python3.9/dist-packages (from tsfresh) (1.4.4)\n",
            "Requirement already satisfied: scikit-learn>=0.22.0 in /usr/local/lib/python3.9/dist-packages (from tsfresh) (1.2.2)\n",
            "Requirement already satisfied: statsmodels>=0.13 in /usr/local/lib/python3.9/dist-packages (from tsfresh) (0.13.5)\n",
            "Requirement already satisfied: distributed>=2.11.0 in /usr/local/lib/python3.9/dist-packages (from tsfresh) (2022.12.1)\n",
            "Requirement already satisfied: packaging>=20.0 in /usr/local/lib/python3.9/dist-packages (from dask[dataframe]>=2.9.0->tsfresh) (23.0)\n",
            "Requirement already satisfied: click>=7.0 in /usr/local/lib/python3.9/dist-packages (from dask[dataframe]>=2.9.0->tsfresh) (8.1.3)\n",
            "Requirement already satisfied: toolz>=0.8.2 in /usr/local/lib/python3.9/dist-packages (from dask[dataframe]>=2.9.0->tsfresh) (0.12.0)\n",
            "Requirement already satisfied: fsspec>=0.6.0 in /usr/local/lib/python3.9/dist-packages (from dask[dataframe]>=2.9.0->tsfresh) (2023.3.0)\n",
            "Requirement already satisfied: pyyaml>=5.3.1 in /usr/local/lib/python3.9/dist-packages (from dask[dataframe]>=2.9.0->tsfresh) (6.0)\n",
            "Requirement already satisfied: partd>=0.3.10 in /usr/local/lib/python3.9/dist-packages (from dask[dataframe]>=2.9.0->tsfresh) (1.3.0)\n",
            "Requirement already satisfied: sortedcontainers!=2.0.0,!=2.0.1 in /usr/local/lib/python3.9/dist-packages (from distributed>=2.11.0->tsfresh) (2.4.0)\n",
            "Requirement already satisfied: tornado>=6.0.3 in /usr/local/lib/python3.9/dist-packages (from distributed>=2.11.0->tsfresh) (6.2)\n",
            "Requirement already satisfied: zict>=0.1.3 in /usr/local/lib/python3.9/dist-packages (from distributed>=2.11.0->tsfresh) (2.2.0)\n",
            "Requirement already satisfied: msgpack>=0.6.0 in /usr/local/lib/python3.9/dist-packages (from distributed>=2.11.0->tsfresh) (1.0.5)\n",
            "Requirement already satisfied: urllib3 in /usr/local/lib/python3.9/dist-packages (from distributed>=2.11.0->tsfresh) (1.26.15)\n",
            "Requirement already satisfied: locket>=1.0.0 in /usr/local/lib/python3.9/dist-packages (from distributed>=2.11.0->tsfresh) (1.0.0)\n",
            "Requirement already satisfied: jinja2 in /usr/local/lib/python3.9/dist-packages (from distributed>=2.11.0->tsfresh) (3.1.2)\n",
            "Requirement already satisfied: tblib>=1.6.0 in /usr/local/lib/python3.9/dist-packages (from distributed>=2.11.0->tsfresh) (1.7.0)\n",
            "Requirement already satisfied: psutil>=5.0 in /usr/local/lib/python3.9/dist-packages (from distributed>=2.11.0->tsfresh) (5.9.4)\n",
            "Requirement already satisfied: pytz>=2020.1 in /usr/local/lib/python3.9/dist-packages (from pandas>=0.25.0->tsfresh) (2022.7.1)\n",
            "Requirement already satisfied: python-dateutil>=2.8.1 in /usr/local/lib/python3.9/dist-packages (from pandas>=0.25.0->tsfresh) (2.8.2)\n",
            "Requirement already satisfied: six in /usr/local/lib/python3.9/dist-packages (from patsy>=0.4.1->tsfresh) (1.16.0)\n",
            "Requirement already satisfied: idna<4,>=2.5 in /usr/local/lib/python3.9/dist-packages (from requests>=2.9.1->tsfresh) (3.4)\n",
            "Requirement already satisfied: charset-normalizer~=2.0.0 in /usr/local/lib/python3.9/dist-packages (from requests>=2.9.1->tsfresh) (2.0.12)\n",
            "Requirement already satisfied: certifi>=2017.4.17 in /usr/local/lib/python3.9/dist-packages (from requests>=2.9.1->tsfresh) (2022.12.7)\n",
            "Requirement already satisfied: joblib>=1.1.1 in /usr/local/lib/python3.9/dist-packages (from scikit-learn>=0.22.0->tsfresh) (1.1.1)\n",
            "Requirement already satisfied: threadpoolctl>=2.0.0 in /usr/local/lib/python3.9/dist-packages (from scikit-learn>=0.22.0->tsfresh) (3.1.0)\n",
            "Requirement already satisfied: numba>=0.54 in /usr/local/lib/python3.9/dist-packages (from stumpy>=1.7.2->tsfresh) (0.56.4)\n",
            "Requirement already satisfied: setuptools in /usr/local/lib/python3.9/dist-packages (from numba>=0.54->stumpy>=1.7.2->tsfresh) (67.6.1)\n",
            "Requirement already satisfied: llvmlite<0.40,>=0.39.0dev0 in /usr/local/lib/python3.9/dist-packages (from numba>=0.54->stumpy>=1.7.2->tsfresh) (0.39.1)\n",
            "Requirement already satisfied: heapdict in /usr/local/lib/python3.9/dist-packages (from zict>=0.1.3->distributed>=2.11.0->tsfresh) (1.0.1)\n",
            "Requirement already satisfied: MarkupSafe>=2.0 in /usr/local/lib/python3.9/dist-packages (from jinja2->distributed>=2.11.0->tsfresh) (2.1.2)\n",
            "Installing collected packages: stumpy, tsfresh\n",
            "Successfully installed stumpy-1.11.1 tsfresh-0.20.0\n"
          ]
        }
      ]
    },
    {
      "cell_type": "code",
      "source": [
        "df_full_monthly.sort_values(['series_id','time'],inplace=True)\n",
        "y = df_full_monthly.groupby(['series_id'])['value'].shift(-1)"
      ],
      "metadata": {
        "id": "BU6Ygao0Zh_n"
      },
      "execution_count": 20,
      "outputs": []
    },
    {
      "cell_type": "code",
      "source": [
        "y_binary = pd.Series(np.where(y==0, 1, 0))\n",
        "y_binary.value_counts()"
      ],
      "metadata": {
        "colab": {
          "base_uri": "https://localhost:8080/"
        },
        "id": "weK13lCBeBoK",
        "outputId": "7fc90fef-ce18-45bd-ee71-c770fb6563af"
      },
      "execution_count": 21,
      "outputs": [
        {
          "output_type": "execute_result",
          "data": {
            "text/plain": [
              "0    1076\n",
              "1     224\n",
              "dtype: int64"
            ]
          },
          "metadata": {},
          "execution_count": 21
        }
      ]
    },
    {
      "cell_type": "code",
      "source": [
        "from tsfresh.utilities.dataframe_functions import roll_time_series\n",
        "df_rolled = roll_time_series(df_full_monthly.rename(columns={'series_id':'id'}), \n",
        "                             column_id=\"id\", column_sort=\"time\")"
      ],
      "metadata": {
        "colab": {
          "base_uri": "https://localhost:8080/"
        },
        "id": "hebQXJGJYDiL",
        "outputId": "41de9bb5-3815-4e98-dae6-b8c1a987ccfd"
      },
      "execution_count": 26,
      "outputs": [
        {
          "output_type": "stream",
          "name": "stderr",
          "text": [
            "/usr/local/lib/python3.9/dist-packages/tsfresh/utilities/dataframe_functions.py:520: UserWarning: Your time stamps are not uniformly sampled, which makes rolling nonsensical in some domains.\n",
            "  warnings.warn(\n",
            "Rolling: 100%|██████████| 65/65 [00:03<00:00, 17.60it/s]\n"
          ]
        }
      ]
    },
    {
      "cell_type": "code",
      "source": [
        "from tsfresh import extract_features\n",
        "df_features = extract_features(df_rolled, column_id=\"id\", column_sort=\"time\")\n",
        "df_features.info()"
      ],
      "metadata": {
        "colab": {
          "base_uri": "https://localhost:8080/"
        },
        "id": "TdqWI_Y0aG2s",
        "outputId": "2d69e5f8-bb78-4b59-893e-be40d701c74f"
      },
      "execution_count": 27,
      "outputs": [
        {
          "output_type": "stream",
          "name": "stderr",
          "text": [
            "WARNING:tsfresh.feature_extraction.settings:Dependency not available for matrix_profile, this feature will be disabled!\n",
            "Feature Extraction: 100%|██████████| 1300/1300 [01:15<00:00, 17.20it/s]\n"
          ]
        },
        {
          "output_type": "stream",
          "name": "stdout",
          "text": [
            "<class 'pandas.core.frame.DataFrame'>\n",
            "MultiIndex: 1300 entries, ('HOBBIES_2_001_CA_1_evaluationHOBBIES_2_001HOBBIES_2HOBBIESCA_1CA', Timestamp('2011-01-01 00:00:00')) to ('HOBBIES_2_002_WI_3_evaluationHOBBIES_2_002HOBBIES_2HOBBIESWI_3WI', Timestamp('2016-05-01 00:00:00'))\n",
            "Columns: 783 entries, value__variance_larger_than_standard_deviation to value__mean_n_absolute_max__number_of_maxima_7\n",
            "dtypes: float64(783)\n",
            "memory usage: 7.8+ MB\n"
          ]
        }
      ]
    },
    {
      "cell_type": "code",
      "source": [
        "df_rolled.head()"
      ],
      "metadata": {
        "colab": {
          "base_uri": "https://localhost:8080/",
          "height": 206
        },
        "id": "EmQMEofbbbXt",
        "outputId": "15c2d4cb-4752-4c29-f1ca-b56cdca2925d"
      },
      "execution_count": 28,
      "outputs": [
        {
          "output_type": "execute_result",
          "data": {
            "text/plain": [
              "                                                   id       time  value\n",
              "0   (HOBBIES_2_001_CA_1_evaluationHOBBIES_2_001HOB... 2011-01-01      1\n",
              "20  (HOBBIES_2_001_CA_1_evaluationHOBBIES_2_001HOB... 2011-01-01      1\n",
              "21  (HOBBIES_2_001_CA_1_evaluationHOBBIES_2_001HOB... 2011-02-01      5\n",
              "60  (HOBBIES_2_001_CA_1_evaluationHOBBIES_2_001HOB... 2011-01-01      1\n",
              "61  (HOBBIES_2_001_CA_1_evaluationHOBBIES_2_001HOB... 2011-02-01      5"
            ],
            "text/html": [
              "\n",
              "  <div id=\"df-08f98d92-7d71-4901-b16e-1d5c665967a9\">\n",
              "    <div class=\"colab-df-container\">\n",
              "      <div>\n",
              "<style scoped>\n",
              "    .dataframe tbody tr th:only-of-type {\n",
              "        vertical-align: middle;\n",
              "    }\n",
              "\n",
              "    .dataframe tbody tr th {\n",
              "        vertical-align: top;\n",
              "    }\n",
              "\n",
              "    .dataframe thead th {\n",
              "        text-align: right;\n",
              "    }\n",
              "</style>\n",
              "<table border=\"1\" class=\"dataframe\">\n",
              "  <thead>\n",
              "    <tr style=\"text-align: right;\">\n",
              "      <th></th>\n",
              "      <th>id</th>\n",
              "      <th>time</th>\n",
              "      <th>value</th>\n",
              "    </tr>\n",
              "  </thead>\n",
              "  <tbody>\n",
              "    <tr>\n",
              "      <th>0</th>\n",
              "      <td>(HOBBIES_2_001_CA_1_evaluationHOBBIES_2_001HOB...</td>\n",
              "      <td>2011-01-01</td>\n",
              "      <td>1</td>\n",
              "    </tr>\n",
              "    <tr>\n",
              "      <th>20</th>\n",
              "      <td>(HOBBIES_2_001_CA_1_evaluationHOBBIES_2_001HOB...</td>\n",
              "      <td>2011-01-01</td>\n",
              "      <td>1</td>\n",
              "    </tr>\n",
              "    <tr>\n",
              "      <th>21</th>\n",
              "      <td>(HOBBIES_2_001_CA_1_evaluationHOBBIES_2_001HOB...</td>\n",
              "      <td>2011-02-01</td>\n",
              "      <td>5</td>\n",
              "    </tr>\n",
              "    <tr>\n",
              "      <th>60</th>\n",
              "      <td>(HOBBIES_2_001_CA_1_evaluationHOBBIES_2_001HOB...</td>\n",
              "      <td>2011-01-01</td>\n",
              "      <td>1</td>\n",
              "    </tr>\n",
              "    <tr>\n",
              "      <th>61</th>\n",
              "      <td>(HOBBIES_2_001_CA_1_evaluationHOBBIES_2_001HOB...</td>\n",
              "      <td>2011-02-01</td>\n",
              "      <td>5</td>\n",
              "    </tr>\n",
              "  </tbody>\n",
              "</table>\n",
              "</div>\n",
              "      <button class=\"colab-df-convert\" onclick=\"convertToInteractive('df-08f98d92-7d71-4901-b16e-1d5c665967a9')\"\n",
              "              title=\"Convert this dataframe to an interactive table.\"\n",
              "              style=\"display:none;\">\n",
              "        \n",
              "  <svg xmlns=\"http://www.w3.org/2000/svg\" height=\"24px\"viewBox=\"0 0 24 24\"\n",
              "       width=\"24px\">\n",
              "    <path d=\"M0 0h24v24H0V0z\" fill=\"none\"/>\n",
              "    <path d=\"M18.56 5.44l.94 2.06.94-2.06 2.06-.94-2.06-.94-.94-2.06-.94 2.06-2.06.94zm-11 1L8.5 8.5l.94-2.06 2.06-.94-2.06-.94L8.5 2.5l-.94 2.06-2.06.94zm10 10l.94 2.06.94-2.06 2.06-.94-2.06-.94-.94-2.06-.94 2.06-2.06.94z\"/><path d=\"M17.41 7.96l-1.37-1.37c-.4-.4-.92-.59-1.43-.59-.52 0-1.04.2-1.43.59L10.3 9.45l-7.72 7.72c-.78.78-.78 2.05 0 2.83L4 21.41c.39.39.9.59 1.41.59.51 0 1.02-.2 1.41-.59l7.78-7.78 2.81-2.81c.8-.78.8-2.07 0-2.86zM5.41 20L4 18.59l7.72-7.72 1.47 1.35L5.41 20z\"/>\n",
              "  </svg>\n",
              "      </button>\n",
              "      \n",
              "  <style>\n",
              "    .colab-df-container {\n",
              "      display:flex;\n",
              "      flex-wrap:wrap;\n",
              "      gap: 12px;\n",
              "    }\n",
              "\n",
              "    .colab-df-convert {\n",
              "      background-color: #E8F0FE;\n",
              "      border: none;\n",
              "      border-radius: 50%;\n",
              "      cursor: pointer;\n",
              "      display: none;\n",
              "      fill: #1967D2;\n",
              "      height: 32px;\n",
              "      padding: 0 0 0 0;\n",
              "      width: 32px;\n",
              "    }\n",
              "\n",
              "    .colab-df-convert:hover {\n",
              "      background-color: #E2EBFA;\n",
              "      box-shadow: 0px 1px 2px rgba(60, 64, 67, 0.3), 0px 1px 3px 1px rgba(60, 64, 67, 0.15);\n",
              "      fill: #174EA6;\n",
              "    }\n",
              "\n",
              "    [theme=dark] .colab-df-convert {\n",
              "      background-color: #3B4455;\n",
              "      fill: #D2E3FC;\n",
              "    }\n",
              "\n",
              "    [theme=dark] .colab-df-convert:hover {\n",
              "      background-color: #434B5C;\n",
              "      box-shadow: 0px 1px 3px 1px rgba(0, 0, 0, 0.15);\n",
              "      filter: drop-shadow(0px 1px 2px rgba(0, 0, 0, 0.3));\n",
              "      fill: #FFFFFF;\n",
              "    }\n",
              "  </style>\n",
              "\n",
              "      <script>\n",
              "        const buttonEl =\n",
              "          document.querySelector('#df-08f98d92-7d71-4901-b16e-1d5c665967a9 button.colab-df-convert');\n",
              "        buttonEl.style.display =\n",
              "          google.colab.kernel.accessAllowed ? 'block' : 'none';\n",
              "\n",
              "        async function convertToInteractive(key) {\n",
              "          const element = document.querySelector('#df-08f98d92-7d71-4901-b16e-1d5c665967a9');\n",
              "          const dataTable =\n",
              "            await google.colab.kernel.invokeFunction('convertToInteractive',\n",
              "                                                     [key], {});\n",
              "          if (!dataTable) return;\n",
              "\n",
              "          const docLinkHtml = 'Like what you see? Visit the ' +\n",
              "            '<a target=\"_blank\" href=https://colab.research.google.com/notebooks/data_table.ipynb>data table notebook</a>'\n",
              "            + ' to learn more about interactive tables.';\n",
              "          element.innerHTML = '';\n",
              "          dataTable['output_type'] = 'display_data';\n",
              "          await google.colab.output.renderOutput(dataTable, element);\n",
              "          const docLink = document.createElement('div');\n",
              "          docLink.innerHTML = docLinkHtml;\n",
              "          element.appendChild(docLink);\n",
              "        }\n",
              "      </script>\n",
              "    </div>\n",
              "  </div>\n",
              "  "
            ]
          },
          "metadata": {},
          "execution_count": 28
        }
      ]
    },
    {
      "cell_type": "code",
      "source": [
        "y.shape, df_features.shape"
      ],
      "metadata": {
        "colab": {
          "base_uri": "https://localhost:8080/"
        },
        "id": "u-O6MRCKc69R",
        "outputId": "30a5077f-f908-403b-b89d-544d15102e85"
      },
      "execution_count": 29,
      "outputs": [
        {
          "output_type": "execute_result",
          "data": {
            "text/plain": [
              "((1300,), (1300, 783))"
            ]
          },
          "metadata": {},
          "execution_count": 29
        }
      ]
    },
    {
      "cell_type": "code",
      "source": [
        "df_full_monthly['Target'] = y_binary"
      ],
      "metadata": {
        "id": "415IT4JogOVU"
      },
      "execution_count": 30,
      "outputs": []
    },
    {
      "cell_type": "code",
      "source": [
        "df_features = df_features.reset_index()\n",
        "df_features.head()"
      ],
      "metadata": {
        "colab": {
          "base_uri": "https://localhost:8080/",
          "height": 300
        },
        "id": "4KjT21yUdNGZ",
        "outputId": "55ad9779-341a-49a9-a69e-1d4e5d19a327"
      },
      "execution_count": 31,
      "outputs": [
        {
          "output_type": "execute_result",
          "data": {
            "text/plain": [
              "                                             level_0    level_1  \\\n",
              "0  HOBBIES_2_001_CA_1_evaluationHOBBIES_2_001HOBB... 2011-01-01   \n",
              "1  HOBBIES_2_001_CA_1_evaluationHOBBIES_2_001HOBB... 2011-02-01   \n",
              "2  HOBBIES_2_001_CA_1_evaluationHOBBIES_2_001HOBB... 2011-03-01   \n",
              "3  HOBBIES_2_001_CA_1_evaluationHOBBIES_2_001HOBB... 2011-04-01   \n",
              "4  HOBBIES_2_001_CA_1_evaluationHOBBIES_2_001HOBB... 2011-05-01   \n",
              "\n",
              "   value__variance_larger_than_standard_deviation  value__has_duplicate_max  \\\n",
              "0                                             0.0                       0.0   \n",
              "1                                             1.0                       0.0   \n",
              "2                                             1.0                       0.0   \n",
              "3                                             1.0                       0.0   \n",
              "4                                             1.0                       0.0   \n",
              "\n",
              "   value__has_duplicate_min  value__has_duplicate  value__sum_values  \\\n",
              "0                       0.0                   0.0                1.0   \n",
              "1                       0.0                   0.0                6.0   \n",
              "2                       0.0                   0.0                8.0   \n",
              "3                       0.0                   0.0               11.0   \n",
              "4                       0.0                   0.0               15.0   \n",
              "\n",
              "   value__abs_energy  value__mean_abs_change  value__mean_change  ...  \\\n",
              "0                1.0                     NaN                 NaN  ...   \n",
              "1               26.0                4.000000            4.000000  ...   \n",
              "2               30.0                3.500000            0.500000  ...   \n",
              "3               39.0                2.666667            0.666667  ...   \n",
              "4               55.0                2.250000            0.750000  ...   \n",
              "\n",
              "   value__fourier_entropy__bins_5  value__fourier_entropy__bins_10  \\\n",
              "0                             NaN                              NaN   \n",
              "1                       -0.000000                        -0.000000   \n",
              "2                        0.693147                         0.693147   \n",
              "3                        1.098612                         1.098612   \n",
              "4                        1.098612                         1.098612   \n",
              "\n",
              "   value__fourier_entropy__bins_100  \\\n",
              "0                               NaN   \n",
              "1                         -0.000000   \n",
              "2                          0.693147   \n",
              "3                          1.098612   \n",
              "4                          1.098612   \n",
              "\n",
              "   value__permutation_entropy__dimension_3__tau_1  \\\n",
              "0                                             NaN   \n",
              "1                                             NaN   \n",
              "2                                       -0.000000   \n",
              "3                                        0.693147   \n",
              "4                                        1.098612   \n",
              "\n",
              "   value__permutation_entropy__dimension_4__tau_1  \\\n",
              "0                                             NaN   \n",
              "1                                             NaN   \n",
              "2                                             NaN   \n",
              "3                                       -0.000000   \n",
              "4                                        0.693147   \n",
              "\n",
              "   value__permutation_entropy__dimension_5__tau_1  \\\n",
              "0                                             NaN   \n",
              "1                                             NaN   \n",
              "2                                             NaN   \n",
              "3                                             NaN   \n",
              "4                                            -0.0   \n",
              "\n",
              "   value__permutation_entropy__dimension_6__tau_1  \\\n",
              "0                                             NaN   \n",
              "1                                             NaN   \n",
              "2                                             NaN   \n",
              "3                                             NaN   \n",
              "4                                             NaN   \n",
              "\n",
              "   value__permutation_entropy__dimension_7__tau_1  \\\n",
              "0                                             NaN   \n",
              "1                                             NaN   \n",
              "2                                             NaN   \n",
              "3                                             NaN   \n",
              "4                                             NaN   \n",
              "\n",
              "   value__query_similarity_count__query_None__threshold_0.0  \\\n",
              "0                                                NaN          \n",
              "1                                                NaN          \n",
              "2                                                NaN          \n",
              "3                                                NaN          \n",
              "4                                                NaN          \n",
              "\n",
              "   value__mean_n_absolute_max__number_of_maxima_7  \n",
              "0                                             NaN  \n",
              "1                                             NaN  \n",
              "2                                             NaN  \n",
              "3                                             NaN  \n",
              "4                                             NaN  \n",
              "\n",
              "[5 rows x 785 columns]"
            ],
            "text/html": [
              "\n",
              "  <div id=\"df-9bb8a681-69c0-4cf8-a9e1-97a252f6df5c\">\n",
              "    <div class=\"colab-df-container\">\n",
              "      <div>\n",
              "<style scoped>\n",
              "    .dataframe tbody tr th:only-of-type {\n",
              "        vertical-align: middle;\n",
              "    }\n",
              "\n",
              "    .dataframe tbody tr th {\n",
              "        vertical-align: top;\n",
              "    }\n",
              "\n",
              "    .dataframe thead th {\n",
              "        text-align: right;\n",
              "    }\n",
              "</style>\n",
              "<table border=\"1\" class=\"dataframe\">\n",
              "  <thead>\n",
              "    <tr style=\"text-align: right;\">\n",
              "      <th></th>\n",
              "      <th>level_0</th>\n",
              "      <th>level_1</th>\n",
              "      <th>value__variance_larger_than_standard_deviation</th>\n",
              "      <th>value__has_duplicate_max</th>\n",
              "      <th>value__has_duplicate_min</th>\n",
              "      <th>value__has_duplicate</th>\n",
              "      <th>value__sum_values</th>\n",
              "      <th>value__abs_energy</th>\n",
              "      <th>value__mean_abs_change</th>\n",
              "      <th>value__mean_change</th>\n",
              "      <th>...</th>\n",
              "      <th>value__fourier_entropy__bins_5</th>\n",
              "      <th>value__fourier_entropy__bins_10</th>\n",
              "      <th>value__fourier_entropy__bins_100</th>\n",
              "      <th>value__permutation_entropy__dimension_3__tau_1</th>\n",
              "      <th>value__permutation_entropy__dimension_4__tau_1</th>\n",
              "      <th>value__permutation_entropy__dimension_5__tau_1</th>\n",
              "      <th>value__permutation_entropy__dimension_6__tau_1</th>\n",
              "      <th>value__permutation_entropy__dimension_7__tau_1</th>\n",
              "      <th>value__query_similarity_count__query_None__threshold_0.0</th>\n",
              "      <th>value__mean_n_absolute_max__number_of_maxima_7</th>\n",
              "    </tr>\n",
              "  </thead>\n",
              "  <tbody>\n",
              "    <tr>\n",
              "      <th>0</th>\n",
              "      <td>HOBBIES_2_001_CA_1_evaluationHOBBIES_2_001HOBB...</td>\n",
              "      <td>2011-01-01</td>\n",
              "      <td>0.0</td>\n",
              "      <td>0.0</td>\n",
              "      <td>0.0</td>\n",
              "      <td>0.0</td>\n",
              "      <td>1.0</td>\n",
              "      <td>1.0</td>\n",
              "      <td>NaN</td>\n",
              "      <td>NaN</td>\n",
              "      <td>...</td>\n",
              "      <td>NaN</td>\n",
              "      <td>NaN</td>\n",
              "      <td>NaN</td>\n",
              "      <td>NaN</td>\n",
              "      <td>NaN</td>\n",
              "      <td>NaN</td>\n",
              "      <td>NaN</td>\n",
              "      <td>NaN</td>\n",
              "      <td>NaN</td>\n",
              "      <td>NaN</td>\n",
              "    </tr>\n",
              "    <tr>\n",
              "      <th>1</th>\n",
              "      <td>HOBBIES_2_001_CA_1_evaluationHOBBIES_2_001HOBB...</td>\n",
              "      <td>2011-02-01</td>\n",
              "      <td>1.0</td>\n",
              "      <td>0.0</td>\n",
              "      <td>0.0</td>\n",
              "      <td>0.0</td>\n",
              "      <td>6.0</td>\n",
              "      <td>26.0</td>\n",
              "      <td>4.000000</td>\n",
              "      <td>4.000000</td>\n",
              "      <td>...</td>\n",
              "      <td>-0.000000</td>\n",
              "      <td>-0.000000</td>\n",
              "      <td>-0.000000</td>\n",
              "      <td>NaN</td>\n",
              "      <td>NaN</td>\n",
              "      <td>NaN</td>\n",
              "      <td>NaN</td>\n",
              "      <td>NaN</td>\n",
              "      <td>NaN</td>\n",
              "      <td>NaN</td>\n",
              "    </tr>\n",
              "    <tr>\n",
              "      <th>2</th>\n",
              "      <td>HOBBIES_2_001_CA_1_evaluationHOBBIES_2_001HOBB...</td>\n",
              "      <td>2011-03-01</td>\n",
              "      <td>1.0</td>\n",
              "      <td>0.0</td>\n",
              "      <td>0.0</td>\n",
              "      <td>0.0</td>\n",
              "      <td>8.0</td>\n",
              "      <td>30.0</td>\n",
              "      <td>3.500000</td>\n",
              "      <td>0.500000</td>\n",
              "      <td>...</td>\n",
              "      <td>0.693147</td>\n",
              "      <td>0.693147</td>\n",
              "      <td>0.693147</td>\n",
              "      <td>-0.000000</td>\n",
              "      <td>NaN</td>\n",
              "      <td>NaN</td>\n",
              "      <td>NaN</td>\n",
              "      <td>NaN</td>\n",
              "      <td>NaN</td>\n",
              "      <td>NaN</td>\n",
              "    </tr>\n",
              "    <tr>\n",
              "      <th>3</th>\n",
              "      <td>HOBBIES_2_001_CA_1_evaluationHOBBIES_2_001HOBB...</td>\n",
              "      <td>2011-04-01</td>\n",
              "      <td>1.0</td>\n",
              "      <td>0.0</td>\n",
              "      <td>0.0</td>\n",
              "      <td>0.0</td>\n",
              "      <td>11.0</td>\n",
              "      <td>39.0</td>\n",
              "      <td>2.666667</td>\n",
              "      <td>0.666667</td>\n",
              "      <td>...</td>\n",
              "      <td>1.098612</td>\n",
              "      <td>1.098612</td>\n",
              "      <td>1.098612</td>\n",
              "      <td>0.693147</td>\n",
              "      <td>-0.000000</td>\n",
              "      <td>NaN</td>\n",
              "      <td>NaN</td>\n",
              "      <td>NaN</td>\n",
              "      <td>NaN</td>\n",
              "      <td>NaN</td>\n",
              "    </tr>\n",
              "    <tr>\n",
              "      <th>4</th>\n",
              "      <td>HOBBIES_2_001_CA_1_evaluationHOBBIES_2_001HOBB...</td>\n",
              "      <td>2011-05-01</td>\n",
              "      <td>1.0</td>\n",
              "      <td>0.0</td>\n",
              "      <td>0.0</td>\n",
              "      <td>0.0</td>\n",
              "      <td>15.0</td>\n",
              "      <td>55.0</td>\n",
              "      <td>2.250000</td>\n",
              "      <td>0.750000</td>\n",
              "      <td>...</td>\n",
              "      <td>1.098612</td>\n",
              "      <td>1.098612</td>\n",
              "      <td>1.098612</td>\n",
              "      <td>1.098612</td>\n",
              "      <td>0.693147</td>\n",
              "      <td>-0.0</td>\n",
              "      <td>NaN</td>\n",
              "      <td>NaN</td>\n",
              "      <td>NaN</td>\n",
              "      <td>NaN</td>\n",
              "    </tr>\n",
              "  </tbody>\n",
              "</table>\n",
              "<p>5 rows × 785 columns</p>\n",
              "</div>\n",
              "      <button class=\"colab-df-convert\" onclick=\"convertToInteractive('df-9bb8a681-69c0-4cf8-a9e1-97a252f6df5c')\"\n",
              "              title=\"Convert this dataframe to an interactive table.\"\n",
              "              style=\"display:none;\">\n",
              "        \n",
              "  <svg xmlns=\"http://www.w3.org/2000/svg\" height=\"24px\"viewBox=\"0 0 24 24\"\n",
              "       width=\"24px\">\n",
              "    <path d=\"M0 0h24v24H0V0z\" fill=\"none\"/>\n",
              "    <path d=\"M18.56 5.44l.94 2.06.94-2.06 2.06-.94-2.06-.94-.94-2.06-.94 2.06-2.06.94zm-11 1L8.5 8.5l.94-2.06 2.06-.94-2.06-.94L8.5 2.5l-.94 2.06-2.06.94zm10 10l.94 2.06.94-2.06 2.06-.94-2.06-.94-.94-2.06-.94 2.06-2.06.94z\"/><path d=\"M17.41 7.96l-1.37-1.37c-.4-.4-.92-.59-1.43-.59-.52 0-1.04.2-1.43.59L10.3 9.45l-7.72 7.72c-.78.78-.78 2.05 0 2.83L4 21.41c.39.39.9.59 1.41.59.51 0 1.02-.2 1.41-.59l7.78-7.78 2.81-2.81c.8-.78.8-2.07 0-2.86zM5.41 20L4 18.59l7.72-7.72 1.47 1.35L5.41 20z\"/>\n",
              "  </svg>\n",
              "      </button>\n",
              "      \n",
              "  <style>\n",
              "    .colab-df-container {\n",
              "      display:flex;\n",
              "      flex-wrap:wrap;\n",
              "      gap: 12px;\n",
              "    }\n",
              "\n",
              "    .colab-df-convert {\n",
              "      background-color: #E8F0FE;\n",
              "      border: none;\n",
              "      border-radius: 50%;\n",
              "      cursor: pointer;\n",
              "      display: none;\n",
              "      fill: #1967D2;\n",
              "      height: 32px;\n",
              "      padding: 0 0 0 0;\n",
              "      width: 32px;\n",
              "    }\n",
              "\n",
              "    .colab-df-convert:hover {\n",
              "      background-color: #E2EBFA;\n",
              "      box-shadow: 0px 1px 2px rgba(60, 64, 67, 0.3), 0px 1px 3px 1px rgba(60, 64, 67, 0.15);\n",
              "      fill: #174EA6;\n",
              "    }\n",
              "\n",
              "    [theme=dark] .colab-df-convert {\n",
              "      background-color: #3B4455;\n",
              "      fill: #D2E3FC;\n",
              "    }\n",
              "\n",
              "    [theme=dark] .colab-df-convert:hover {\n",
              "      background-color: #434B5C;\n",
              "      box-shadow: 0px 1px 3px 1px rgba(0, 0, 0, 0.15);\n",
              "      filter: drop-shadow(0px 1px 2px rgba(0, 0, 0, 0.3));\n",
              "      fill: #FFFFFF;\n",
              "    }\n",
              "  </style>\n",
              "\n",
              "      <script>\n",
              "        const buttonEl =\n",
              "          document.querySelector('#df-9bb8a681-69c0-4cf8-a9e1-97a252f6df5c button.colab-df-convert');\n",
              "        buttonEl.style.display =\n",
              "          google.colab.kernel.accessAllowed ? 'block' : 'none';\n",
              "\n",
              "        async function convertToInteractive(key) {\n",
              "          const element = document.querySelector('#df-9bb8a681-69c0-4cf8-a9e1-97a252f6df5c');\n",
              "          const dataTable =\n",
              "            await google.colab.kernel.invokeFunction('convertToInteractive',\n",
              "                                                     [key], {});\n",
              "          if (!dataTable) return;\n",
              "\n",
              "          const docLinkHtml = 'Like what you see? Visit the ' +\n",
              "            '<a target=\"_blank\" href=https://colab.research.google.com/notebooks/data_table.ipynb>data table notebook</a>'\n",
              "            + ' to learn more about interactive tables.';\n",
              "          element.innerHTML = '';\n",
              "          dataTable['output_type'] = 'display_data';\n",
              "          await google.colab.output.renderOutput(dataTable, element);\n",
              "          const docLink = document.createElement('div');\n",
              "          docLink.innerHTML = docLinkHtml;\n",
              "          element.appendChild(docLink);\n",
              "        }\n",
              "      </script>\n",
              "    </div>\n",
              "  </div>\n",
              "  "
            ]
          },
          "metadata": {},
          "execution_count": 31
        }
      ]
    },
    {
      "cell_type": "code",
      "source": [
        "df_full_monthly.head()"
      ],
      "metadata": {
        "colab": {
          "base_uri": "https://localhost:8080/",
          "height": 206
        },
        "id": "lkS39jbcgXQw",
        "outputId": "acad9916-9461-4ab7-9dea-b40d4e70f6ec"
      },
      "execution_count": 32,
      "outputs": [
        {
          "output_type": "execute_result",
          "data": {
            "text/plain": [
              "                                           series_id       time  value  Target\n",
              "0  HOBBIES_2_001_CA_1_evaluationHOBBIES_2_001HOBB... 2011-01-01      1       0\n",
              "1  HOBBIES_2_001_CA_1_evaluationHOBBIES_2_001HOBB... 2011-02-01      5       0\n",
              "2  HOBBIES_2_001_CA_1_evaluationHOBBIES_2_001HOBB... 2011-03-01      2       0\n",
              "3  HOBBIES_2_001_CA_1_evaluationHOBBIES_2_001HOBB... 2011-04-01      3       0\n",
              "4  HOBBIES_2_001_CA_1_evaluationHOBBIES_2_001HOBB... 2011-05-01      4       0"
            ],
            "text/html": [
              "\n",
              "  <div id=\"df-78878583-32f2-4898-aa95-b18d56508857\">\n",
              "    <div class=\"colab-df-container\">\n",
              "      <div>\n",
              "<style scoped>\n",
              "    .dataframe tbody tr th:only-of-type {\n",
              "        vertical-align: middle;\n",
              "    }\n",
              "\n",
              "    .dataframe tbody tr th {\n",
              "        vertical-align: top;\n",
              "    }\n",
              "\n",
              "    .dataframe thead th {\n",
              "        text-align: right;\n",
              "    }\n",
              "</style>\n",
              "<table border=\"1\" class=\"dataframe\">\n",
              "  <thead>\n",
              "    <tr style=\"text-align: right;\">\n",
              "      <th></th>\n",
              "      <th>series_id</th>\n",
              "      <th>time</th>\n",
              "      <th>value</th>\n",
              "      <th>Target</th>\n",
              "    </tr>\n",
              "  </thead>\n",
              "  <tbody>\n",
              "    <tr>\n",
              "      <th>0</th>\n",
              "      <td>HOBBIES_2_001_CA_1_evaluationHOBBIES_2_001HOBB...</td>\n",
              "      <td>2011-01-01</td>\n",
              "      <td>1</td>\n",
              "      <td>0</td>\n",
              "    </tr>\n",
              "    <tr>\n",
              "      <th>1</th>\n",
              "      <td>HOBBIES_2_001_CA_1_evaluationHOBBIES_2_001HOBB...</td>\n",
              "      <td>2011-02-01</td>\n",
              "      <td>5</td>\n",
              "      <td>0</td>\n",
              "    </tr>\n",
              "    <tr>\n",
              "      <th>2</th>\n",
              "      <td>HOBBIES_2_001_CA_1_evaluationHOBBIES_2_001HOBB...</td>\n",
              "      <td>2011-03-01</td>\n",
              "      <td>2</td>\n",
              "      <td>0</td>\n",
              "    </tr>\n",
              "    <tr>\n",
              "      <th>3</th>\n",
              "      <td>HOBBIES_2_001_CA_1_evaluationHOBBIES_2_001HOBB...</td>\n",
              "      <td>2011-04-01</td>\n",
              "      <td>3</td>\n",
              "      <td>0</td>\n",
              "    </tr>\n",
              "    <tr>\n",
              "      <th>4</th>\n",
              "      <td>HOBBIES_2_001_CA_1_evaluationHOBBIES_2_001HOBB...</td>\n",
              "      <td>2011-05-01</td>\n",
              "      <td>4</td>\n",
              "      <td>0</td>\n",
              "    </tr>\n",
              "  </tbody>\n",
              "</table>\n",
              "</div>\n",
              "      <button class=\"colab-df-convert\" onclick=\"convertToInteractive('df-78878583-32f2-4898-aa95-b18d56508857')\"\n",
              "              title=\"Convert this dataframe to an interactive table.\"\n",
              "              style=\"display:none;\">\n",
              "        \n",
              "  <svg xmlns=\"http://www.w3.org/2000/svg\" height=\"24px\"viewBox=\"0 0 24 24\"\n",
              "       width=\"24px\">\n",
              "    <path d=\"M0 0h24v24H0V0z\" fill=\"none\"/>\n",
              "    <path d=\"M18.56 5.44l.94 2.06.94-2.06 2.06-.94-2.06-.94-.94-2.06-.94 2.06-2.06.94zm-11 1L8.5 8.5l.94-2.06 2.06-.94-2.06-.94L8.5 2.5l-.94 2.06-2.06.94zm10 10l.94 2.06.94-2.06 2.06-.94-2.06-.94-.94-2.06-.94 2.06-2.06.94z\"/><path d=\"M17.41 7.96l-1.37-1.37c-.4-.4-.92-.59-1.43-.59-.52 0-1.04.2-1.43.59L10.3 9.45l-7.72 7.72c-.78.78-.78 2.05 0 2.83L4 21.41c.39.39.9.59 1.41.59.51 0 1.02-.2 1.41-.59l7.78-7.78 2.81-2.81c.8-.78.8-2.07 0-2.86zM5.41 20L4 18.59l7.72-7.72 1.47 1.35L5.41 20z\"/>\n",
              "  </svg>\n",
              "      </button>\n",
              "      \n",
              "  <style>\n",
              "    .colab-df-container {\n",
              "      display:flex;\n",
              "      flex-wrap:wrap;\n",
              "      gap: 12px;\n",
              "    }\n",
              "\n",
              "    .colab-df-convert {\n",
              "      background-color: #E8F0FE;\n",
              "      border: none;\n",
              "      border-radius: 50%;\n",
              "      cursor: pointer;\n",
              "      display: none;\n",
              "      fill: #1967D2;\n",
              "      height: 32px;\n",
              "      padding: 0 0 0 0;\n",
              "      width: 32px;\n",
              "    }\n",
              "\n",
              "    .colab-df-convert:hover {\n",
              "      background-color: #E2EBFA;\n",
              "      box-shadow: 0px 1px 2px rgba(60, 64, 67, 0.3), 0px 1px 3px 1px rgba(60, 64, 67, 0.15);\n",
              "      fill: #174EA6;\n",
              "    }\n",
              "\n",
              "    [theme=dark] .colab-df-convert {\n",
              "      background-color: #3B4455;\n",
              "      fill: #D2E3FC;\n",
              "    }\n",
              "\n",
              "    [theme=dark] .colab-df-convert:hover {\n",
              "      background-color: #434B5C;\n",
              "      box-shadow: 0px 1px 3px 1px rgba(0, 0, 0, 0.15);\n",
              "      filter: drop-shadow(0px 1px 2px rgba(0, 0, 0, 0.3));\n",
              "      fill: #FFFFFF;\n",
              "    }\n",
              "  </style>\n",
              "\n",
              "      <script>\n",
              "        const buttonEl =\n",
              "          document.querySelector('#df-78878583-32f2-4898-aa95-b18d56508857 button.colab-df-convert');\n",
              "        buttonEl.style.display =\n",
              "          google.colab.kernel.accessAllowed ? 'block' : 'none';\n",
              "\n",
              "        async function convertToInteractive(key) {\n",
              "          const element = document.querySelector('#df-78878583-32f2-4898-aa95-b18d56508857');\n",
              "          const dataTable =\n",
              "            await google.colab.kernel.invokeFunction('convertToInteractive',\n",
              "                                                     [key], {});\n",
              "          if (!dataTable) return;\n",
              "\n",
              "          const docLinkHtml = 'Like what you see? Visit the ' +\n",
              "            '<a target=\"_blank\" href=https://colab.research.google.com/notebooks/data_table.ipynb>data table notebook</a>'\n",
              "            + ' to learn more about interactive tables.';\n",
              "          element.innerHTML = '';\n",
              "          dataTable['output_type'] = 'display_data';\n",
              "          await google.colab.output.renderOutput(dataTable, element);\n",
              "          const docLink = document.createElement('div');\n",
              "          docLink.innerHTML = docLinkHtml;\n",
              "          element.appendChild(docLink);\n",
              "        }\n",
              "      </script>\n",
              "    </div>\n",
              "  </div>\n",
              "  "
            ]
          },
          "metadata": {},
          "execution_count": 32
        }
      ]
    },
    {
      "cell_type": "code",
      "source": [
        "df_modeling = df_features.copy(deep=True)\n",
        "df_modeling = df_modeling.merge(df_full_monthly.rename(columns={'series_id':'level_0',\n",
        "                                                                'time':'level_1'}), \n",
        "                                on=['level_0', 'level_1'])\n",
        "df_modeling.info()"
      ],
      "metadata": {
        "colab": {
          "base_uri": "https://localhost:8080/"
        },
        "id": "CgCgp5-SYOfX",
        "outputId": "ca72534c-561b-4fc7-c32e-621225be9cbc"
      },
      "execution_count": 33,
      "outputs": [
        {
          "output_type": "stream",
          "name": "stdout",
          "text": [
            "<class 'pandas.core.frame.DataFrame'>\n",
            "Int64Index: 1300 entries, 0 to 1299\n",
            "Columns: 787 entries, level_0 to Target\n",
            "dtypes: datetime64[ns](1), float64(783), int64(2), object(1)\n",
            "memory usage: 7.8+ MB\n"
          ]
        }
      ]
    },
    {
      "cell_type": "code",
      "source": [
        "df_modeling.fillna(-10,inplace=True)\n",
        "df_modeling.replace([np.inf, -np.inf], np.nan, inplace=True)\n",
        "df_modeling.fillna(-1000,inplace=True)"
      ],
      "metadata": {
        "id": "QJFopcvliggq"
      },
      "execution_count": 34,
      "outputs": []
    },
    {
      "cell_type": "code",
      "source": [
        "df_train = df_modeling[df_modeling.level_1<pd.to_datetime('2015-01-01T00:00:00.000000000')]\n",
        "df_test = df_modeling[df_modeling.level_1>=pd.to_datetime('2015-01-01T00:00:00.000000000')]\n",
        "df_train.shape, df_test.shape"
      ],
      "metadata": {
        "colab": {
          "base_uri": "https://localhost:8080/"
        },
        "id": "uOFPLI3TZ08I",
        "outputId": "806876f6-4de0-49ce-cf69-2826fdf4b8fa"
      },
      "execution_count": 35,
      "outputs": [
        {
          "output_type": "execute_result",
          "data": {
            "text/plain": [
              "((960, 787), (340, 787))"
            ]
          },
          "metadata": {},
          "execution_count": 35
        }
      ]
    },
    {
      "cell_type": "code",
      "source": [
        "df_test['Target'].value_counts()"
      ],
      "metadata": {
        "colab": {
          "base_uri": "https://localhost:8080/"
        },
        "id": "QC_AgjI_zHvy",
        "outputId": "35b186ae-03f8-48a3-e1cd-abe962b44985"
      },
      "execution_count": 36,
      "outputs": [
        {
          "output_type": "execute_result",
          "data": {
            "text/plain": [
              "0    302\n",
              "1     38\n",
              "Name: Target, dtype: int64"
            ]
          },
          "metadata": {},
          "execution_count": 36
        }
      ]
    },
    {
      "cell_type": "code",
      "source": [
        "X_train, X_test, y_train, y_test = df_train.drop(columns=['level_0','level_1','Target']), \\\n",
        "df_test.drop(columns=['level_0','level_1','Target']), df_train['Target'], df_test['Target']\n",
        "from xgboost import XGBClassifier\n",
        "bst = XGBClassifier(n_estimators=5, max_depth=3, learning_rate=1, objective='binary:logistic')\n",
        "# fit model\n",
        "bst.fit(X_train, y_train)"
      ],
      "metadata": {
        "colab": {
          "base_uri": "https://localhost:8080/",
          "height": 248
        },
        "id": "ZT8ESDXsfMNl",
        "outputId": "d3909c6f-6c0f-4354-ccc4-2bab1658b494"
      },
      "execution_count": 37,
      "outputs": [
        {
          "output_type": "execute_result",
          "data": {
            "text/plain": [
              "XGBClassifier(base_score=None, booster=None, callbacks=None,\n",
              "              colsample_bylevel=None, colsample_bynode=None,\n",
              "              colsample_bytree=None, early_stopping_rounds=None,\n",
              "              enable_categorical=False, eval_metric=None, feature_types=None,\n",
              "              gamma=None, gpu_id=None, grow_policy=None, importance_type=None,\n",
              "              interaction_constraints=None, learning_rate=1, max_bin=None,\n",
              "              max_cat_threshold=None, max_cat_to_onehot=None,\n",
              "              max_delta_step=None, max_depth=3, max_leaves=None,\n",
              "              min_child_weight=None, missing=nan, monotone_constraints=None,\n",
              "              n_estimators=5, n_jobs=None, num_parallel_tree=None,\n",
              "              predictor=None, random_state=None, ...)"
            ],
            "text/html": [
              "<style>#sk-container-id-1 {color: black;background-color: white;}#sk-container-id-1 pre{padding: 0;}#sk-container-id-1 div.sk-toggleable {background-color: white;}#sk-container-id-1 label.sk-toggleable__label {cursor: pointer;display: block;width: 100%;margin-bottom: 0;padding: 0.3em;box-sizing: border-box;text-align: center;}#sk-container-id-1 label.sk-toggleable__label-arrow:before {content: \"▸\";float: left;margin-right: 0.25em;color: #696969;}#sk-container-id-1 label.sk-toggleable__label-arrow:hover:before {color: black;}#sk-container-id-1 div.sk-estimator:hover label.sk-toggleable__label-arrow:before {color: black;}#sk-container-id-1 div.sk-toggleable__content {max-height: 0;max-width: 0;overflow: hidden;text-align: left;background-color: #f0f8ff;}#sk-container-id-1 div.sk-toggleable__content pre {margin: 0.2em;color: black;border-radius: 0.25em;background-color: #f0f8ff;}#sk-container-id-1 input.sk-toggleable__control:checked~div.sk-toggleable__content {max-height: 200px;max-width: 100%;overflow: auto;}#sk-container-id-1 input.sk-toggleable__control:checked~label.sk-toggleable__label-arrow:before {content: \"▾\";}#sk-container-id-1 div.sk-estimator input.sk-toggleable__control:checked~label.sk-toggleable__label {background-color: #d4ebff;}#sk-container-id-1 div.sk-label input.sk-toggleable__control:checked~label.sk-toggleable__label {background-color: #d4ebff;}#sk-container-id-1 input.sk-hidden--visually {border: 0;clip: rect(1px 1px 1px 1px);clip: rect(1px, 1px, 1px, 1px);height: 1px;margin: -1px;overflow: hidden;padding: 0;position: absolute;width: 1px;}#sk-container-id-1 div.sk-estimator {font-family: monospace;background-color: #f0f8ff;border: 1px dotted black;border-radius: 0.25em;box-sizing: border-box;margin-bottom: 0.5em;}#sk-container-id-1 div.sk-estimator:hover {background-color: #d4ebff;}#sk-container-id-1 div.sk-parallel-item::after {content: \"\";width: 100%;border-bottom: 1px solid gray;flex-grow: 1;}#sk-container-id-1 div.sk-label:hover label.sk-toggleable__label {background-color: #d4ebff;}#sk-container-id-1 div.sk-serial::before {content: \"\";position: absolute;border-left: 1px solid gray;box-sizing: border-box;top: 0;bottom: 0;left: 50%;z-index: 0;}#sk-container-id-1 div.sk-serial {display: flex;flex-direction: column;align-items: center;background-color: white;padding-right: 0.2em;padding-left: 0.2em;position: relative;}#sk-container-id-1 div.sk-item {position: relative;z-index: 1;}#sk-container-id-1 div.sk-parallel {display: flex;align-items: stretch;justify-content: center;background-color: white;position: relative;}#sk-container-id-1 div.sk-item::before, #sk-container-id-1 div.sk-parallel-item::before {content: \"\";position: absolute;border-left: 1px solid gray;box-sizing: border-box;top: 0;bottom: 0;left: 50%;z-index: -1;}#sk-container-id-1 div.sk-parallel-item {display: flex;flex-direction: column;z-index: 1;position: relative;background-color: white;}#sk-container-id-1 div.sk-parallel-item:first-child::after {align-self: flex-end;width: 50%;}#sk-container-id-1 div.sk-parallel-item:last-child::after {align-self: flex-start;width: 50%;}#sk-container-id-1 div.sk-parallel-item:only-child::after {width: 0;}#sk-container-id-1 div.sk-dashed-wrapped {border: 1px dashed gray;margin: 0 0.4em 0.5em 0.4em;box-sizing: border-box;padding-bottom: 0.4em;background-color: white;}#sk-container-id-1 div.sk-label label {font-family: monospace;font-weight: bold;display: inline-block;line-height: 1.2em;}#sk-container-id-1 div.sk-label-container {text-align: center;}#sk-container-id-1 div.sk-container {/* jupyter's `normalize.less` sets `[hidden] { display: none; }` but bootstrap.min.css set `[hidden] { display: none !important; }` so we also need the `!important` here to be able to override the default hidden behavior on the sphinx rendered scikit-learn.org. See: https://github.com/scikit-learn/scikit-learn/issues/21755 */display: inline-block !important;position: relative;}#sk-container-id-1 div.sk-text-repr-fallback {display: none;}</style><div id=\"sk-container-id-1\" class=\"sk-top-container\"><div class=\"sk-text-repr-fallback\"><pre>XGBClassifier(base_score=None, booster=None, callbacks=None,\n",
              "              colsample_bylevel=None, colsample_bynode=None,\n",
              "              colsample_bytree=None, early_stopping_rounds=None,\n",
              "              enable_categorical=False, eval_metric=None, feature_types=None,\n",
              "              gamma=None, gpu_id=None, grow_policy=None, importance_type=None,\n",
              "              interaction_constraints=None, learning_rate=1, max_bin=None,\n",
              "              max_cat_threshold=None, max_cat_to_onehot=None,\n",
              "              max_delta_step=None, max_depth=3, max_leaves=None,\n",
              "              min_child_weight=None, missing=nan, monotone_constraints=None,\n",
              "              n_estimators=5, n_jobs=None, num_parallel_tree=None,\n",
              "              predictor=None, random_state=None, ...)</pre><b>In a Jupyter environment, please rerun this cell to show the HTML representation or trust the notebook. <br />On GitHub, the HTML representation is unable to render, please try loading this page with nbviewer.org.</b></div><div class=\"sk-container\" hidden><div class=\"sk-item\"><div class=\"sk-estimator sk-toggleable\"><input class=\"sk-toggleable__control sk-hidden--visually\" id=\"sk-estimator-id-1\" type=\"checkbox\" checked><label for=\"sk-estimator-id-1\" class=\"sk-toggleable__label sk-toggleable__label-arrow\">XGBClassifier</label><div class=\"sk-toggleable__content\"><pre>XGBClassifier(base_score=None, booster=None, callbacks=None,\n",
              "              colsample_bylevel=None, colsample_bynode=None,\n",
              "              colsample_bytree=None, early_stopping_rounds=None,\n",
              "              enable_categorical=False, eval_metric=None, feature_types=None,\n",
              "              gamma=None, gpu_id=None, grow_policy=None, importance_type=None,\n",
              "              interaction_constraints=None, learning_rate=1, max_bin=None,\n",
              "              max_cat_threshold=None, max_cat_to_onehot=None,\n",
              "              max_delta_step=None, max_depth=3, max_leaves=None,\n",
              "              min_child_weight=None, missing=nan, monotone_constraints=None,\n",
              "              n_estimators=5, n_jobs=None, num_parallel_tree=None,\n",
              "              predictor=None, random_state=None, ...)</pre></div></div></div></div></div>"
            ]
          },
          "metadata": {},
          "execution_count": 37
        }
      ]
    },
    {
      "cell_type": "code",
      "source": [
        "preds = bst.predict(X_test)"
      ],
      "metadata": {
        "id": "GkqoK8wTiYXh"
      },
      "execution_count": 38,
      "outputs": []
    },
    {
      "cell_type": "code",
      "source": [
        "!pip install permetrics"
      ],
      "metadata": {
        "id": "CpAVQ4n1jLIT",
        "colab": {
          "base_uri": "https://localhost:8080/"
        },
        "outputId": "9a917d35-1b80-455c-c326-be4ef1b07c34"
      },
      "execution_count": 41,
      "outputs": [
        {
          "output_type": "stream",
          "name": "stdout",
          "text": [
            "Looking in indexes: https://pypi.org/simple, https://us-python.pkg.dev/colab-wheels/public/simple/\n",
            "Collecting permetrics\n",
            "  Downloading permetrics-1.3.3-py3-none-any.whl (38 kB)\n",
            "Requirement already satisfied: numpy>=1.15.1 in /usr/local/lib/python3.9/dist-packages (from permetrics) (1.22.4)\n",
            "Installing collected packages: permetrics\n",
            "Successfully installed permetrics-1.3.3\n"
          ]
        }
      ]
    },
    {
      "cell_type": "code",
      "source": [
        "from permetrics.classification import ClassificationMetric\n",
        "eval = ClassificationMetric(df_test['Target'].values, preds)"
      ],
      "metadata": {
        "id": "eLHTrOXyi_Da"
      },
      "execution_count": 42,
      "outputs": []
    },
    {
      "cell_type": "code",
      "source": [
        "eval.f1_score(), eval.accuracy_score()*100"
      ],
      "metadata": {
        "colab": {
          "base_uri": "https://localhost:8080/"
        },
        "id": "4H7fQD_zym9c",
        "outputId": "97c7a10e-d5e6-463e-80a5-6c7aaff469a0"
      },
      "execution_count": 43,
      "outputs": [
        {
          "output_type": "execute_result",
          "data": {
            "text/plain": [
              "(0.54178, 75.882)"
            ]
          },
          "metadata": {},
          "execution_count": 43
        }
      ]
    },
    {
      "cell_type": "code",
      "source": [
        "eval.f1_score(), eval.accuracy_score(), eval.confusion_matrix()"
      ],
      "metadata": {
        "colab": {
          "base_uri": "https://localhost:8080/"
        },
        "id": "zg5RvUrSjJzC",
        "outputId": "96e0f176-7814-4c90-f0a6-982549eb5225"
      },
      "execution_count": 44,
      "outputs": [
        {
          "output_type": "execute_result",
          "data": {
            "text/plain": [
              "(0.54178,\n",
              " 0.75882,\n",
              " (array([[246,  56],\n",
              "         [ 26,  12]]), {0: 0, 1: 1}, {0: 302, 1: 38}))"
            ]
          },
          "metadata": {},
          "execution_count": 44
        }
      ]
    },
    {
      "cell_type": "code",
      "source": [
        "from sklearn.metrics import confusion_matrix, ConfusionMatrixDisplay\n",
        "cm = confusion_matrix(df_test['Target'].values, preds, labels=bst.classes_)\n",
        "disp = ConfusionMatrixDisplay(confusion_matrix=cm,\n",
        "                              display_labels=bst.classes_)\n",
        "disp.plot()"
      ],
      "metadata": {
        "colab": {
          "base_uri": "https://localhost:8080/",
          "height": 466
        },
        "id": "PFiO40pgoAMJ",
        "outputId": "df1a67b5-3ee7-41a0-a4ad-3b96f0ba06f3"
      },
      "execution_count": 45,
      "outputs": [
        {
          "output_type": "execute_result",
          "data": {
            "text/plain": [
              "<sklearn.metrics._plot.confusion_matrix.ConfusionMatrixDisplay at 0x7f68b6cdc6a0>"
            ]
          },
          "metadata": {},
          "execution_count": 45
        },
        {
          "output_type": "display_data",
          "data": {
            "text/plain": [
              "<Figure size 640x480 with 2 Axes>"
            ],
            "image/png": "[encoded data removed]"
          },
          "metadata": {}
        }
      ]
    },
    {
      "cell_type": "code",
      "source": [
        "feature_importance  = pd.DataFrame({'Feature':bst.feature_names_in_,\n",
        "                                    'Importance':bst.feature_importances_})\n",
        "feature_importance.sort_values(['Importance'], ascending=False, inplace=True)"
      ],
      "metadata": {
        "id": "B_XDgk2Ujb-p"
      },
      "execution_count": 46,
      "outputs": []
    },
    {
      "cell_type": "code",
      "source": [
        "feature_importance"
      ],
      "metadata": {
        "colab": {
          "base_uri": "https://localhost:8080/",
          "height": 424
        },
        "id": "badvAeiokeRZ",
        "outputId": "fb90c04f-97e1-41b3-f69a-2d55c875620f"
      },
      "execution_count": 47,
      "outputs": [
        {
          "output_type": "execute_result",
          "data": {
            "text/plain": [
              "                                               Feature  Importance\n",
              "485       value__fft_coefficient__attr_\"abs\"__coeff_20    0.177055\n",
              "11                                       value__length    0.098878\n",
              "236  value__change_quantiles__f_agg_\"var\"__isabs_Tr...    0.092435\n",
              "783                                              value    0.036608\n",
              "667              value__fft_aggregated__aggtype_\"skew\"    0.034345\n",
              "..                                                 ...         ...\n",
              "268       value__fft_coefficient__attr_\"real\"__coeff_3    0.000000\n",
              "269       value__fft_coefficient__attr_\"real\"__coeff_4    0.000000\n",
              "272       value__fft_coefficient__attr_\"real\"__coeff_7    0.000000\n",
              "273       value__fft_coefficient__attr_\"real\"__coeff_8    0.000000\n",
              "392      value__fft_coefficient__attr_\"imag\"__coeff_27    0.000000\n",
              "\n",
              "[784 rows x 2 columns]"
            ],
            "text/html": [
              "\n",
              "  <div id=\"df-822aac6f-d51b-414e-8dd7-38c235af9546\">\n",
              "    <div class=\"colab-df-container\">\n",
              "      <div>\n",
              "<style scoped>\n",
              "    .dataframe tbody tr th:only-of-type {\n",
              "        vertical-align: middle;\n",
              "    }\n",
              "\n",
              "    .dataframe tbody tr th {\n",
              "        vertical-align: top;\n",
              "    }\n",
              "\n",
              "    .dataframe thead th {\n",
              "        text-align: right;\n",
              "    }\n",
              "</style>\n",
              "<table border=\"1\" class=\"dataframe\">\n",
              "  <thead>\n",
              "    <tr style=\"text-align: right;\">\n",
              "      <th></th>\n",
              "      <th>Feature</th>\n",
              "      <th>Importance</th>\n",
              "    </tr>\n",
              "  </thead>\n",
              "  <tbody>\n",
              "    <tr>\n",
              "      <th>485</th>\n",
              "      <td>value__fft_coefficient__attr_\"abs\"__coeff_20</td>\n",
              "      <td>0.177055</td>\n",
              "    </tr>\n",
              "    <tr>\n",
              "      <th>11</th>\n",
              "      <td>value__length</td>\n",
              "      <td>0.098878</td>\n",
              "    </tr>\n",
              "    <tr>\n",
              "      <th>236</th>\n",
              "      <td>value__change_quantiles__f_agg_\"var\"__isabs_Tr...</td>\n",
              "      <td>0.092435</td>\n",
              "    </tr>\n",
              "    <tr>\n",
              "      <th>783</th>\n",
              "      <td>value</td>\n",
              "      <td>0.036608</td>\n",
              "    </tr>\n",
              "    <tr>\n",
              "      <th>667</th>\n",
              "      <td>value__fft_aggregated__aggtype_\"skew\"</td>\n",
              "      <td>0.034345</td>\n",
              "    </tr>\n",
              "    <tr>\n",
              "      <th>...</th>\n",
              "      <td>...</td>\n",
              "      <td>...</td>\n",
              "    </tr>\n",
              "    <tr>\n",
              "      <th>268</th>\n",
              "      <td>value__fft_coefficient__attr_\"real\"__coeff_3</td>\n",
              "      <td>0.000000</td>\n",
              "    </tr>\n",
              "    <tr>\n",
              "      <th>269</th>\n",
              "      <td>value__fft_coefficient__attr_\"real\"__coeff_4</td>\n",
              "      <td>0.000000</td>\n",
              "    </tr>\n",
              "    <tr>\n",
              "      <th>272</th>\n",
              "      <td>value__fft_coefficient__attr_\"real\"__coeff_7</td>\n",
              "      <td>0.000000</td>\n",
              "    </tr>\n",
              "    <tr>\n",
              "      <th>273</th>\n",
              "      <td>value__fft_coefficient__attr_\"real\"__coeff_8</td>\n",
              "      <td>0.000000</td>\n",
              "    </tr>\n",
              "    <tr>\n",
              "      <th>392</th>\n",
              "      <td>value__fft_coefficient__attr_\"imag\"__coeff_27</td>\n",
              "      <td>0.000000</td>\n",
              "    </tr>\n",
              "  </tbody>\n",
              "</table>\n",
              "<p>784 rows × 2 columns</p>\n",
              "</div>\n",
              "      <button class=\"colab-df-convert\" onclick=\"convertToInteractive('df-822aac6f-d51b-414e-8dd7-38c235af9546')\"\n",
              "              title=\"Convert this dataframe to an interactive table.\"\n",
              "              style=\"display:none;\">\n",
              "        \n",
              "  <svg xmlns=\"http://www.w3.org/2000/svg\" height=\"24px\"viewBox=\"0 0 24 24\"\n",
              "       width=\"24px\">\n",
              "    <path d=\"M0 0h24v24H0V0z\" fill=\"none\"/>\n",
              "    <path d=\"M18.56 5.44l.94 2.06.94-2.06 2.06-.94-2.06-.94-.94-2.06-.94 2.06-2.06.94zm-11 1L8.5 8.5l.94-2.06 2.06-.94-2.06-.94L8.5 2.5l-.94 2.06-2.06.94zm10 10l.94 2.06.94-2.06 2.06-.94-2.06-.94-.94-2.06-.94 2.06-2.06.94z\"/><path d=\"M17.41 7.96l-1.37-1.37c-.4-.4-.92-.59-1.43-.59-.52 0-1.04.2-1.43.59L10.3 9.45l-7.72 7.72c-.78.78-.78 2.05 0 2.83L4 21.41c.39.39.9.59 1.41.59.51 0 1.02-.2 1.41-.59l7.78-7.78 2.81-2.81c.8-.78.8-2.07 0-2.86zM5.41 20L4 18.59l7.72-7.72 1.47 1.35L5.41 20z\"/>\n",
              "  </svg>\n",
              "      </button>\n",
              "      \n",
              "  <style>\n",
              "    .colab-df-container {\n",
              "      display:flex;\n",
              "      flex-wrap:wrap;\n",
              "      gap: 12px;\n",
              "    }\n",
              "\n",
              "    .colab-df-convert {\n",
              "      background-color: #E8F0FE;\n",
              "      border: none;\n",
              "      border-radius: 50%;\n",
              "      cursor: pointer;\n",
              "      display: none;\n",
              "      fill: #1967D2;\n",
              "      height: 32px;\n",
              "      padding: 0 0 0 0;\n",
              "      width: 32px;\n",
              "    }\n",
              "\n",
              "    .colab-df-convert:hover {\n",
              "      background-color: #E2EBFA;\n",
              "      box-shadow: 0px 1px 2px rgba(60, 64, 67, 0.3), 0px 1px 3px 1px rgba(60, 64, 67, 0.15);\n",
              "      fill: #174EA6;\n",
              "    }\n",
              "\n",
              "    [theme=dark] .colab-df-convert {\n",
              "      background-color: #3B4455;\n",
              "      fill: #D2E3FC;\n",
              "    }\n",
              "\n",
              "    [theme=dark] .colab-df-convert:hover {\n",
              "      background-color: #434B5C;\n",
              "      box-shadow: 0px 1px 3px 1px rgba(0, 0, 0, 0.15);\n",
              "      filter: drop-shadow(0px 1px 2px rgba(0, 0, 0, 0.3));\n",
              "      fill: #FFFFFF;\n",
              "    }\n",
              "  </style>\n",
              "\n",
              "      <script>\n",
              "        const buttonEl =\n",
              "          document.querySelector('#df-822aac6f-d51b-414e-8dd7-38c235af9546 button.colab-df-convert');\n",
              "        buttonEl.style.display =\n",
              "          google.colab.kernel.accessAllowed ? 'block' : 'none';\n",
              "\n",
              "        async function convertToInteractive(key) {\n",
              "          const element = document.querySelector('#df-822aac6f-d51b-414e-8dd7-38c235af9546');\n",
              "          const dataTable =\n",
              "            await google.colab.kernel.invokeFunction('convertToInteractive',\n",
              "                                                     [key], {});\n",
              "          if (!dataTable) return;\n",
              "\n",
              "          const docLinkHtml = 'Like what you see? Visit the ' +\n",
              "            '<a target=\"_blank\" href=https://colab.research.google.com/notebooks/data_table.ipynb>data table notebook</a>'\n",
              "            + ' to learn more about interactive tables.';\n",
              "          element.innerHTML = '';\n",
              "          dataTable['output_type'] = 'display_data';\n",
              "          await google.colab.output.renderOutput(dataTable, element);\n",
              "          const docLink = document.createElement('div');\n",
              "          docLink.innerHTML = docLinkHtml;\n",
              "          element.appendChild(docLink);\n",
              "        }\n",
              "      </script>\n",
              "    </div>\n",
              "  </div>\n",
              "  "
            ]
          },
          "metadata": {},
          "execution_count": 47
        }
      ]
    },
    {
      "cell_type": "code",
      "source": [],
      "metadata": {
        "id": "7_XK4CRukf_o"
      },
      "execution_count": 47,
      "outputs": []
    }
  ]
}