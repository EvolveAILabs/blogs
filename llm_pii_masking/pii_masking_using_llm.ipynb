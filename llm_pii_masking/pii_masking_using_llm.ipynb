{
 "cells": [
  {
   "cell_type": "markdown",
   "id": "5d12526a-9c7a-4d6c-aa55-b3a195b3fd16",
   "metadata": {},
   "source": [
    "# Using LLMs for PII Masking\n",
    "\n",
    "#### Author: Abdul Jilani"
   ]
  },
  {
   "cell_type": "markdown",
   "id": "0b24634b-31cb-42c5-8093-3cabb7e4f63f",
   "metadata": {},
   "source": [
    "## Loading Libraries"
   ]
  },
  {
   "cell_type": "code",
   "execution_count": 1,
   "id": "df150adc-bd3f-4b9c-acf7-b604e5031033",
   "metadata": {},
   "outputs": [],
   "source": [
    "import datasets\n",
    "import re\n",
    "import pandas as pd\n",
    "from fuzzywuzzy import fuzz\n",
    "import openai\n",
    "from pydantic import BaseModel, Field\n",
    "from openai import OpenAI\n",
    "import json\n",
    "import matplotlib.pyplot as plt\n",
    "from tqdm import tqdm\n",
    "import os"
   ]
  },
  {
   "cell_type": "code",
   "execution_count": 2,
   "id": "8ac2a3c3-d71c-409c-90ff-da74677c9c75",
   "metadata": {},
   "outputs": [],
   "source": [
    "os.environ[\"OPENAI_API_KEY\"] = \"\""
   ]
  },
  {
   "cell_type": "markdown",
   "id": "15ae208d-1b83-4b74-aa9c-2fcaca5f82fe",
   "metadata": {},
   "source": [
    "## Initializing OpenAI API"
   ]
  },
  {
   "cell_type": "code",
   "execution_count": 3,
   "id": "31af98ae-e50b-4f8b-9434-4c6a35102cbd",
   "metadata": {},
   "outputs": [],
   "source": [
    "assert os.environ.get(\"OPENAI_API_KEY\") is not None\n",
    "client = OpenAI()"
   ]
  },
  {
   "cell_type": "markdown",
   "id": "2daa37d2-c43a-4995-ab2e-ae82ef4d9000",
   "metadata": {},
   "source": [
    "## OpenAI Function Calling\n",
    "\n",
    "This is necessary to implement normalization of the output and reduce the amount of post-processing of the response from the LLM. "
   ]
  },
  {
   "cell_type": "code",
   "execution_count": 4,
   "id": "2cc82f7c-b048-4d41-ad8f-a6c436a8bd77",
   "metadata": {},
   "outputs": [],
   "source": [
    "class RedactTextParams(BaseModel):\n",
    "    redacted_text: str = Field(description=\"Returned text after masking all PII data with [REDACTED] token\")\n",
    "        \n",
    "tool_definitions = [  \n",
    "    {\n",
    "        \"type\": \"function\",\n",
    "        \"function\":{\n",
    "            \"name\": \"redact_pii_from_text\",\n",
    "            \"description\": \"Generates masked text after removing all PII information related to persons \\\n",
    "             and companies to be uploaded into the datalake\",\n",
    "            \"parameters\": RedactTextParams.model_json_schema()\n",
    "        },\n",
    "        \"required\": [\"redacted_text\"]\n",
    "    }\n",
    "]"
   ]
  },
  {
   "cell_type": "code",
   "execution_count": 5,
   "id": "042e9b1c-d7a4-4c97-9f35-cc288acc6086",
   "metadata": {},
   "outputs": [],
   "source": [
    "def redact_pii_fc(text):\n",
    "    completion = client.chat.completions.create(\n",
    "      model=\"gpt-4o\",\n",
    "      messages=[\n",
    "        {\"role\": \"system\", \"content\": \"You are an AI assistant, skilled in masking \\\n",
    "        personally identifiable information including incompleted names or other information \\\n",
    "        related to persons, organizations, including hash keys, crypto addresses, API keys \\\n",
    "        in text blocks. Do not return as a code block. Mask all PII related words in the following \\\n",
    "        text with [REDACTED] token.'''\" + text + \"'''\"}\n",
    "      ],\n",
    "      seed = 42,\n",
    "      tools=tool_definitions,\n",
    "      tool_choice={\"type\": \"function\", \"function\": {\"name\": \"redact_pii_from_text\"}}\n",
    "    )\n",
    "    response = json.loads(completion.choices[0].message.tool_calls[0].function.arguments)\n",
    "    return [val for val in response.values()][0]"
   ]
  },
  {
   "cell_type": "markdown",
   "id": "2f91e96b-3a48-4c47-a4bf-d9670d3887c3",
   "metadata": {},
   "source": [
    "## PII Dataset\n",
    "We will be using Huggingface's PII dataset [ai4privacy/pii-masking-65k](https://huggingface.co/datasets/ai4privacy/pii-masking-65k) for this demo. This dataset is provided by [AI4Privacy](https://ai4privacy.com/) and contains data that can be used for training and validating PII masking models.  "
   ]
  },
  {
   "cell_type": "code",
   "execution_count": 6,
   "id": "c850ea13-cd40-4ac6-a89a-6d6f53d00554",
   "metadata": {},
   "outputs": [
    {
     "data": {
      "text/plain": [
       "Dataset({\n",
       "    features: ['masked_text', 'unmasked_text', 'token_entity_labels', 'tokenised_unmasked_text'],\n",
       "    num_rows: 2159\n",
       "})"
      ]
     },
     "execution_count": 6,
     "metadata": {},
     "output_type": "execute_result"
    }
   ],
   "source": [
    "dataset_name = 'ai4privacy/pii-masking-65k'\n",
    "dataset = datasets.load_dataset(dataset_name, split=\"train[:10%]\")\n",
    "dataset"
   ]
  },
  {
   "cell_type": "code",
   "execution_count": 7,
   "id": "f05445ed-9221-4e9c-b93a-e52fe5719ae0",
   "metadata": {},
   "outputs": [
    {
     "name": "stdout",
     "output_type": "stream",
     "text": [
      "<class 'pandas.core.frame.DataFrame'>\n",
      "RangeIndex: 2159 entries, 0 to 2158\n",
      "Data columns (total 4 columns):\n",
      " #   Column                   Non-Null Count  Dtype \n",
      "---  ------                   --------------  ----- \n",
      " 0   masked_text              2159 non-null   object\n",
      " 1   unmasked_text            2159 non-null   object\n",
      " 2   token_entity_labels      2159 non-null   object\n",
      " 3   tokenised_unmasked_text  2159 non-null   object\n",
      "dtypes: object(4)\n",
      "memory usage: 67.6+ KB\n"
     ]
    }
   ],
   "source": [
    "df_dataset = dataset.to_pandas()\n",
    "df_dataset.info()"
   ]
  },
  {
   "cell_type": "markdown",
   "id": "891f5907-6d4d-4b5e-9dd4-a2dc60b36527",
   "metadata": {},
   "source": [
    "## Running LLM Masking on sample data\n",
    "\n",
    "We will run the LLM Masking on a sample of the dataset and compare the results with actual masking expected."
   ]
  },
  {
   "cell_type": "code",
   "execution_count": 8,
   "id": "b7fcab39-5a7a-43b9-99ba-9e889bc7c7c8",
   "metadata": {},
   "outputs": [
    {
     "name": "stderr",
     "output_type": "stream",
     "text": [
      "100it [02:08,  1.28s/it]\n"
     ]
    }
   ],
   "source": [
    "df_dataset_sample = df_dataset.sample(100)\n",
    "results = []\n",
    "for i, row in tqdm(df_dataset_sample.iterrows()):\n",
    "    #print(i)\n",
    "    masked_text = redact_pii_fc(row['unmasked_text'])\n",
    "    actual_cleansed = re.sub(r'\\[.*?\\]', '', row['masked_text'])\n",
    "    llm_cleansed = masked_text.replace('[REDACTED]','')                        \n",
    "    results.append([actual_cleansed,llm_cleansed,row['masked_text'], masked_text, fuzz.ratio(actual_cleansed, llm_cleansed)])"
   ]
  },
  {
   "cell_type": "code",
   "execution_count": 9,
   "id": "1ea69d5e-d767-4dfa-bee1-480192bb7f59",
   "metadata": {},
   "outputs": [],
   "source": [
    "assert len(results)==100"
   ]
  },
  {
   "cell_type": "code",
   "execution_count": 12,
   "id": "ca37b4d4-6f34-4c52-bc81-d48f022eb192",
   "metadata": {},
   "outputs": [
    {
     "data": {
      "text/html": [
       "<div>\n",
       "<style scoped>\n",
       "    .dataframe tbody tr th:only-of-type {\n",
       "        vertical-align: middle;\n",
       "    }\n",
       "\n",
       "    .dataframe tbody tr th {\n",
       "        vertical-align: top;\n",
       "    }\n",
       "\n",
       "    .dataframe thead th {\n",
       "        text-align: right;\n",
       "    }\n",
       "</style>\n",
       "<table border=\"1\" class=\"dataframe\">\n",
       "  <thead>\n",
       "    <tr style=\"text-align: right;\">\n",
       "      <th></th>\n",
       "      <th>actual_masked</th>\n",
       "      <th>llm_masked</th>\n",
       "      <th>match_score</th>\n",
       "    </tr>\n",
       "  </thead>\n",
       "  <tbody>\n",
       "    <tr>\n",
       "      <th>26</th>\n",
       "      <td>Dear [PREFIX_1] [FIRSTNAME_1], we request your...</td>\n",
       "      <td>Dear Mr. [REDACTED], we request your guidance ...</td>\n",
       "      <td>99</td>\n",
       "    </tr>\n",
       "    <tr>\n",
       "      <th>73</th>\n",
       "      <td>As a [JOBDESCRIPTOR_1] constitutional lawyer, ...</td>\n",
       "      <td>As a Future constitutional lawyer, it is cruci...</td>\n",
       "      <td>99</td>\n",
       "    </tr>\n",
       "    <tr>\n",
       "      <th>17</th>\n",
       "      <td>Hello [PREFIX_1]. This is a formal request to ...</td>\n",
       "      <td>Hello Mr.. This is a formal request to use the...</td>\n",
       "      <td>90</td>\n",
       "    </tr>\n",
       "    <tr>\n",
       "      <th>92</th>\n",
       "      <td>Dear Client, For convenience, we have implemen...</td>\n",
       "      <td>Dear Client, For convenience, we have implemen...</td>\n",
       "      <td>100</td>\n",
       "    </tr>\n",
       "    <tr>\n",
       "      <th>0</th>\n",
       "      <td>We are considering implementing a new authenti...</td>\n",
       "      <td>We are considering implementing a new authenti...</td>\n",
       "      <td>100</td>\n",
       "    </tr>\n",
       "    <tr>\n",
       "      <th>85</th>\n",
       "      <td>A detailed SWOT analysis of our new business v...</td>\n",
       "      <td>A detailed SWOT analysis of our new business v...</td>\n",
       "      <td>96</td>\n",
       "    </tr>\n",
       "    <tr>\n",
       "      <th>10</th>\n",
       "      <td>We respect the confidentiality of our particip...</td>\n",
       "      <td>We respect the confidentiality of our particip...</td>\n",
       "      <td>96</td>\n",
       "    </tr>\n",
       "    <tr>\n",
       "      <th>40</th>\n",
       "      <td>Upon completing your analysis of the [BITCOINA...</td>\n",
       "      <td>Upon completing your analysis of the [REDACTED...</td>\n",
       "      <td>100</td>\n",
       "    </tr>\n",
       "    <tr>\n",
       "      <th>46</th>\n",
       "      <td>Identity theft is a growing concern in our dig...</td>\n",
       "      <td>Identity theft is a growing concern in our dig...</td>\n",
       "      <td>100</td>\n",
       "    </tr>\n",
       "    <tr>\n",
       "      <th>39</th>\n",
       "      <td>Dear [SUFFIX_1], would you please provide a co...</td>\n",
       "      <td>Dear [REDACTED], would you please provide a co...</td>\n",
       "      <td>100</td>\n",
       "    </tr>\n",
       "  </tbody>\n",
       "</table>\n",
       "</div>"
      ],
      "text/plain": [
       "                                        actual_masked  \\\n",
       "26  Dear [PREFIX_1] [FIRSTNAME_1], we request your...   \n",
       "73  As a [JOBDESCRIPTOR_1] constitutional lawyer, ...   \n",
       "17  Hello [PREFIX_1]. This is a formal request to ...   \n",
       "92  Dear Client, For convenience, we have implemen...   \n",
       "0   We are considering implementing a new authenti...   \n",
       "85  A detailed SWOT analysis of our new business v...   \n",
       "10  We respect the confidentiality of our particip...   \n",
       "40  Upon completing your analysis of the [BITCOINA...   \n",
       "46  Identity theft is a growing concern in our dig...   \n",
       "39  Dear [SUFFIX_1], would you please provide a co...   \n",
       "\n",
       "                                           llm_masked  match_score  \n",
       "26  Dear Mr. [REDACTED], we request your guidance ...           99  \n",
       "73  As a Future constitutional lawyer, it is cruci...           99  \n",
       "17  Hello Mr.. This is a formal request to use the...           90  \n",
       "92  Dear Client, For convenience, we have implemen...          100  \n",
       "0   We are considering implementing a new authenti...          100  \n",
       "85  A detailed SWOT analysis of our new business v...           96  \n",
       "10  We respect the confidentiality of our particip...           96  \n",
       "40  Upon completing your analysis of the [REDACTED...          100  \n",
       "46  Identity theft is a growing concern in our dig...          100  \n",
       "39  Dear [REDACTED], would you please provide a co...          100  "
      ]
     },
     "execution_count": 12,
     "metadata": {},
     "output_type": "execute_result"
    }
   ],
   "source": [
    "df_results = pd.DataFrame(results, columns = ['actual_cleansed','llm_cleansed', \n",
    "                                              'actual_masked','llm_masked', 'match_score'])\n",
    "df_results[['actual_masked','llm_masked','match_score']].sample(10)"
   ]
  },
  {
   "cell_type": "markdown",
   "id": "16c802ff-f461-4992-933d-3ed3c89537d0",
   "metadata": {},
   "source": [
    "## Results\n",
    "As evident that the LLM is able to match the expected result of masking and can be improved further with better prompting strategies. From a time perspective, it took an llm roughly 1 second to mask a sentence and produce the masked output which would have taken significantly longer for a human to do manually."
   ]
  },
  {
   "cell_type": "code",
   "execution_count": 11,
   "id": "0ecf5f10-446a-418f-a9b0-c39c615a2bbf",
   "metadata": {},
   "outputs": [
    {
     "data": {
      "text/plain": [
       "(0.0, 100.0)"
      ]
     },
     "execution_count": 11,
     "metadata": {},
     "output_type": "execute_result"
    },
    {
     "data": {
      "image/png": "[encoded data removed]",
      "text/plain": [
       "<Figure size 640x480 with 1 Axes>"
      ]
     },
     "metadata": {},
     "output_type": "display_data"
    }
   ],
   "source": [
    "df_results.match_score.plot.hist(title='Actual vs LLM output Match Score \\n(Higher the Better)')\n",
    "plt.xlim(0,100)"
   ]
  },
  {
   "cell_type": "markdown",
   "id": "007d6383-8bbd-4f20-aafd-db72441bbd73",
   "metadata": {},
   "source": [
    "## Conclusion\n",
    "LLMs provide an efficient way of PII masking without the need for training new models and retraining over time. They help reducing the manual effort in masking the data and can also be used as moderators to identify and intervene content which contains PII information. \n",
    "\n",
    "It is recommended to use Local LLMs and SLMs for PII masking to avoid leaking data to external providers. Connect with us to talk about our product [Guardgen](https://guardgen.ai/) which can help you in securely masking PII data with LLMs with in your infrastructure.\n"
   ]
  },
  {
   "cell_type": "code",
   "execution_count": null,
   "id": "37d5c012-e4aa-414b-a237-8189555114f0",
   "metadata": {},
   "outputs": [],
   "source": []
  }
 ],
 "metadata": {
  "kernelspec": {
   "display_name": "Python 3 (ipykernel)",
   "language": "python",
   "name": "python3"
  },
  "language_info": {
   "codemirror_mode": {
    "name": "ipython",
    "version": 3
   },
   "file_extension": ".py",
   "mimetype": "text/x-python",
   "name": "python",
   "nbconvert_exporter": "python",
   "pygments_lexer": "ipython3",
   "version": "3.11.9"
  }
 },
 "nbformat": 4,
 "nbformat_minor": 5
}
