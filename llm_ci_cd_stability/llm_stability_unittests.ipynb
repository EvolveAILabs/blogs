{
 "cells": [
  {
   "cell_type": "code",
   "execution_count": 1,
   "id": "15e9ad5c-1bbf-4399-9d8a-d210851ce4c5",
   "metadata": {},
   "outputs": [],
   "source": [
    "import json\n",
    "import pymupdf4llm\n",
    "import pandas as pd\n",
    "\n",
    "key = json.load(open('./openai_key.json'))['key']\n",
    "llm_test_data = pd.DataFrame({'filename':['chowderhut_20231005_011.pdf','shell_20231005_003.pdf',\n",
    "                                          'beerhouse_20231209_005.pdf','dennys_20231209_004.pdf',\n",
    "                                          'cafemason_20231005_009.pdf','topgolf_20231209_011.pdf',\n",
    "                                          'yellow_20231209_008.pdf'],\n",
    "                              'output':[{'category': 'food', 'total_bill_amount': 21.15},\n",
    "                                        {'category': 'transport', 'total_bill_amount': 28.32},\n",
    "                                        {'category': 'food', 'total_bill_amount': 41.72},\n",
    "                                        {'category': 'food', 'total_bill_amount': 58.44},\n",
    "                                        {'category': 'food', 'total_bill_amount': 32.59},\n",
    "                                        {'category': 'other', 'total_bill_amount': 155.68},\n",
    "                                        {'category': 'transport', 'total_bill_amount': 43.02},\n",
    "                                       ]\n",
    "                             })\n",
    "\n",
    "from openai import OpenAI\n",
    "def prompt_llm(bill_text, key):\n",
    "    client = OpenAI(api_key=key)\n",
    "    completion = client.chat.completions.create(\n",
    "    model=\"gpt-4o\",\n",
    "      messages=[\n",
    "        {\"role\": \"system\", \"content\": \"You are an AI assistant, skilled in helping \\\n",
    "         extract billing information from invoices and bills to help in reimbursement processes.\"},\n",
    "        {\"role\": \"user\", \"content\": \"Using the following extracted information from a bill in triple quotes, generate \\\n",
    "          total_bill_amount, category which is one of food, transport, other as output. \\\n",
    "         Output only in json format as {\\\"total_bill_amount\\\":, \\\"category\\\":}. \\\n",
    "         \\n Bill Extract: \\n \\n \\n '''\" + bill_text + \"'''\"}\n",
    "      ],\n",
    "      seed = 42\n",
    "    )\n",
    "    return completion.choices[0].message.content"
   ]
  },
  {
   "cell_type": "code",
   "execution_count": 2,
   "id": "0087f031-1a3e-47dc-8aea-624729255b8f",
   "metadata": {},
   "outputs": [
    {
     "name": "stderr",
     "output_type": "stream",
     "text": [
      "...\n",
      "----------------------------------------------------------------------\n",
      "Ran 3 tests in 11.314s\n",
      "\n",
      "OK\n"
     ]
    }
   ],
   "source": [
    "import unittest\n",
    "\n",
    "class LLMStability(unittest.TestCase):\n",
    "        \n",
    "    def test_one_row(self):\n",
    "        row = llm_test_data.iloc[0]\n",
    "        md_text = pymupdf4llm.to_markdown(\"./bills/\"+row['filename'])\n",
    "        response = prompt_llm(md_text, key)\n",
    "        response_json = json.loads(response[response.find('{'):response.rfind('}')+1])\n",
    "        self.assertDictEqual(response_json, {'category': 'food', 'total_bill_amount': 21.15})\n",
    "\n",
    "    def test_llm_output_sample(self):\n",
    "        for i,row in llm_test_data.head(3).iterrows():\n",
    "            md_text = pymupdf4llm.to_markdown(\"./bills/\"+row['filename'])\n",
    "            response = prompt_llm(md_text, key)\n",
    "            response_json = json.loads(response[response.find('{'):response.rfind('}')+1])\n",
    "            self.assertDictEqual(response_json, row['output'])\n",
    "    \n",
    "    def test_llm_output_full(self):\n",
    "        ROWS_CORRECT = 0\n",
    "        EXPECTED_MATCH_RATE = 0.5\n",
    "        for i,row in llm_test_data.iterrows():\n",
    "            md_text = pymupdf4llm.to_markdown(\"./bills/\"+row['filename'])\n",
    "            response = prompt_llm(md_text, key)\n",
    "            response_json = json.loads(response[response.find('{'):response.rfind('}')+1])\n",
    "            if(response_json == row['output']):\n",
    "                ROWS_CORRECT=ROWS_CORRECT+1\n",
    "        self.assertGreaterEqual(ROWS_CORRECT/llm_test_data.shape[0],EXPECTED_MATCH_RATE)\n",
    "\n",
    "result = unittest.main(argv=[''], verbosity=1, exit=False)"
   ]
  },
  {
   "cell_type": "code",
   "execution_count": 3,
   "id": "882e4eb1-1848-4348-9bcc-9b8a3fee590e",
   "metadata": {},
   "outputs": [
    {
     "data": {
      "text/plain": [
       "True"
      ]
     },
     "execution_count": 3,
     "metadata": {},
     "output_type": "execute_result"
    }
   ],
   "source": [
    "result.result.wasSuccessful()"
   ]
  },
  {
   "cell_type": "code",
   "execution_count": 4,
   "id": "65170cd0-5091-45d6-8d24-b328cecfd319",
   "metadata": {},
   "outputs": [
    {
     "data": {
      "text/plain": [
       "0"
      ]
     },
     "execution_count": 4,
     "metadata": {},
     "output_type": "execute_result"
    }
   ],
   "source": [
    "len(result.result.failures)"
   ]
  },
  {
   "cell_type": "code",
   "execution_count": 5,
   "id": "e6c3c5f9-73ed-4a59-94c2-8edcf52226f9",
   "metadata": {},
   "outputs": [
    {
     "data": {
      "text/plain": [
       "3"
      ]
     },
     "execution_count": 5,
     "metadata": {},
     "output_type": "execute_result"
    }
   ],
   "source": [
    "result.result.testsRun"
   ]
  },
  {
   "cell_type": "code",
   "execution_count": null,
   "id": "7257b175-4570-4f62-84b0-4db5361799c6",
   "metadata": {},
   "outputs": [],
   "source": []
  },
  {
   "cell_type": "code",
   "execution_count": null,
   "id": "86d8e203-95f1-4014-8953-491a31a03c33",
   "metadata": {},
   "outputs": [],
   "source": []
  }
 ],
 "metadata": {
  "kernelspec": {
   "display_name": "Python 3 (ipykernel)",
   "language": "python",
   "name": "python3"
  },
  "language_info": {
   "codemirror_mode": {
    "name": "ipython",
    "version": 3
   },
   "file_extension": ".py",
   "mimetype": "text/x-python",
   "name": "python",
   "nbconvert_exporter": "python",
   "pygments_lexer": "ipython3",
   "version": "3.11.9"
  }
 },
 "nbformat": 4,
 "nbformat_minor": 5
}
