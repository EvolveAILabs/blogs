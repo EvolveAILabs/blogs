{
 "cells": [
  {
   "cell_type": "markdown",
   "id": "626eaefb-2610-4bf3-98ca-ff5b0f6ff906",
   "metadata": {},
   "source": [
    "## Using updated datasets in modeling worker Predictions\n",
    "\n",
    "Please refer to this [documentation](https://datarobot-public-api-client.readthedocs-hosted.com/en/latest-release/reference/data/feature_discovery.html#make-predictions-with-a-trained-model) for additional details."
   ]
  },
  {
   "cell_type": "code",
   "execution_count": 1,
   "id": "4cf22fa0-3489-4447-9383-b5cea3553ec1",
   "metadata": {},
   "outputs": [],
   "source": [
    "import datarobot as dr"
   ]
  },
  {
   "cell_type": "code",
   "execution_count": 10,
   "id": "a879daab-03b7-48f1-a36d-7427485dc092",
   "metadata": {},
   "outputs": [
    {
     "data": {
      "text/plain": [
       "<datarobot.rest.RESTClientObject at 0x137af44d0>"
      ]
     },
     "execution_count": 10,
     "metadata": {},
     "output_type": "execute_result"
    }
   ],
   "source": [
    "dr.Client(token='',\n",
    "          endpoint='https://app.datarobot.com/api/v2')"
   ]
  },
  {
   "cell_type": "markdown",
   "id": "e766c051-14dc-4b62-8eaa-e6242e9d224c",
   "metadata": {},
   "source": [
    "### Setup\n",
    "Get the specific project and model "
   ]
  },
  {
   "cell_type": "code",
   "execution_count": 3,
   "id": "169ab98d-7b99-4013-be7f-7e460c6d5cf6",
   "metadata": {},
   "outputs": [
    {
     "data": {
      "text/plain": [
       "Project(Lending+Club+Target.csv)"
      ]
     },
     "execution_count": 3,
     "metadata": {},
     "output_type": "execute_result"
    }
   ],
   "source": [
    "project = dr.Project.get('66f4f57e56b6c62a3b2af7df')\n",
    "project"
   ]
  },
  {
   "cell_type": "code",
   "execution_count": 4,
   "id": "73549f27-70ee-483e-9b22-d903f466d6fb",
   "metadata": {},
   "outputs": [
    {
     "name": "stderr",
     "output_type": "stream",
     "text": [
      "/opt/anaconda3/envs/devenv311/lib/python3.11/site-packages/datarobot/models/project.py:2136: DataRobotDeprecationWarning: `get_models` has been marked for change in `3.4`, will be changed in `4.0`. In 4.0, the flag `use_new_models_retrieval` will be always `True`.\n",
      "         Fewer attributes will be returned in the response, see the docstring for more details. \n",
      "  models = self.get_models()\n"
     ]
    },
    {
     "data": {
      "text/plain": [
       "Model('Light Gradient Boosted Trees Classifier with Early Stopping')"
      ]
     },
     "execution_count": 4,
     "metadata": {},
     "output_type": "execute_result"
    }
   ],
   "source": [
    "model = project.get_top_model()\n",
    "model"
   ]
  },
  {
   "cell_type": "markdown",
   "id": "feff1d26-84ea-4aa9-b751-c0577f3b2bbe",
   "metadata": {},
   "source": [
    "### Training Configuration\n",
    "Get default configuration which is secondary datasets used in training for reference items like identifiers"
   ]
  },
  {
   "cell_type": "code",
   "execution_count": 37,
   "id": "619396b4-8180-4825-ae9c-efa1fd9aac89",
   "metadata": {},
   "outputs": [
    {
     "data": {
      "text/plain": [
       "[<datarobot.models.secondary_dataset.SecondaryDatasetConfigurations at 0x1777cdcd0>,\n",
       " <datarobot.models.secondary_dataset.SecondaryDatasetConfigurations at 0x1777ce110>]"
      ]
     },
     "execution_count": 37,
     "metadata": {},
     "output_type": "execute_result"
    }
   ],
   "source": [
    "secondary_dataset_configs = dr.SecondaryDatasetConfigurations.list(project.id)\n",
    "secondary_dataset_configs"
   ]
  },
  {
   "cell_type": "code",
   "execution_count": 36,
   "id": "ebec1a08-b374-407f-b584-5084c09c819f",
   "metadata": {},
   "outputs": [
    {
     "data": {
      "text/plain": [
       "{'id': '66f4f8399858adf6ef867e78',\n",
       " 'project_id': '66f4f57e56b6c62a3b2af7df',\n",
       " 'config': [{'feature_engineering_graph_id': '66f4f8039858adf6ef867e71',\n",
       "   'secondary_datasets': [{'identifier': 'Lending+Club+Transac',\n",
       "     'catalog_id': '66f4f5ed728bd2f567902bcc',\n",
       "     'catalog_version_id': '66f4f5ed728bd2f567902bcd',\n",
       "     'snapshot_policy': 'latest'}]},\n",
       "  {'feature_engineering_graph_id': '66f4f8039858adf6ef867e72',\n",
       "   'secondary_datasets': [{'identifier': 'Lending+Club+Profile',\n",
       "     'catalog_id': '66f4f78da4c4c23bfa9029aa',\n",
       "     'catalog_version_id': '66f4f78da4c4c23bfa9029ab',\n",
       "     'snapshot_policy': 'latest'}]}],\n",
       " 'name': 'Default Configuration',\n",
       " 'secondary_datasets': [{'identifier': 'Lending+Club+Transac',\n",
       "   'catalog_id': '66f4f5ed728bd2f567902bcc',\n",
       "   'catalog_version_id': '66f4f5ed728bd2f567902bcd',\n",
       "   'snapshot_policy': 'latest'},\n",
       "  {'identifier': 'Lending+Club+Profile',\n",
       "   'catalog_id': '66f4f78da4c4c23bfa9029aa',\n",
       "   'catalog_version_id': '66f4f78da4c4c23bfa9029ab',\n",
       "   'snapshot_policy': 'latest'}],\n",
       " 'creator_full_name': 'Abdul Jilani',\n",
       " 'creator_user_id': '664d800e155924ca217dccd9',\n",
       " 'created': datetime.datetime(2024, 9, 26, 5, 59, 21, tzinfo=tzutc()),\n",
       " 'featurelist_id': None,\n",
       " 'credential_ids': [],\n",
       " 'is_default': True,\n",
       " 'project_version': None}"
      ]
     },
     "execution_count": 36,
     "metadata": {},
     "output_type": "execute_result"
    }
   ],
   "source": [
    "secondary_dataset_configs[0].to_dict()"
   ]
  },
  {
   "cell_type": "markdown",
   "id": "a8df6446-395e-4884-8a0d-d4a4c7e3d49d",
   "metadata": {},
   "source": [
    "### New Prediction time configuration\n",
    "Create new secondary configuration with new datasets from AI catalog"
   ]
  },
  {
   "cell_type": "code",
   "execution_count": 12,
   "id": "a0e933f9-12fa-42ee-8e93-9ad0dec3c7b8",
   "metadata": {},
   "outputs": [],
   "source": [
    "id_sec_table_profile = '66f4ff3fa6701911f5902904'\n",
    "version_id_sec_table_profile = '66f4ff3fa6701911f5902905'\n",
    "id_sec_table_trasactions = '66f4ff82a6701911f590293c'\n",
    "version_id_sec_table_trasactions = '66f4ff82a6701911f590293d'"
   ]
  },
  {
   "cell_type": "code",
   "execution_count": 14,
   "id": "1f0e5b0f-36a2-4401-8ee7-75d051b19779",
   "metadata": {},
   "outputs": [],
   "source": [
    "profile_secondary_dataset = dr.SecondaryDataset(\n",
    "    identifier='Lending+Club+Profile',\n",
    "    catalog_id=id_sec_table_profile,\n",
    "    catalog_version_id=version_id_sec_table_profile,\n",
    "    snapshot_policy='latest'\n",
    ")\n",
    "\n",
    "transaction_secondary_dataset = dr.SecondaryDataset(\n",
    "    identifier='Lending+Club+Transac',\n",
    "    catalog_id=id_sec_table_trasactions,\n",
    "    catalog_version_id=version_id_sec_table_trasactions,\n",
    "    snapshot_policy='latest'\n",
    ")\n",
    "\n",
    "secondary_datasets = [profile_secondary_dataset, transaction_secondary_dataset]\n",
    "\n",
    "new_secondary_dataset_config = dr.SecondaryDatasetConfigurations.create(\n",
    "    project_id=project.id,\n",
    "    name='New Configuration for Prediction',\n",
    "    secondary_datasets=secondary_datasets\n",
    ")"
   ]
  },
  {
   "cell_type": "markdown",
   "id": "def772a2-5263-4c61-9147-338d9f7b0ba4",
   "metadata": {},
   "source": [
    "Verifying that the new configuration is linked to project"
   ]
  },
  {
   "cell_type": "code",
   "execution_count": 38,
   "id": "aab5d4e5-19db-4917-b47e-0ae4ff39d2cf",
   "metadata": {},
   "outputs": [
    {
     "data": {
      "text/plain": [
       "{'id': '66f50299ff9ec635a4fceca4',\n",
       " 'project_id': '66f4f57e56b6c62a3b2af7df',\n",
       " 'config': [{'feature_engineering_graph_id': '66f4f8039858adf6ef867e72',\n",
       "   'secondary_datasets': [{'identifier': 'Lending+Club+Profile',\n",
       "     'catalog_id': '66f4ff3fa6701911f5902904',\n",
       "     'catalog_version_id': '66f4ff3fa6701911f5902905',\n",
       "     'snapshot_policy': 'latest'}]},\n",
       "  {'feature_engineering_graph_id': '66f4f8039858adf6ef867e71',\n",
       "   'secondary_datasets': [{'identifier': 'Lending+Club+Transac',\n",
       "     'catalog_id': '66f4ff82a6701911f590293c',\n",
       "     'catalog_version_id': '66f4ff82a6701911f590293d',\n",
       "     'snapshot_policy': 'latest'}]}],\n",
       " 'name': 'New Configuration for Prediction',\n",
       " 'secondary_datasets': [{'identifier': 'Lending+Club+Profile',\n",
       "   'catalog_id': '66f4ff3fa6701911f5902904',\n",
       "   'catalog_version_id': '66f4ff3fa6701911f5902905',\n",
       "   'snapshot_policy': 'latest'},\n",
       "  {'identifier': 'Lending+Club+Transac',\n",
       "   'catalog_id': '66f4ff82a6701911f590293c',\n",
       "   'catalog_version_id': '66f4ff82a6701911f590293d',\n",
       "   'snapshot_policy': 'latest'}],\n",
       " 'creator_full_name': 'Abdul Jilani',\n",
       " 'creator_user_id': '664d800e155924ca217dccd9',\n",
       " 'created': datetime.datetime(2024, 9, 26, 6, 43, 37, tzinfo=tzutc()),\n",
       " 'featurelist_id': None,\n",
       " 'credential_ids': None,\n",
       " 'is_default': False,\n",
       " 'project_version': None}"
      ]
     },
     "execution_count": 38,
     "metadata": {},
     "output_type": "execute_result"
    }
   ],
   "source": [
    "secondary_dataset_configs[1].to_dict()"
   ]
  },
  {
   "cell_type": "markdown",
   "id": "b9a1f67f-bfc6-41a3-a0da-73a20ece611e",
   "metadata": {},
   "source": [
    "### Predictions with new Configuration\n",
    "make predictions on model blueprints using newly uploaded configuration"
   ]
  },
  {
   "cell_type": "code",
   "execution_count": 15,
   "id": "bd014403-2d8a-4156-8163-ba7d5bead791",
   "metadata": {},
   "outputs": [],
   "source": [
    "dataset_from_path = project.upload_dataset(\n",
    "    './Lending+Club+Target.csv',\n",
    "    secondary_datasets_config_id=new_secondary_dataset_config.id\n",
    ")\n",
    "\n",
    "predict_job_1 = model.request_predictions(dataset_from_path.id)"
   ]
  },
  {
   "cell_type": "code",
   "execution_count": 25,
   "id": "39b0dc80-7a44-46a2-91d0-c982b8028ae5",
   "metadata": {},
   "outputs": [
    {
     "data": {
      "text/plain": [
       "PredictJob(Model('66f4f8afef23edf9988d5e0f'), status=COMPLETED)"
      ]
     },
     "execution_count": 25,
     "metadata": {},
     "output_type": "execute_result"
    }
   ],
   "source": [
    "predict_job_1"
   ]
  },
  {
   "cell_type": "code",
   "execution_count": 26,
   "id": "2d6470e8-d640-459d-b95e-d21f5b6986fe",
   "metadata": {},
   "outputs": [
    {
     "data": {
      "text/html": [
       "<div>\n",
       "<style scoped>\n",
       "    .dataframe tbody tr th:only-of-type {\n",
       "        vertical-align: middle;\n",
       "    }\n",
       "\n",
       "    .dataframe tbody tr th {\n",
       "        vertical-align: top;\n",
       "    }\n",
       "\n",
       "    .dataframe thead th {\n",
       "        text-align: right;\n",
       "    }\n",
       "</style>\n",
       "<table border=\"1\" class=\"dataframe\">\n",
       "  <thead>\n",
       "    <tr style=\"text-align: right;\">\n",
       "      <th></th>\n",
       "      <th>row_id</th>\n",
       "      <th>prediction</th>\n",
       "      <th>positive_probability</th>\n",
       "      <th>prediction_threshold</th>\n",
       "      <th>class_No</th>\n",
       "      <th>class_Yes</th>\n",
       "    </tr>\n",
       "  </thead>\n",
       "  <tbody>\n",
       "    <tr>\n",
       "      <th>0</th>\n",
       "      <td>0</td>\n",
       "      <td>No</td>\n",
       "      <td>0.027765</td>\n",
       "      <td>0.5</td>\n",
       "      <td>0.972235</td>\n",
       "      <td>0.027765</td>\n",
       "    </tr>\n",
       "    <tr>\n",
       "      <th>1</th>\n",
       "      <td>1</td>\n",
       "      <td>No</td>\n",
       "      <td>0.070605</td>\n",
       "      <td>0.5</td>\n",
       "      <td>0.929395</td>\n",
       "      <td>0.070605</td>\n",
       "    </tr>\n",
       "    <tr>\n",
       "      <th>2</th>\n",
       "      <td>2</td>\n",
       "      <td>No</td>\n",
       "      <td>0.013161</td>\n",
       "      <td>0.5</td>\n",
       "      <td>0.986839</td>\n",
       "      <td>0.013161</td>\n",
       "    </tr>\n",
       "    <tr>\n",
       "      <th>3</th>\n",
       "      <td>3</td>\n",
       "      <td>No</td>\n",
       "      <td>0.038213</td>\n",
       "      <td>0.5</td>\n",
       "      <td>0.961787</td>\n",
       "      <td>0.038213</td>\n",
       "    </tr>\n",
       "    <tr>\n",
       "      <th>4</th>\n",
       "      <td>4</td>\n",
       "      <td>No</td>\n",
       "      <td>0.021752</td>\n",
       "      <td>0.5</td>\n",
       "      <td>0.978248</td>\n",
       "      <td>0.021752</td>\n",
       "    </tr>\n",
       "    <tr>\n",
       "      <th>...</th>\n",
       "      <td>...</td>\n",
       "      <td>...</td>\n",
       "      <td>...</td>\n",
       "      <td>...</td>\n",
       "      <td>...</td>\n",
       "      <td>...</td>\n",
       "    </tr>\n",
       "    <tr>\n",
       "      <th>9995</th>\n",
       "      <td>9995</td>\n",
       "      <td>No</td>\n",
       "      <td>0.015054</td>\n",
       "      <td>0.5</td>\n",
       "      <td>0.984946</td>\n",
       "      <td>0.015054</td>\n",
       "    </tr>\n",
       "    <tr>\n",
       "      <th>9996</th>\n",
       "      <td>9996</td>\n",
       "      <td>No</td>\n",
       "      <td>0.050740</td>\n",
       "      <td>0.5</td>\n",
       "      <td>0.949260</td>\n",
       "      <td>0.050740</td>\n",
       "    </tr>\n",
       "    <tr>\n",
       "      <th>9997</th>\n",
       "      <td>9997</td>\n",
       "      <td>No</td>\n",
       "      <td>0.040809</td>\n",
       "      <td>0.5</td>\n",
       "      <td>0.959191</td>\n",
       "      <td>0.040809</td>\n",
       "    </tr>\n",
       "    <tr>\n",
       "      <th>9998</th>\n",
       "      <td>9998</td>\n",
       "      <td>No</td>\n",
       "      <td>0.037467</td>\n",
       "      <td>0.5</td>\n",
       "      <td>0.962533</td>\n",
       "      <td>0.037467</td>\n",
       "    </tr>\n",
       "    <tr>\n",
       "      <th>9999</th>\n",
       "      <td>9999</td>\n",
       "      <td>No</td>\n",
       "      <td>0.014860</td>\n",
       "      <td>0.5</td>\n",
       "      <td>0.985140</td>\n",
       "      <td>0.014860</td>\n",
       "    </tr>\n",
       "  </tbody>\n",
       "</table>\n",
       "<p>10000 rows × 6 columns</p>\n",
       "</div>"
      ],
      "text/plain": [
       "      row_id prediction  positive_probability  prediction_threshold  class_No  \\\n",
       "0          0         No              0.027765                   0.5  0.972235   \n",
       "1          1         No              0.070605                   0.5  0.929395   \n",
       "2          2         No              0.013161                   0.5  0.986839   \n",
       "3          3         No              0.038213                   0.5  0.961787   \n",
       "4          4         No              0.021752                   0.5  0.978248   \n",
       "...      ...        ...                   ...                   ...       ...   \n",
       "9995    9995         No              0.015054                   0.5  0.984946   \n",
       "9996    9996         No              0.050740                   0.5  0.949260   \n",
       "9997    9997         No              0.040809                   0.5  0.959191   \n",
       "9998    9998         No              0.037467                   0.5  0.962533   \n",
       "9999    9999         No              0.014860                   0.5  0.985140   \n",
       "\n",
       "      class_Yes  \n",
       "0      0.027765  \n",
       "1      0.070605  \n",
       "2      0.013161  \n",
       "3      0.038213  \n",
       "4      0.021752  \n",
       "...         ...  \n",
       "9995   0.015054  \n",
       "9996   0.050740  \n",
       "9997   0.040809  \n",
       "9998   0.037467  \n",
       "9999   0.014860  \n",
       "\n",
       "[10000 rows x 6 columns]"
      ]
     },
     "execution_count": 26,
     "metadata": {},
     "output_type": "execute_result"
    }
   ],
   "source": [
    "predict_job_1.get_result_when_complete()"
   ]
  },
  {
   "cell_type": "code",
   "execution_count": 22,
   "id": "18826b59-ae53-4202-b8c1-6a93630c5717",
   "metadata": {},
   "outputs": [
    {
     "data": {
      "text/html": [
       "<div>\n",
       "<style scoped>\n",
       "    .dataframe tbody tr th:only-of-type {\n",
       "        vertical-align: middle;\n",
       "    }\n",
       "\n",
       "    .dataframe tbody tr th {\n",
       "        vertical-align: top;\n",
       "    }\n",
       "\n",
       "    .dataframe thead th {\n",
       "        text-align: right;\n",
       "    }\n",
       "</style>\n",
       "<table border=\"1\" class=\"dataframe\">\n",
       "  <thead>\n",
       "    <tr style=\"text-align: right;\">\n",
       "      <th></th>\n",
       "      <th>row_id</th>\n",
       "      <th>prediction</th>\n",
       "      <th>positive_probability</th>\n",
       "      <th>prediction_threshold</th>\n",
       "      <th>class_No</th>\n",
       "      <th>class_Yes</th>\n",
       "    </tr>\n",
       "  </thead>\n",
       "  <tbody>\n",
       "    <tr>\n",
       "      <th>0</th>\n",
       "      <td>0</td>\n",
       "      <td>No</td>\n",
       "      <td>0.027765</td>\n",
       "      <td>0.5</td>\n",
       "      <td>0.972235</td>\n",
       "      <td>0.027765</td>\n",
       "    </tr>\n",
       "    <tr>\n",
       "      <th>1</th>\n",
       "      <td>1</td>\n",
       "      <td>No</td>\n",
       "      <td>0.070605</td>\n",
       "      <td>0.5</td>\n",
       "      <td>0.929395</td>\n",
       "      <td>0.070605</td>\n",
       "    </tr>\n",
       "    <tr>\n",
       "      <th>2</th>\n",
       "      <td>2</td>\n",
       "      <td>No</td>\n",
       "      <td>0.013161</td>\n",
       "      <td>0.5</td>\n",
       "      <td>0.986839</td>\n",
       "      <td>0.013161</td>\n",
       "    </tr>\n",
       "    <tr>\n",
       "      <th>3</th>\n",
       "      <td>3</td>\n",
       "      <td>No</td>\n",
       "      <td>0.038213</td>\n",
       "      <td>0.5</td>\n",
       "      <td>0.961787</td>\n",
       "      <td>0.038213</td>\n",
       "    </tr>\n",
       "    <tr>\n",
       "      <th>4</th>\n",
       "      <td>4</td>\n",
       "      <td>No</td>\n",
       "      <td>0.021752</td>\n",
       "      <td>0.5</td>\n",
       "      <td>0.978248</td>\n",
       "      <td>0.021752</td>\n",
       "    </tr>\n",
       "    <tr>\n",
       "      <th>...</th>\n",
       "      <td>...</td>\n",
       "      <td>...</td>\n",
       "      <td>...</td>\n",
       "      <td>...</td>\n",
       "      <td>...</td>\n",
       "      <td>...</td>\n",
       "    </tr>\n",
       "    <tr>\n",
       "      <th>9995</th>\n",
       "      <td>9995</td>\n",
       "      <td>No</td>\n",
       "      <td>0.015054</td>\n",
       "      <td>0.5</td>\n",
       "      <td>0.984946</td>\n",
       "      <td>0.015054</td>\n",
       "    </tr>\n",
       "    <tr>\n",
       "      <th>9996</th>\n",
       "      <td>9996</td>\n",
       "      <td>No</td>\n",
       "      <td>0.050740</td>\n",
       "      <td>0.5</td>\n",
       "      <td>0.949260</td>\n",
       "      <td>0.050740</td>\n",
       "    </tr>\n",
       "    <tr>\n",
       "      <th>9997</th>\n",
       "      <td>9997</td>\n",
       "      <td>No</td>\n",
       "      <td>0.040809</td>\n",
       "      <td>0.5</td>\n",
       "      <td>0.959191</td>\n",
       "      <td>0.040809</td>\n",
       "    </tr>\n",
       "    <tr>\n",
       "      <th>9998</th>\n",
       "      <td>9998</td>\n",
       "      <td>No</td>\n",
       "      <td>0.037467</td>\n",
       "      <td>0.5</td>\n",
       "      <td>0.962533</td>\n",
       "      <td>0.037467</td>\n",
       "    </tr>\n",
       "    <tr>\n",
       "      <th>9999</th>\n",
       "      <td>9999</td>\n",
       "      <td>No</td>\n",
       "      <td>0.014860</td>\n",
       "      <td>0.5</td>\n",
       "      <td>0.985140</td>\n",
       "      <td>0.014860</td>\n",
       "    </tr>\n",
       "  </tbody>\n",
       "</table>\n",
       "<p>10000 rows × 6 columns</p>\n",
       "</div>"
      ],
      "text/plain": [
       "      row_id prediction  positive_probability  prediction_threshold  class_No  \\\n",
       "0          0         No              0.027765                   0.5  0.972235   \n",
       "1          1         No              0.070605                   0.5  0.929395   \n",
       "2          2         No              0.013161                   0.5  0.986839   \n",
       "3          3         No              0.038213                   0.5  0.961787   \n",
       "4          4         No              0.021752                   0.5  0.978248   \n",
       "...      ...        ...                   ...                   ...       ...   \n",
       "9995    9995         No              0.015054                   0.5  0.984946   \n",
       "9996    9996         No              0.050740                   0.5  0.949260   \n",
       "9997    9997         No              0.040809                   0.5  0.959191   \n",
       "9998    9998         No              0.037467                   0.5  0.962533   \n",
       "9999    9999         No              0.014860                   0.5  0.985140   \n",
       "\n",
       "      class_Yes  \n",
       "0      0.027765  \n",
       "1      0.070605  \n",
       "2      0.013161  \n",
       "3      0.038213  \n",
       "4      0.021752  \n",
       "...         ...  \n",
       "9995   0.015054  \n",
       "9996   0.050740  \n",
       "9997   0.040809  \n",
       "9998   0.037467  \n",
       "9999   0.014860  \n",
       "\n",
       "[10000 rows x 6 columns]"
      ]
     },
     "execution_count": 22,
     "metadata": {},
     "output_type": "execute_result"
    }
   ],
   "source": [
    "predict_job_1.get_predictions(project_id=project.id, predict_job_id=predict_job_1.id)"
   ]
  },
  {
   "cell_type": "code",
   "execution_count": null,
   "id": "0733e51a-f436-44f2-a5af-2c0e117394a0",
   "metadata": {},
   "outputs": [],
   "source": []
  }
 ],
 "metadata": {
  "kernelspec": {
   "display_name": "Python 3 (ipykernel)",
   "language": "python",
   "name": "python3"
  },
  "language_info": {
   "codemirror_mode": {
    "name": "ipython",
    "version": 3
   },
   "file_extension": ".py",
   "mimetype": "text/x-python",
   "name": "python",
   "nbconvert_exporter": "python",
   "pygments_lexer": "ipython3",
   "version": "3.11.9"
  }
 },
 "nbformat": 4,
 "nbformat_minor": 5
}
