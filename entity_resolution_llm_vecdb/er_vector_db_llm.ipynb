{
 "cells": [
  {
   "cell_type": "markdown",
   "id": "832f93f6",
   "metadata": {},
   "source": [
    "### Using Vector DB and LLMs for Entity Resolution\n",
    "\n",
    "We will use sentence transformers to encode text to embeddings and use Vector DB to store and lookup said embeddings. The vector db used for this tutorial is <a href='https://milvus.io/'>Milvus</a>."
   ]
  },
  {
   "cell_type": "markdown",
   "id": "d720b15d",
   "metadata": {},
   "source": [
    "### Starting the DB Instance locally"
   ]
  },
  {
   "cell_type": "code",
   "execution_count": 13,
   "id": "90137e41",
   "metadata": {},
   "outputs": [
    {
     "name": "stdout",
     "output_type": "stream",
     "text": [
      "\n",
      "\n",
      "    __  _________ _   ____  ______\n",
      "   /  |/  /  _/ /| | / / / / / __/\n",
      "  / /|_/ // // /_| |/ / /_/ /\\ \\\n",
      " /_/  /_/___/____/___/\\____/___/ {Lite}\n",
      "\n",
      " Welcome to use Milvus!\n",
      "\n",
      " Version:   v2.2.8-lite\n",
      " Process:   28663\n",
      " Started:   2023-05-23 17:30:53\n",
      " Config:    /Users/abdul.jilani/.milvus.io/milvus-server/2.2.8/configs/milvus.yaml\n",
      " Logs:      /Users/abdul.jilani/.milvus.io/milvus-server/2.2.8/logs\n",
      "\n",
      " Ctrl+C to exit ...\n"
     ]
    }
   ],
   "source": [
    "from milvus import default_server\n",
    "from pymilvus import connections, utility\n",
    "\n",
    "'''with default_server:\n",
    "    connections.connect(host='localhost', port=default_server.listen_port)\n",
    "    print(utility.get_server_version())'''\n",
    "default_server.start()\n",
    "#default_server.stop()"
   ]
  },
  {
   "cell_type": "code",
   "execution_count": 15,
   "id": "0b593a48",
   "metadata": {},
   "outputs": [
    {
     "name": "stdout",
     "output_type": "stream",
     "text": [
      "v2.2.8-lite\n"
     ]
    }
   ],
   "source": [
    "print(utility.get_server_version())"
   ]
  },
  {
   "cell_type": "code",
   "execution_count": 115,
   "id": "68079472",
   "metadata": {},
   "outputs": [],
   "source": [
    "from pymilvus import (\n",
    "    connections,\n",
    "    utility,\n",
    "    FieldSchema,\n",
    "    CollectionSchema,\n",
    "    DataType,\n",
    "    Collection,\n",
    ")"
   ]
  },
  {
   "cell_type": "markdown",
   "id": "bfd29320",
   "metadata": {},
   "source": [
    "### Connecting and Inserting embeddings"
   ]
  },
  {
   "cell_type": "code",
   "execution_count": 116,
   "id": "4834d979",
   "metadata": {},
   "outputs": [],
   "source": [
    "connections.connect(\"default\", host=\"localhost\", port=\"19530\")"
   ]
  },
  {
   "cell_type": "code",
   "execution_count": 151,
   "id": "d220939c",
   "metadata": {},
   "outputs": [],
   "source": [
    "data_records = [[0,'Steve King; 82-84 Kent Rd, North Ryde NSW 2113'],\n",
    "             [1,'Stephen King; 82-84 Kent Road, North Ryde New South Wales 2113'],\n",
    "             [2,'George Orwell; 82,84 Kent Road, North Ryde NSW 2113'],\n",
    "             [3,'William Shakespeare; 610 Bells Line of Rd, Kurmond NSW 2757'],\n",
    "             [4,'Bill Shakespeare; 980 Bells Line of Road, Kurrajong Heights 2758 NSW']]"
   ]
  },
  {
   "cell_type": "code",
   "execution_count": 152,
   "id": "c5b100b1",
   "metadata": {},
   "outputs": [],
   "source": [
    "from sentence_transformers import SentenceTransformer\n",
    "model = SentenceTransformer('paraphrase-MiniLM-L6-v2')\n",
    "data_vecs = [model.encode(record[1]).tolist() for record in data_records]"
   ]
  },
  {
   "cell_type": "code",
   "execution_count": 155,
   "id": "270e7cb0",
   "metadata": {},
   "outputs": [],
   "source": [
    "from pymilvus import utility\n",
    "utility.drop_collection(\"person_lookup\")"
   ]
  },
  {
   "cell_type": "code",
   "execution_count": 156,
   "id": "592ffaa3",
   "metadata": {},
   "outputs": [],
   "source": [
    "fields = [\n",
    "    FieldSchema(name=\"pk\", dtype=DataType.INT64, is_primary=True, auto_id=False),\n",
    "    FieldSchema(name=\"data_record\", dtype=DataType.VARCHAR, max_length=1000),\n",
    "    FieldSchema(name=\"embeddings\", dtype=DataType.FLOAT_VECTOR, dim=384)\n",
    "]\n",
    "schema = CollectionSchema(fields, \"person records store\")\n",
    "person_lookup = Collection(\"person_lookup\", schema)"
   ]
  },
  {
   "cell_type": "code",
   "execution_count": 158,
   "id": "c105ca7e",
   "metadata": {},
   "outputs": [],
   "source": [
    "entities = [\n",
    "    [i[0] for i in data_records],  # id\n",
    "    [i[1] for i in data_records],  # details\n",
    "    data_vecs,  # embeddings\n",
    "]\n",
    "insert_result = person_lookup.insert(entities)\n",
    "person_lookup.flush()  "
   ]
  },
  {
   "cell_type": "code",
   "execution_count": 159,
   "id": "7f4976f8",
   "metadata": {},
   "outputs": [
    {
     "data": {
      "text/plain": [
       "Status(code=0, message=)"
      ]
     },
     "execution_count": 159,
     "metadata": {},
     "output_type": "execute_result"
    }
   ],
   "source": [
    "index = {\n",
    "    \"index_type\": \"IVF_FLAT\",\n",
    "    \"metric_type\": \"L2\",\n",
    "    \"params\": {\"nlist\": 128},\n",
    "}\n",
    "person_lookup.create_index(\"embeddings\", index)"
   ]
  },
  {
   "cell_type": "markdown",
   "id": "b1eaf0f9",
   "metadata": {},
   "source": [
    "### Search Query examples "
   ]
  },
  {
   "cell_type": "code",
   "execution_count": 160,
   "id": "7530fa23",
   "metadata": {},
   "outputs": [],
   "source": [
    "person_lookup.load()\n",
    "vectors_to_search = [data_vecs[0]]\n",
    "search_params = {\n",
    "    \"metric_type\": \"L2\",\n",
    "    \"params\": {\"nprobe\": 384},\n",
    "}\n",
    "result = person_lookup.search(vectors_to_search, \"embeddings\", \n",
    "                              search_params, limit=3, \n",
    "                              output_fields=[\"pk\",\"data_record\"])"
   ]
  },
  {
   "cell_type": "code",
   "execution_count": 161,
   "id": "d3a427b9",
   "metadata": {},
   "outputs": [
    {
     "data": {
      "text/plain": [
       "[id: 0, distance: 0.0, entity: {'pk': 0, 'data_record': 'Steve King; 82-84 Kent Rd, North Ryde NSW 2113'},\n",
       " id: 1, distance: 10.103018760681152, entity: {'pk': 1, 'data_record': 'Stephen King; 82-84 Kent Road, North Ryde New South Wales 2113'},\n",
       " id: 2, distance: 11.821717262268066, entity: {'pk': 2, 'data_record': 'George Orwell; 82,84 Kent Road, North Ryde NSW 2113'}]"
      ]
     },
     "execution_count": 161,
     "metadata": {},
     "output_type": "execute_result"
    }
   ],
   "source": [
    "[res for res in result[0]]"
   ]
  },
  {
   "cell_type": "code",
   "execution_count": 173,
   "id": "624f9338",
   "metadata": {},
   "outputs": [
    {
     "data": {
      "text/plain": [
       "[id: 0, distance: 359.0757751464844, entity: {'pk': 0, 'data_record': 'Steve King; 82-84 Kent Rd, North Ryde NSW 2113'},\n",
       " id: 1, distance: 366.83892822265625, entity: {'pk': 1, 'data_record': 'Stephen King; 82-84 Kent Road, North Ryde New South Wales 2113'}]"
      ]
     },
     "execution_count": 173,
     "metadata": {},
     "output_type": "execute_result"
    }
   ],
   "source": [
    "entity_to_search = 'Stephen King; 53/57 Rawson St, Epping NSW 2121'\n",
    "vectors_to_search = scaler.transform(model.encode(entity_to_search).reshape(1,-1)).tolist()\n",
    "search_params = {\n",
    "    \"metric_type\": \"L2\",#\"IP\",\n",
    "    \"params\": {\"nprobe\": 384},\n",
    "}\n",
    "result = person_lookup.search(vectors_to_search, \"embeddings\", \n",
    "                              search_params, limit=2, \n",
    "                              output_fields=[\"pk\",\"data_record\"])\n",
    "[res for res in result[0]]"
   ]
  },
  {
   "cell_type": "code",
   "execution_count": 174,
   "id": "42a8b089",
   "metadata": {},
   "outputs": [
    {
     "data": {
      "text/plain": [
       "[id: 0, distance: 253.13133239746094, entity: {'pk': 0, 'data_record': 'Steve King; 82-84 Kent Rd, North Ryde NSW 2113'},\n",
       " id: 1, distance: 276.904296875, entity: {'pk': 1, 'data_record': 'Stephen King; 82-84 Kent Road, North Ryde New South Wales 2113'}]"
      ]
     },
     "execution_count": 174,
     "metadata": {},
     "output_type": "execute_result"
    }
   ],
   "source": [
    "entity_to_search = 'Steve King; Kent Rd, North Ryde NSW 2113'\n",
    "vectors_to_search = scaler.transform(model.encode(entity_to_search).reshape(1,-1)).tolist()\n",
    "search_params = {\n",
    "    \"metric_type\": \"L2\",#\"IP\",\n",
    "    \"params\": {\"nprobe\": 384},\n",
    "}\n",
    "result = person_lookup.search(vectors_to_search, \"embeddings\", \n",
    "                              search_params, limit=2, \n",
    "                              output_fields=[\"pk\",\"data_record\"])\n",
    "[res for res in result[0]]"
   ]
  },
  {
   "cell_type": "code",
   "execution_count": 167,
   "id": "66484ca4",
   "metadata": {},
   "outputs": [
    {
     "data": {
      "text/plain": [
       "[{'pk': 0, 'data_record': 'Steve King; 82-84 Kent Rd, North Ryde NSW 2113'},\n",
       " {'pk': 1,\n",
       "  'data_record': 'Stephen King; 82-84 Kent Road, North Ryde New South Wales 2113'},\n",
       " {'pk': 2,\n",
       "  'data_record': 'George Orwell; 82,84 Kent Road, North Ryde NSW 2113'},\n",
       " {'pk': 3,\n",
       "  'data_record': 'William Shakespeare; 610 Bells Line of Rd, Kurmond NSW 2757'},\n",
       " {'pk': 4,\n",
       "  'data_record': 'Bill Shakespeare; 980 Bells Line of Road, Kurrajong Heights 2758 NSW'}]"
      ]
     },
     "execution_count": 167,
     "metadata": {},
     "output_type": "execute_result"
    }
   ],
   "source": [
    "res = person_lookup.query(\n",
    "  expr = \"pk >= 0\",\n",
    "  output_fields=[\"pk\",\"data_record\"]\n",
    ")\n",
    "[res1 for res1 in res]\n"
   ]
  },
  {
   "cell_type": "code",
   "execution_count": 177,
   "id": "ba9214d7",
   "metadata": {},
   "outputs": [],
   "source": [
    "default_server.stop()"
   ]
  },
  {
   "cell_type": "code",
   "execution_count": null,
   "id": "3680ce3e",
   "metadata": {},
   "outputs": [],
   "source": []
  }
 ],
 "metadata": {
  "kernelspec": {
   "display_name": "Python 3 (ipykernel)",
   "language": "python",
   "name": "python3"
  },
  "language_info": {
   "codemirror_mode": {
    "name": "ipython",
    "version": 3
   },
   "file_extension": ".py",
   "mimetype": "text/x-python",
   "name": "python",
   "nbconvert_exporter": "python",
   "pygments_lexer": "ipython3",
   "version": "3.8.15"
  }
 },
 "nbformat": 4,
 "nbformat_minor": 5
}
